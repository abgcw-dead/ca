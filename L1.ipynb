{
  "cells": [
    {
      "cell_type": "markdown",
      "metadata": {},
      "source": [
        "# Часть 1 "
      ]
    },
    {
      "cell_type": "markdown",
      "metadata": {
        "id": "5v6xWg9klfXT"
      },
      "source": [
        "### Подключаем библиотеки, display и Math для визуализации формул, numpy - для построения графиков (понадобится позже)"
      ]
    },
    {
      "cell_type": "code",
      "execution_count": 97,
      "metadata": {
        "id": "7DMrUe4aHILf"
      },
      "outputs": [],
      "source": [
        "from IPython.display import display, Math\n",
        "import numpy as np"
      ]
    },
    {
      "cell_type": "markdown",
      "metadata": {
        "id": "4EwRgUF-l2rW"
      },
      "source": [
        "### Определяем функцию для создания узла дерева для хранения целых чисел"
      ]
    },
    {
      "cell_type": "code",
      "execution_count": 98,
      "metadata": {
        "id": "twPonpZ_HMBh"
      },
      "outputs": [
        {
          "data": {
            "text/plain": [
              "('integer', {'value': -34})"
            ]
          },
          "execution_count": 98,
          "metadata": {},
          "output_type": "execute_result"
        }
      ],
      "source": [
        "def integer_(x: int) -> tuple:\n",
        "  return 'integer', {'value': x}\n",
        "\n",
        "a = integer_(-34)\n",
        "a"
      ]
    },
    {
      "cell_type": "markdown",
      "metadata": {
        "id": "CoAe7Md6mK-D"
      },
      "source": [
        "### Определите функции для доступа к компонентам узла дерева выражения:\n",
        "* ID(x) - возвращает идентификатор узла\n",
        "* items(x) - возвращает список дочерних узлов\n",
        "* options(x) - возвращает словарь с параметрами узла\n",
        "* isTerminal(x) - возвращает True, если узел --- лист, т.е. не содержит дочерних узлов\n",
        "\n",
        "*Замените ... в каждой функции на нужное выражение*"
      ]
    },
    {
      "cell_type": "code",
      "execution_count": 99,
      "metadata": {
        "id": "XCIOx0CrHQU3"
      },
      "outputs": [
        {
          "data": {
            "text/plain": [
              "('integer', (), {'value': -34}, True)"
            ]
          },
          "execution_count": 99,
          "metadata": {},
          "output_type": "execute_result"
        }
      ],
      "source": [
        "def ID(x: tuple) -> str:\n",
        "  return x[0]\n",
        "\n",
        "def items(x: tuple) -> list:\n",
        "  return x[1:-1]\n",
        "\n",
        "def options(x: tuple) -> dict:\n",
        "  return x[-1]\n",
        "\n",
        "def isTerminal(x: tuple) -> bool:\n",
        "  return len(x) == 2\n",
        "\n",
        "ID(a), items(a), options(a), isTerminal(a)"
      ]
    },
    {
      "cell_type": "markdown",
      "metadata": {
        "id": "DO-ARPPVnlA3"
      },
      "source": [
        "### Определяем функции для преобразования узла в LaTeX-выражение"
      ]
    },
    {
      "cell_type": "code",
      "execution_count": 100,
      "metadata": {
        "id": "ojW8MFE6gR6V"
      },
      "outputs": [
        {
          "data": {
            "text/plain": [
              "'-34'"
            ]
          },
          "execution_count": 100,
          "metadata": {},
          "output_type": "execute_result"
        }
      ],
      "source": [
        "def latex_(x: tuple) -> str:\n",
        "  cmd = eval(f\"latex_{ID(x)}\")\n",
        "  return cmd(x)\n",
        "\n",
        "def latex_integer(x: tuple) -> str:\n",
        "  return f\"{options(x)['value']}\"\n",
        "\n",
        "latex_(a)"
      ]
    },
    {
      "cell_type": "markdown",
      "metadata": {
        "id": "On4iSQh6nx2P"
      },
      "source": [
        "### Определяем функцию show_ для визуализации формулы, представленной деревом x"
      ]
    },
    {
      "cell_type": "code",
      "execution_count": 101,
      "metadata": {
        "id": "ClKfcPSIgvhN"
      },
      "outputs": [
        {
          "data": {
            "text/latex": [
              "$\\displaystyle -123$"
            ],
            "text/plain": [
              "<IPython.core.display.Math object>"
            ]
          },
          "metadata": {},
          "output_type": "display_data"
        },
        {
          "name": "stdout",
          "output_type": "stream",
          "text": [
            "-123\n"
          ]
        }
      ],
      "source": [
        "def show_(x: tuple) -> None:\n",
        "  display(Math(latex_(x)))\n",
        "\n",
        "show_(integer_(-123))\n",
        "print(-123)"
      ]
    },
    {
      "cell_type": "markdown",
      "metadata": {
        "id": "12pM-AO5qJGv"
      },
      "source": [
        "### Символы\n",
        "* определяем функцию для генерации узла дерева: дополните список греческих букв, см. [ссылку](https://www.overleaf.com/learn/latex/List_of_Greek_letters_and_math_symbols)\n",
        "* определяем функцию преобразования символа в LaTeX-формат\n",
        "* тестируем обе функции"
      ]
    },
    {
      "cell_type": "code",
      "execution_count": 102,
      "metadata": {
        "id": "zvTRR44JHWGE"
      },
      "outputs": [
        {
          "data": {
            "text/latex": [
              "$\\displaystyle x_{1}$"
            ],
            "text/plain": [
              "<IPython.core.display.Math object>"
            ]
          },
          "metadata": {},
          "output_type": "display_data"
        },
        {
          "data": {
            "text/latex": [
              "$\\displaystyle \\alpha$"
            ],
            "text/plain": [
              "<IPython.core.display.Math object>"
            ]
          },
          "metadata": {},
          "output_type": "display_data"
        },
        {
          "data": {
            "text/latex": [
              "$\\displaystyle \\Omega$"
            ],
            "text/plain": [
              "<IPython.core.display.Math object>"
            ]
          },
          "metadata": {},
          "output_type": "display_data"
        },
        {
          "data": {
            "text/latex": [
              "$\\displaystyle \\psi$"
            ],
            "text/plain": [
              "<IPython.core.display.Math object>"
            ]
          },
          "metadata": {},
          "output_type": "display_data"
        }
      ],
      "source": [
        "def symbol_(x: str) -> tuple:\n",
        "  greek = ['alpha', 'beta', 'gamma', 'Gamma', 'delta', 'Delta', 'epsilon', 'zeta', 'eta', 'theta', 'Theta', 'iota', \n",
        "           'kappa', 'lambda', 'Lambda', 'mu', 'nu', 'xi', 'Xi', 'pi', 'Pi', 'rho', 'sigma', 'Sigma', 'tau', 'upsilon', \n",
        "           'Upsilon', 'phi', 'Phi', 'chi', 'psi', 'Psi', 'omega', 'Omega']\n",
        "  n, s = x.split('_') if '_' in x else (x, '')\n",
        "  if n in greek:\n",
        "    n = f\"\\\\{n}\"\n",
        "  if s:\n",
        "    n = f\"{n}_{{{s}}}\"\n",
        "  return 'symbol', {'name': x, 'latex': n}\n",
        "\n",
        "def latex_symbol(x: tuple) -> str:\n",
        "  return options(x)['latex']\n",
        "\n",
        "x, alpha, omega, phi = symbol_('x_1'), symbol_('alpha'), symbol_('Omega'), symbol_('psi')\n",
        "show_(x)\n",
        "show_(alpha)\n",
        "show_(omega)\n",
        "show_(phi)"
      ]
    },
    {
      "cell_type": "markdown",
      "metadata": {
        "id": "DUE9zeXxsdAS"
      },
      "source": [
        "### Определяем функции генерации узлов для бинарных и унарных операций\n",
        "* напишите по аналогии с функцией add_ функции для остальных бинарных операций: вычитания (sub), умножения (mul), деления (div), возведения в степень (deg); логических операций (and, or, xor); операций сравнения (eq, ne, lt, le, gt, ge)\n",
        "* напишите по аналогии с функцией neg_ функцию для логического отрицания (inv)"
      ]
    },
    {
      "cell_type": "code",
      "execution_count": 103,
      "metadata": {
        "id": "sudrBI3qHntH"
      },
      "outputs": [],
      "source": [
        "def add_(x: tuple, y: tuple) -> tuple:\n",
        "  return 'add', x, y, {}\n",
        "\n",
        "def sub_(x: tuple, y: tuple) -> tuple:\n",
        "  return 'sub', x, y, {}\n",
        "\n",
        "def mul_(x: tuple, y: tuple) -> tuple:\n",
        "  return 'mul', x, y, {}\n",
        "\n",
        "def div_(x: tuple, y: tuple) -> tuple:\n",
        "  return 'div', x, y, {}\n",
        "\n",
        "def deg_(x: tuple, y: tuple) -> tuple:\n",
        "  return 'deg', x, y, {}\n",
        "\n",
        "def and_(x: tuple, y: tuple) -> tuple:\n",
        "  return 'and', x, y, {}\n",
        "\n",
        "def or_(x: tuple, y: tuple) -> tuple:\n",
        "  return 'or', x, y, {}\n",
        "\n",
        "def xor_(x: tuple, y: tuple) -> tuple:\n",
        "  return 'xor', x, y, {}\n",
        "\n",
        "def eq_(x: tuple, y: tuple) -> tuple:\n",
        "  return 'eq', x, y, {}\n",
        "\n",
        "def ne_(x: tuple, y: tuple) -> tuple:\n",
        "  return 'ne', x, y, {}\n",
        "\n",
        "def lt_(x: tuple, y: tuple) -> tuple:\n",
        "  return 'lt', x, y, {}\n",
        "\n",
        "def le_(x: tuple, y: tuple) -> tuple:\n",
        "  return 'le', x, y, {}\n",
        "\n",
        "def gt_(x: tuple, y: tuple) -> tuple:\n",
        "  return 'gt', x, y, {}\n",
        "\n",
        "def ge_(x: tuple, y: tuple) -> tuple:\n",
        "  return 'ge', x, y, {}\n",
        "\n",
        "def neg_(x: tuple) -> tuple:\n",
        "  return 'neg', x, {}\n",
        "\n",
        "def inv_(x: tuple) -> tuple:\n",
        "  return 'inv', x, {}"
      ]
    },
    {
      "cell_type": "markdown",
      "metadata": {
        "id": "gYI3t2OVwaRx"
      },
      "source": [
        "### Тестируем операции\n",
        "* создаем целое число a=34 и символы $x$ и $y$\n",
        "* создаем дерево выражения f=(a+x)*y, используя вышенаписанные функции для бинарных операций\n",
        "* печатаем это выражение (print)"
      ]
    },
    {
      "cell_type": "code",
      "execution_count": 104,
      "metadata": {
        "id": "scWSG5ZKi0I9"
      },
      "outputs": [
        {
          "name": "stdout",
          "output_type": "stream",
          "text": [
            "('add', ('mul', ('integer', {'value': 34}), ('symbol', {'name': 'x', 'latex': 'x'}), {}), ('symbol', {'name': 'y', 'latex': 'y'}), {})\n"
          ]
        }
      ],
      "source": [
        "a = integer_(34)\n",
        "x = symbol_('x')\n",
        "y = symbol_('y')\n",
        "f = add_(mul_(a, x), y)\n",
        "print(f)"
      ]
    },
    {
      "cell_type": "markdown",
      "metadata": {
        "id": "nKFPXu9PxSnA"
      },
      "source": [
        "### Создаем словарь с приоритетами всех операций\n",
        "* в соответствии с приоритетами этих же операций в языке Python: см. [ссылку](https://www.programiz.com/python-programming/precedence-associativity), приоритет логических операций and, or, xor определяется как для побитовых (bitwise) операций (&, |, ^)\n",
        "* конкретные значения приоритетов не важны, важны их относительные значения\n",
        "* создаем функцию для вычисления приоритета заданного узла\n",
        "* найдите приоритет выражения (a+x)*y из предыдущего пункта"
      ]
    },
    {
      "cell_type": "code",
      "execution_count": 105,
      "metadata": {
        "colab": {
          "base_uri": "https://localhost:8080/"
        },
        "id": "bqJJ-fvki8LS",
        "outputId": "036884e5-5b08-413e-bde8-830633ed092f"
      },
      "outputs": [
        {
          "name": "stdout",
          "output_type": "stream",
          "text": [
            "6\n"
          ]
        }
      ],
      "source": [
        "priority = {'deg': 9, 'neg': 8, 'mul': 7, 'div': 7, 'add': 6, 'sub': 6, 'and': 5, 'xor': 4, 'or': 3, 'eq': 2, 'ne': 2, 'lt': 2, 'le': 2, 'gt': 2, 'ge': 2, 'inv': 1}\n",
        "\n",
        "def Pr(x: tuple) -> int:\n",
        "  return priority.get(ID(x), 10)\n",
        "\n",
        "print(Pr(f))"
      ]
    },
    {
      "cell_type": "markdown",
      "metadata": {
        "id": "BjYNDwXC1lBe"
      },
      "source": [
        "### Определяем функцию \"оборачивания\" заданного LaTeX-выражения в круглые скобки \"адаптивного\" размера\n",
        "\n",
        "Сравните размер скобок: `(\\frac{x^2}{y^3})` $\\to (\\frac{x^2}{y^3})$ и `\\left(\\frac{x^2}{y^3}\\right)` $\\to \\left(\\frac{x^2}{y^3}\\right)$"
      ]
    },
    {
      "cell_type": "code",
      "execution_count": 106,
      "metadata": {
        "id": "NuP8AUwKjX4j"
      },
      "outputs": [],
      "source": [
        "def enclose(x: str) -> str:\n",
        "  return f\"\\\\left( {x} \\\\right)\""
      ]
    },
    {
      "cell_type": "markdown",
      "metadata": {
        "id": "ys2WAMXh1xhL"
      },
      "source": [
        "### Определяем функции преобразования всех введенных бинарных и унарных операций в формат LaTeX\n",
        "* отдельным образом определяются операции возведения в степень $x^y$ и деления $\\frac{x}{y}$\n",
        "* для логических операций используем обозначения $\\neg x$, $x \\wedge y$, $x \\vee y$, $x \\oplus y$\n",
        "* чтобы посмотреть код этой вкладки, сделайте ЗДЕСЬ двойной клик"
      ]
    },
    {
      "cell_type": "code",
      "execution_count": 107,
      "metadata": {
        "id": "2cWnKK9ljmCW"
      },
      "outputs": [
        {
          "data": {
            "text/latex": [
              "$\\displaystyle 34 \\cdot x + y$"
            ],
            "text/plain": [
              "<IPython.core.display.Math object>"
            ]
          },
          "metadata": {},
          "output_type": "display_data"
        }
      ],
      "source": [
        "def latex_add(x: tuple) -> str:\n",
        "  a, b = latex_(x[1]), latex_(x[2])\n",
        "  if Pr(x[1]) < Pr(x):\n",
        "    a = enclose(a)\n",
        "  if Pr(x[2]) <= Pr(x):\n",
        "    b = enclose(b)\n",
        "  return f\"{a} + {b}\"\n",
        "\n",
        "def latex_mul(x: tuple) -> str:\n",
        "  a, b = latex_(x[1]), latex_(x[2])\n",
        "  if Pr(x[1]) < Pr(x):\n",
        "    a = enclose(a)\n",
        "  if Pr(x[2]) <= Pr(x):\n",
        "    b = enclose(b)\n",
        "  return f\"{a} \\\\cdot {b}\"\n",
        "\n",
        "def latex_sub(x: tuple) -> str:\n",
        "  a, b = latex_(x[1]), latex_(x[2])\n",
        "  if Pr(x[1]) < Pr(x):\n",
        "    a = enclose(a)\n",
        "  if Pr(x[2]) <= Pr(x) or ID(x[2]) == 'neg':  # взятие в скобки, если в вычитаемом есть унарный минус\n",
        "    b = enclose(b)\n",
        "  return f\"{a} - {b}\"\n",
        "\n",
        "def latex_div(x: tuple) -> str:\n",
        "  a, b = latex_(x[1]), latex_(x[2])\n",
        "  return f\"\\\\frac{{{a}}}{{{b}}}\"\n",
        "\n",
        "def latex_deg(x: tuple) -> str:\n",
        "  a, b = latex_(x[1]), latex_(x[2])\n",
        "  if Pr(x[1]) < Pr(x) or (ID(x[1]) == 'rational' and options(x[1])['num'] != 0 and options(x[1])['denom'] != 1):\n",
        "    a = enclose(a)\n",
        "  if Pr(x[2]) <= Pr(x):\n",
        "    b = enclose(b)\n",
        "  return f\"{a}^{b}\"\n",
        "\n",
        "def latex_neg(x: tuple) -> str:\n",
        "  a = latex_(x[1])\n",
        "  if ID(x[1]) == 'integer' and options(x[1])['value'] < 0:  # взятие в скобки, если число после унарного минуса отрицательное\n",
        "    a = enclose(a)\n",
        "  return f\"-{a}\"\n",
        "\n",
        "def latex_inv(x: tuple) -> str:\n",
        "  a = latex_(x[1])\n",
        "  return f\"\\\\neg {a}\"\n",
        "\n",
        "def latex_and(x: tuple) -> str:\n",
        "  a, b = latex_(x[1]), latex_(x[2])\n",
        "  if Pr(x[1]) < Pr(x):\n",
        "    a = enclose(a)\n",
        "  if Pr(x[2]) <= Pr(x):\n",
        "    b = enclose(b)\n",
        "  return f\"{a} \\\\wedge {b}\"\n",
        "\n",
        "def latex_or(x: tuple) -> str:\n",
        "  a, b = latex_(x[1]), latex_(x[2])\n",
        "  if Pr(x[1]) < Pr(x):\n",
        "    a = enclose(a)\n",
        "  if Pr(x[2]) <= Pr(x):\n",
        "    b = enclose(b)\n",
        "  return f\"{a} \\\\vee {b}\"\n",
        "\n",
        "def latex_xor(x: tuple) -> str:\n",
        "  a, b = latex_(x[1]), latex_(x[2])\n",
        "  if Pr(x[1]) < Pr(x):\n",
        "    a = enclose(a)\n",
        "  if Pr(x[2]) <= Pr(x):\n",
        "    b = enclose(b)\n",
        "  return f\"{a} \\\\oplus {b}\"\n",
        "\n",
        "def latex_eq(x:tuple) -> str:\n",
        "  a, b = latex_(x[1]), latex_(x[2])\n",
        "  if Pr(x[1]) < Pr(x):\n",
        "    a = enclose(a)\n",
        "  if Pr(x[2]) <= Pr(x):\n",
        "    b = enclose(b)\n",
        "  return f\"{a} = {b}\"\n",
        "\n",
        "def latex_ne(x:tuple) -> str:\n",
        "  a, b = latex_(x[1]), latex_(x[2])\n",
        "  if Pr(x[1]) < Pr(x):\n",
        "    a = enclose(a)\n",
        "  if Pr(x[2]) <= Pr(x):\n",
        "    b = enclose(b)\n",
        "  return f\"{a} \\\\ne {b}\"\n",
        "\n",
        "def latex_lt(x:tuple) -> str:\n",
        "  a, b = latex_(x[1]), latex_(x[2])\n",
        "  if Pr(x[1]) < Pr(x):\n",
        "    a = enclose(a)\n",
        "  if Pr(x[2]) <= Pr(x):\n",
        "    b = enclose(b)\n",
        "  return f\"{a} < {b}\"\n",
        "\n",
        "def latex_le(x:tuple) -> str:\n",
        "  a, b = latex_(x[1]), latex_(x[2])\n",
        "  if Pr(x[1]) < Pr(x):\n",
        "    a = enclose(a)\n",
        "  if Pr(x[2]) <= Pr(x):\n",
        "    b = enclose(b)\n",
        "  return f\"{a} \\leq {b}\"\n",
        "\n",
        "def latex_gt(x:tuple) -> str:\n",
        "  a, b = latex_(x[1]), latex_(x[2])\n",
        "  if Pr(x[1]) < Pr(x):\n",
        "    a = enclose(a)\n",
        "  if Pr(x[2]) <= Pr(x):\n",
        "    b = enclose(b)\n",
        "  return f\"{a} > {b}\"\n",
        "\n",
        "def latex_ge(x:tuple) -> str:\n",
        "  a, b = latex_(x[1]), latex_(x[2])\n",
        "  if Pr(x[1]) < Pr(x):\n",
        "    a = enclose(a)\n",
        "  if Pr(x[2]) <= Pr(x):\n",
        "    b = enclose(b)\n",
        "  return f\"{a} \\geq {b}\"\n",
        "\n",
        "show_(f)"
      ]
    },
    {
      "cell_type": "markdown",
      "metadata": {
        "id": "Cu8IGszl32RF"
      },
      "source": [
        "### Протестируйте определенные функции на различных выражениях\n",
        "* опциональное (бонусное) задание: проверьте как работают построенные функции на выражениях с унарным минусом и отрицательными числами, придумайте решение найденных проблем (если проблемы не найдены, то задание не засчитывается!)\n",
        "\n",
        "*Варианты решения:*\n",
        "- Можно добавить проверки при формировании узлов, т.е. если \"ID\" у \"x\" - это унарный минус и текущий узел sub, то заменять текущий узел на add и убирать узел neg.\n",
        "- Можно брать выражение в скобки, если в вычитаемом есть унарный минус или если число после унарного минуса отрицательное"
      ]
    },
    {
      "cell_type": "code",
      "execution_count": 108,
      "metadata": {
        "id": "AhyPebnn3-Qu"
      },
      "outputs": [
        {
          "data": {
            "text/latex": [
              "$\\displaystyle \\frac{x - \\left( -\\left( -12 \\right) \\right)}{y}$"
            ],
            "text/plain": [
              "<IPython.core.display.Math object>"
            ]
          },
          "metadata": {},
          "output_type": "display_data"
        },
        {
          "data": {
            "text/latex": [
              "$\\displaystyle -z$"
            ],
            "text/plain": [
              "<IPython.core.display.Math object>"
            ]
          },
          "metadata": {},
          "output_type": "display_data"
        }
      ],
      "source": [
        "c = integer_(-12)\n",
        "z = symbol_('z')\n",
        "f1 = div_(sub_(x, neg_(c)), y)\n",
        "f2 = neg_(z)\n",
        "show_(f1)\n",
        "show_(f2)"
      ]
    },
    {
      "cell_type": "markdown",
      "metadata": {
        "id": "h96qLnvI3_wt"
      },
      "source": [
        "### Определяем класс Expression - обертку для списочных выражений\n",
        "* включите в него перегрузку всех необходимых бинарных и унарных операций\n",
        "* определяем функцию fix для принудительного приведения заданного целого числа к объекту класса Expression\n",
        "* опциональное (бонусное) задание: включите перегрузку тех же бинарных операций с \"правым\" аргументом (radd, rmul и т.д.)\n"
      ]
    },
    {
      "cell_type": "code",
      "execution_count": 109,
      "metadata": {
        "id": "XHS90CijsBhk"
      },
      "outputs": [],
      "source": [
        "class Expression:\n",
        "  def __init__(self, x):\n",
        "    self.T = x\n",
        "\n",
        "  def __add__(self, x):\n",
        "    return Expression(add_(self.T, fix(x).T))\n",
        "  \n",
        "  def __radd__(self, x):\n",
        "    return Expression(add_(fix(x).T, self.T))\n",
        "\n",
        "  def __mul__(self, x):\n",
        "    return Expression(mul_(self.T, fix(x).T))\n",
        "  \n",
        "  def __rmul__(self, x):\n",
        "    return Expression(mul_(fix(x).T, self.T))\n",
        "  \n",
        "  def __sub__(self, x):\n",
        "    return Expression(sub_(self.T, fix(x).T))\n",
        "  \n",
        "  def __rsub__(self, x):\n",
        "    return Expression(sub_(fix(x).T, self.T))\n",
        "  \n",
        "  def __truediv__(self, x):\n",
        "    return Expression(div_(self.T, fix(x).T))\n",
        "  \n",
        "  def __rtruediv__(self, x):\n",
        "    return Expression(div_(fix(x).T, self.T))\n",
        "  \n",
        "  def __pow__(self, x):\n",
        "    return Expression(deg_(self.T, fix(x).T))\n",
        "  \n",
        "  def __rpow__(self, x):\n",
        "    return Expression(deg_(fix(x).T, self.T))\n",
        "  \n",
        "  def __neg__(self):\n",
        "    return Expression(neg_(self.T))\n",
        "  \n",
        "  def __invert__(self):\n",
        "    return Expression(inv_(self.T))\n",
        "  \n",
        "  def __and__(self, x):\n",
        "    return Expression(and_(self.T, fix(x).T))\n",
        "  \n",
        "  def __rand__(self, x):\n",
        "    return Expression(and_(fix(x).T, self.T))\n",
        "  \n",
        "  def __or__(self, x):\n",
        "    return Expression(or_(self.T, fix(x).T))\n",
        "  \n",
        "  def __ror__(self, x):\n",
        "    return Expression(or_(fix(x).T, self.T))\n",
        "  \n",
        "  def __xor__(self, x):\n",
        "    return Expression(xor_(self.T, fix(x).T))\n",
        "  \n",
        "  def __rxor__(self, x):\n",
        "    return Expression(xor_(fix(x).T, self.T))\n",
        "  \n",
        "  def __eq__(self, x):\n",
        "    return Expression(eq_(self.T, fix(x).T))\n",
        "  \n",
        "  def __ne__(self, x):\n",
        "    return Expression(ne_(self.T, fix(x).T))\n",
        "  \n",
        "  def __lt__(self, x):\n",
        "    return Expression(lt_(self.T, fix(x).T))\n",
        "  \n",
        "  def __le__(self, x):\n",
        "    return Expression(le_(self.T, fix(x).T))\n",
        "  \n",
        "  def __gt__(self, x):\n",
        "    return Expression(gt_(self.T, fix(x).T))\n",
        "  \n",
        "  def __ge__(self, x):\n",
        "    return Expression(ge_(self.T, fix(x).T))\n",
        "\n",
        "def fix(x):\n",
        "  if isinstance(x, int):\n",
        "    return Expression(integer_(x))\n",
        "  return x"
      ]
    },
    {
      "cell_type": "markdown",
      "metadata": {
        "id": "fjtKXvmC9Ahq"
      },
      "source": [
        "### Создаем обертки для функций integer_  и symbol_\n",
        "* опциональное (бонусное) задание: напишите функцию symbols, которая позволяет создавать сразу несколько символьных переменных: `x, y, z = symbols('x y z')`"
      ]
    },
    {
      "cell_type": "code",
      "execution_count": 110,
      "metadata": {
        "id": "eUzYyRY2sfoH"
      },
      "outputs": [],
      "source": [
        "def Z(x: int) -> Expression:\n",
        "  return Expression(integer_(x))\n",
        "\n",
        "def symbol(x: str) -> Expression:\n",
        "  return Expression(symbol_(x))\n",
        "\n",
        "def symbols(x: str):\n",
        "  elements = x.split()\n",
        "  for i in range(len(elements)):\n",
        "    elements[i] = Expression(symbol_(elements[i]))\n",
        "  return elements"
      ]
    },
    {
      "cell_type": "markdown",
      "metadata": {
        "id": "8MkumMSn9VOD"
      },
      "source": [
        "### Определяем функцию show вывода выражений, заданных классом Expression\n",
        "* протестируйте работу всех функций на различных выражениях"
      ]
    },
    {
      "cell_type": "code",
      "execution_count": 111,
      "metadata": {
        "id": "VUJgZQSo9Unz"
      },
      "outputs": [
        {
          "data": {
            "text/latex": [
              "$\\displaystyle \\frac{13}{x_{2}}$"
            ],
            "text/plain": [
              "<IPython.core.display.Math object>"
            ]
          },
          "metadata": {},
          "output_type": "display_data"
        },
        {
          "data": {
            "text/latex": [
              "$\\displaystyle 13 \\cdot x_{2} \\cdot y_{1} \\cdot y_{2} - \\left( x_{2} - \\alpha \\right)$"
            ],
            "text/plain": [
              "<IPython.core.display.Math object>"
            ]
          },
          "metadata": {},
          "output_type": "display_data"
        },
        {
          "data": {
            "text/latex": [
              "$\\displaystyle \\frac{1}{y_{1} - y_{2}} \\cdot y_{3}$"
            ],
            "text/plain": [
              "<IPython.core.display.Math object>"
            ]
          },
          "metadata": {},
          "output_type": "display_data"
        }
      ],
      "source": [
        "def show(x: Expression) -> None:\n",
        "  show_(x.T)\n",
        "\n",
        "a, x = Z(13), symbol('x_2')\n",
        "show(a / x)\n",
        "y1, y2, y3 = symbols('y_1 y_2 y_3')\n",
        "f = a * x * y1 * y2\n",
        "alpha = symbol('alpha')\n",
        "g = x - alpha\n",
        "show(f - g)\n",
        "show(Z(1) / (y1 - y2) * y3)"
      ]
    },
    {
      "cell_type": "markdown",
      "metadata": {
        "id": "UiUK2dPrJvgt"
      },
      "source": [
        "### Визуализация дерева выражения\n",
        "Дополнительные задания:\n",
        "\n",
        "* в арифметических узлах должны быть показаны значки операций, а не слова (+ вместо add и т.д.)\n",
        "* терминальные узлы должны быть выделены отдельным цветом"
      ]
    },
    {
      "cell_type": "code",
      "execution_count": 112,
      "metadata": {
        "id": "Wik7kxSBl-yv"
      },
      "outputs": [
        {
          "name": "stderr",
          "output_type": "stream",
          "text": [
            "C:\\Users\\andre\\AppData\\Local\\Temp\\ipykernel_21196\\1453488358.py:24: DeprecationWarning: nx.nx_pydot.graphviz_layout depends on the pydot package, which hasknown issues and is not actively maintained. Consider usingnx.nx_agraph.graphviz_layout instead.\n",
            "\n",
            "See https://github.com/networkx/networkx/issues/5723\n",
            "  pos = graphviz_layout(graph, prog=\"dot\")\n"
          ]
        },
        {
          "data": {
            "image/png": "[encoded data removed]",
            "text/plain": [
              "<Figure size 300x300 with 1 Axes>"
            ]
          },
          "metadata": {},
          "output_type": "display_data"
        }
      ],
      "source": [
        "import matplotlib\n",
        "import matplotlib.pyplot as plt\n",
        "import networkx as nx\n",
        "from networkx.drawing.nx_pydot import graphviz_layout\n",
        "from networkx.readwrite import json_graph\n",
        "\n",
        "def makeGraph(x: tuple, nodes: list, labels: list, links: list) -> int:\n",
        "  id_ = len(nodes)\n",
        "  nodes.append({'id': id_})\n",
        "  if isTerminal(x):\n",
        "    labels[id_] = f'${latex_(x)}$'\n",
        "  else:\n",
        "    labels[id_] = x[0]\n",
        "    for a in x[1:]:\n",
        "      if isinstance(a, tuple):\n",
        "        cid = makeGraph(a, nodes, labels, links)\n",
        "        links.append({'source': id_, 'target': cid})\n",
        "  return id_\n",
        "\n",
        "def drawGraph_(x: tuple, size) -> None:\n",
        "  nodes, labels, links = [], {}, []\n",
        "  makeGraph(x, nodes, labels, links)\n",
        "  graph = json_graph.node_link_graph({'nodes': nodes, 'links': links}, directed=True, multigraph=False)\n",
        "  pos = graphviz_layout(graph, prog=\"dot\")\n",
        "  fig, ax = plt.subplots(figsize=(3 * size, 3 * size))\n",
        "  ax.set_axis_off()\n",
        "  nx.draw_networkx_edges(graph.to_directed(), pos, ax = ax, edge_color=\"black\")\n",
        "  nx.draw_networkx_labels(graph.to_directed(), pos, labels = labels, font_color = \"blue\")\n",
        "\n",
        "def drawGraph(x: Expression, size: float = 1) -> None:\n",
        "  drawGraph_(x.T, size)\n",
        "\n",
        "x, y = symbol('x'), symbol('y')\n",
        "drawGraph((x + y) / Z(34))"
      ]
    },
    {
      "cell_type": "markdown",
      "metadata": {},
      "source": [
        "# Часть 2"
      ]
    },
    {
      "cell_type": "markdown",
      "metadata": {},
      "source": [
        "### Факторизация\n",
        "\n",
        "* Напишите функцию `factors(x)`, которая возвращает разложение заданного натурального числа $x$ на простые множители в виде списка этих множителей: factors`(12)` $\\to$ `[2, 2, 3]`."
      ]
    },
    {
      "cell_type": "code",
      "execution_count": 113,
      "metadata": {},
      "outputs": [
        {
          "data": {
            "text/plain": [
              "[2, 2, 2, 3, 5]"
            ]
          },
          "execution_count": 113,
          "metadata": {},
          "output_type": "execute_result"
        }
      ],
      "source": [
        "def factors(x: int) -> list:\n",
        "    multipliers = []\n",
        "    temp = x\n",
        "    d = 2\n",
        "    while temp != 1:\n",
        "        if temp % d != 0:\n",
        "            d += 1\n",
        "        else:\n",
        "            temp /= d\n",
        "            multipliers.append(d)\n",
        "    return multipliers\n",
        "\n",
        "factors(120)"
      ]
    },
    {
      "cell_type": "markdown",
      "metadata": {},
      "source": [
        "* Напишите функцию `factorizeInt(x)`, которая преобразует заданное число `x` в произведение простых сомножителей в форме **выражения** (класс `Expression`), повторяющиеся сомножители должны входить в выражение в форме степеней: `factorizeInt(120)` $\\to 2^3\\cdot 3\\cdot 5$.  "
      ]
    },
    {
      "cell_type": "code",
      "execution_count": 114,
      "metadata": {},
      "outputs": [
        {
          "data": {
            "text/latex": [
              "$\\displaystyle 7^2 \\cdot 11 \\cdot 13$"
            ],
            "text/plain": [
              "<IPython.core.display.Math object>"
            ]
          },
          "metadata": {},
          "output_type": "display_data"
        }
      ],
      "source": [
        "def factorizeInt(x: int) -> Expression:\n",
        "    multipliers = factors(x)\n",
        "    multipliers_uniq = sorted(list(set(multipliers)))\n",
        "\n",
        "    c = multipliers.count(multipliers_uniq[0])\n",
        "    if c == 1:\n",
        "        result = Z(multipliers_uniq[0])\n",
        "    else:\n",
        "        result = Z(multipliers_uniq[0]) ** Z(multipliers.count(multipliers_uniq[0]))\n",
        "\n",
        "    for i in range(1, len(multipliers_uniq)):\n",
        "        c = multipliers.count(multipliers_uniq[i])\n",
        "        if c == 1:\n",
        "            result *= Z(multipliers_uniq[i])\n",
        "        else:\n",
        "            result *= Z(multipliers_uniq[i]) ** Z(multipliers.count(multipliers_uniq[i]))\n",
        "    return result\n",
        "    \n",
        "\n",
        "\n",
        "show(factorizeInt(7007))"
      ]
    },
    {
      "cell_type": "markdown",
      "metadata": {},
      "source": [
        "### Наибольший общий делитель\n",
        "\n",
        "* Реализуйте алгоритм Евклида в виде функции `GCD(n, m)`."
      ]
    },
    {
      "cell_type": "code",
      "execution_count": 115,
      "metadata": {},
      "outputs": [
        {
          "data": {
            "text/plain": [
              "24"
            ]
          },
          "execution_count": 115,
          "metadata": {},
          "output_type": "execute_result"
        }
      ],
      "source": [
        "def GCD(n: int, m: int) -> int:\n",
        "    while m > 0:\n",
        "        n, m = m, n % m\n",
        "    return n\n",
        "\n",
        "GCD(120, 48)"
      ]
    },
    {
      "cell_type": "markdown",
      "metadata": {},
      "source": [
        "### Реализация рациональных чисел\n",
        "\n",
        "* Создаем функцию-конструктор `rational_(n,m)` узлов для рациональных чисел. В каждом таком узле должно храниться нормализованное представление заданного числа."
      ]
    },
    {
      "cell_type": "code",
      "execution_count": 116,
      "metadata": {},
      "outputs": [],
      "source": [
        "def rational_(n: int, m: int) -> tuple:\n",
        "  if n == 0:\n",
        "    m = 1 # нормализованное представление нуля - (0, 1)\n",
        "  else:\n",
        "    if m < 0:\n",
        "      n, m = -n, -m # знаменатель должен быть положительным\n",
        "    c = GCD(abs(n), m)\n",
        "    n, m = n // c, m // c # приводим дробь к несократимому виду\n",
        "  return 'rational', {'num': n, 'denom': m} # num - числитель (numerator), denom - знаменатель (denominator)"
      ]
    },
    {
      "cell_type": "markdown",
      "metadata": {},
      "source": [
        "* Пишем функцию `Q(n,m)` для создания выражения, представляющего рациональное число $n/m$. Знаменатель `m` по умолчанию равен `1`."
      ]
    },
    {
      "cell_type": "code",
      "execution_count": 117,
      "metadata": {},
      "outputs": [
        {
          "data": {
            "text/plain": [
              "('rational', {'num': -1, 'denom': 3})"
            ]
          },
          "execution_count": 117,
          "metadata": {},
          "output_type": "execute_result"
        }
      ],
      "source": [
        "def Q(n: int, m: int = 1) -> Expression:\n",
        "  return Expression(rational_(n, m))\n",
        "\n",
        "Q(2, -6).T"
      ]
    },
    {
      "cell_type": "markdown",
      "metadata": {},
      "source": [
        "* Напишите функцию `latex_rational(x)`, преобразующую рациональное число $x$ в формат LaTeX. Это преобразование должно учитывать, является ли число целым (единичный знаменатель не используется), для отрицательных чисел знак минус ставится перед числом, а не в числителе:\n",
        "`Q(0, 5)` $\\to 0$, `Q(6, -2)` $\\to 3$, `Q(6, 8)` $\\to \\dfrac{3}{4}$, `Q(-15, 25)` $\\to -\\dfrac{3}{5}$."
      ]
    },
    {
      "cell_type": "code",
      "execution_count": 118,
      "metadata": {},
      "outputs": [
        {
          "data": {
            "text/latex": [
              "$\\displaystyle 0$"
            ],
            "text/plain": [
              "<IPython.core.display.Math object>"
            ]
          },
          "metadata": {},
          "output_type": "display_data"
        },
        {
          "data": {
            "text/latex": [
              "$\\displaystyle -3$"
            ],
            "text/plain": [
              "<IPython.core.display.Math object>"
            ]
          },
          "metadata": {},
          "output_type": "display_data"
        },
        {
          "data": {
            "text/latex": [
              "$\\displaystyle \\frac{3}{4}$"
            ],
            "text/plain": [
              "<IPython.core.display.Math object>"
            ]
          },
          "metadata": {},
          "output_type": "display_data"
        },
        {
          "data": {
            "text/latex": [
              "$\\displaystyle -\\frac{3}{5}$"
            ],
            "text/plain": [
              "<IPython.core.display.Math object>"
            ]
          },
          "metadata": {},
          "output_type": "display_data"
        }
      ],
      "source": [
        "def latex_rational(x: tuple) -> str:\n",
        "  n, m = options(x)['num'], options(x)['denom']\n",
        "  if n == 0 or m == 1:\n",
        "    return f\"{n}\"\n",
        "  elif n > 0:\n",
        "    return f\"\\\\frac{{{abs(n)}}}{{{m}}}\"\n",
        "  else:\n",
        "    return f\"-\\\\frac{{{abs(n)}}}{{{m}}}\"\n",
        "\n",
        "show(Q(0, 5))\n",
        "show(Q(6, -2))\n",
        "show(Q(6, 8))\n",
        "show(Q(-15, 25))"
      ]
    },
    {
      "cell_type": "markdown",
      "metadata": {},
      "source": [
        "* Проверяем, что рациональные числа могут быть теперь использованы для построения арифметический выражений"
      ]
    },
    {
      "cell_type": "code",
      "execution_count": 119,
      "metadata": {},
      "outputs": [
        {
          "data": {
            "text/latex": [
              "$\\displaystyle \\frac{1 + \\frac{3}{2}}{\\left( \\frac{19}{3} \\right)^2 \\cdot \\frac{5}{7}}$"
            ],
            "text/plain": [
              "<IPython.core.display.Math object>"
            ]
          },
          "metadata": {},
          "output_type": "display_data"
        }
      ],
      "source": [
        "show((1 + Q(6, 4)) / (Q(152, 24) ** 2 * Q(5, 7)))"
      ]
    },
    {
      "cell_type": "markdown",
      "metadata": {},
      "source": [
        "### Цепные дроби\n",
        "\n",
        "* Напишите функцию `continuedTerms(n,m)`, которая преобразует заданное рациональное число $n/m$ в цепную дробь \\[$a_0$; $a_1$, $a_2$, ...\\] и возвращает результат в виде списка: `continuedTerms(15,11)` $\\to$ `[1,2,1,3]`.   "
      ]
    },
    {
      "cell_type": "code",
      "execution_count": 120,
      "metadata": {},
      "outputs": [
        {
          "data": {
            "text/plain": [
              "[1, 2, 1, 3]"
            ]
          },
          "execution_count": 120,
          "metadata": {},
          "output_type": "execute_result"
        }
      ],
      "source": [
        "def continuedTerms(n: int, m: int) -> list:\n",
        "    result = list()\n",
        "    k = 0\n",
        "    while m > 0:\n",
        "        result.append(n // m)\n",
        "        n, m = m, n % m\n",
        "        k += 1\n",
        "    return result\n",
        "\n",
        "\n",
        "continuedTerms(15, 11)"
      ]
    },
    {
      "cell_type": "markdown",
      "metadata": {},
      "source": [
        "* Напишите функцию, которая строит выражение, представляющее цепную дробь, в виде объекта класса `Expression`."
      ]
    },
    {
      "cell_type": "code",
      "execution_count": 121,
      "metadata": {},
      "outputs": [
        {
          "data": {
            "text/latex": [
              "$\\displaystyle 1 + \\frac{1}{2 + \\frac{1}{1 + \\frac{1}{3}}}$"
            ],
            "text/plain": [
              "<IPython.core.display.Math object>"
            ]
          },
          "metadata": {},
          "output_type": "display_data"
        }
      ],
      "source": [
        "def continuedFraction(p: Expression) -> Expression:\n",
        "  n, m = options(p.T)['num'], options(p.T)['denom'] # предполагаем, что p - рациональное число!\n",
        "  A = continuedTerms(n, m) # находим элементы цепной дроби\n",
        "  result = Z(A[-1])\n",
        "  for i in range(len(A) - 2, -1, -1):\n",
        "    result = Z(A[i]) + 1 / result\n",
        "  return result\n",
        "\n",
        "show(continuedFraction(Q(15, 11)))"
      ]
    },
    {
      "cell_type": "markdown",
      "metadata": {},
      "source": [
        "* (бонусное задание) Напишите функцию `float2continued(x,n)`, преобразующую заданное действительное число $x$ в цепную дробь \"глубины\" $n$: `float2continued(np.sqrt(2),4)` $\\to 1 + \\frac1{2+\\frac1{2+\\frac1{2}}}$"
      ]
    },
    {
      "cell_type": "code",
      "execution_count": 122,
      "metadata": {},
      "outputs": [
        {
          "data": {
            "text/latex": [
              "$\\displaystyle 1 + \\frac{1}{2 + \\frac{1}{2 + \\frac{1}{2}}}$"
            ],
            "text/plain": [
              "<IPython.core.display.Math object>"
            ]
          },
          "metadata": {},
          "output_type": "display_data"
        },
        {
          "data": {
            "text/latex": [
              "$\\displaystyle 3 + \\frac{1}{7 + \\frac{1}{15 + \\frac{1}{1 + \\frac{1}{292}}}}$"
            ],
            "text/plain": [
              "<IPython.core.display.Math object>"
            ]
          },
          "metadata": {},
          "output_type": "display_data"
        },
        {
          "data": {
            "text/latex": [
              "$\\displaystyle 1 + \\frac{1}{2 + \\frac{1}{2 + \\frac{1}{2 + \\frac{1}{2}}}}$"
            ],
            "text/plain": [
              "<IPython.core.display.Math object>"
            ]
          },
          "metadata": {},
          "output_type": "display_data"
        },
        {
          "data": {
            "text/latex": [
              "$\\displaystyle 2 + \\frac{1}{1 + \\frac{1}{2 + \\frac{1}{1 + \\frac{1}{1}}}}$"
            ],
            "text/plain": [
              "<IPython.core.display.Math object>"
            ]
          },
          "metadata": {},
          "output_type": "display_data"
        },
        {
          "data": {
            "text/latex": [
              "$\\displaystyle 1 + \\frac{1}{1 + \\frac{1}{1 + \\frac{1}{1 + \\frac{1}{1}}}}$"
            ],
            "text/plain": [
              "<IPython.core.display.Math object>"
            ]
          },
          "metadata": {},
          "output_type": "display_data"
        }
      ],
      "source": [
        "def float2continued(x: float, n: int) -> Expression:\n",
        "  elements = list()\n",
        "  k = 0\n",
        "  while k < n:\n",
        "    a = int(x)\n",
        "    x = 1 / (x - a)\n",
        "    elements.append(a)\n",
        "    k += 1\n",
        "  \n",
        "  result = Z(elements[-1])\n",
        "  for i in range(len(elements) - 2, -1, -1):\n",
        "    result = Z(elements[i]) + 1 / result\n",
        "  return result\n",
        "\n",
        "show(float2continued(np.sqrt(2), 4))\n",
        "show(float2continued(np.pi, 5))\n",
        "show(float2continued(np.sqrt(2), 5))\n",
        "show(float2continued(np.exp(1), 5))\n",
        "show(float2continued((np.sqrt(5)+1)/2, 5))"
      ]
    },
    {
      "cell_type": "markdown",
      "metadata": {},
      "source": [
        "### Египетские дроби\n",
        "\n",
        "* Напишите функцию `egyptianTerms(n,m)` разложения заданного рационального числа $n/m$ (в предположении $n < m$) в египетскую дробь, возвращающую список знаменателей найденных простых дробей: `egyptianTerms(7, 8)` $\\to$ `[2, 3, 24]`."
      ]
    },
    {
      "cell_type": "code",
      "execution_count": 123,
      "metadata": {},
      "outputs": [],
      "source": [
        "def egyptianTerms(n: int, m: int) -> list:\n",
        "  ...\n",
        "\n",
        "egyptianTerms(7, 8)"
      ]
    },
    {
      "cell_type": "markdown",
      "metadata": {},
      "source": [
        "* Напишите функцию, которая строит выражение, представляющее египетскую дробь, в виде объекта класса `Expression`: `egyptianSum(7,8)` $\\to \\frac12 + \\frac13 + \\frac1{24}$."
      ]
    },
    {
      "cell_type": "code",
      "execution_count": 124,
      "metadata": {},
      "outputs": [
        {
          "ename": "AttributeError",
          "evalue": "'NoneType' object has no attribute 'T'",
          "output_type": "error",
          "traceback": [
            "\u001b[1;31m---------------------------------------------------------------------------\u001b[0m",
            "\u001b[1;31mAttributeError\u001b[0m                            Traceback (most recent call last)",
            "\u001b[1;32md:\\Programming\\CA\\ca\\L1.ipynb Cell 58\u001b[0m line \u001b[0;36m6\n\u001b[0;32m      <a href='vscode-notebook-cell:/d%3A/Programming/CA/ca/L1.ipynb#Y111sZmlsZQ%3D%3D?line=2'>3</a>\u001b[0m   A \u001b[39m=\u001b[39m egyptianTerms(n, m)\n\u001b[0;32m      <a href='vscode-notebook-cell:/d%3A/Programming/CA/ca/L1.ipynb#Y111sZmlsZQ%3D%3D?line=3'>4</a>\u001b[0m   \u001b[39m.\u001b[39m\u001b[39m.\u001b[39m\u001b[39m.\u001b[39m\n\u001b[1;32m----> <a href='vscode-notebook-cell:/d%3A/Programming/CA/ca/L1.ipynb#Y111sZmlsZQ%3D%3D?line=5'>6</a>\u001b[0m show(egyptianSum(Q(\u001b[39m7\u001b[39;49m, \u001b[39m8\u001b[39;49m)))\n",
            "\u001b[1;32md:\\Programming\\CA\\ca\\L1.ipynb Cell 58\u001b[0m line \u001b[0;36m2\n\u001b[0;32m      <a href='vscode-notebook-cell:/d%3A/Programming/CA/ca/L1.ipynb#Y111sZmlsZQ%3D%3D?line=0'>1</a>\u001b[0m \u001b[39mdef\u001b[39;00m \u001b[39mshow\u001b[39m(x: Expression) \u001b[39m-\u001b[39m\u001b[39m>\u001b[39m \u001b[39mNone\u001b[39;00m:\n\u001b[1;32m----> <a href='vscode-notebook-cell:/d%3A/Programming/CA/ca/L1.ipynb#Y111sZmlsZQ%3D%3D?line=1'>2</a>\u001b[0m   show_(x\u001b[39m.\u001b[39;49mT)\n",
            "\u001b[1;31mAttributeError\u001b[0m: 'NoneType' object has no attribute 'T'"
          ]
        }
      ],
      "source": [
        "def egyptianSum(p: Expression) -> Expression:\n",
        "  n, m = options(p.T)['num'], options(p.T)['denom']\n",
        "  A = egyptianTerms(n, m)\n",
        "  ...\n",
        "\n",
        "show(egyptianSum(Q(7, 8)))"
      ]
    },
    {
      "cell_type": "markdown",
      "metadata": {},
      "source": [
        "### Частичное оценивание арифметических выражений\n",
        "\n",
        "В большинстве систем КА выражения, заданные пользователем, сразу же упрощаются, в частности, в них вычисляется все, что может быть вычислено.\n",
        "В частности, если выражение является арифметическим и содержит только целые и рациональные числа, то это выражение преобразуется в рациональное число, например: $$\\frac{\\frac12+\\frac23}{5}\\to\\frac7{30}.$$\n",
        "Определим несколько функций, предназначенных для такого оценивания (evaluating) арифметических выражений над целыми и рациональными числами.\n",
        "\n",
        "* Головная функция `evaluate(x)` оценивает выражение, заданное пользователем в виде объекта класса `Expression`, и возвращает выражение того же самого типа (класса), вызывая внутреннюю функцию `eval_` оценивания выражения в *списочном* формате."
      ]
    },
    {
      "cell_type": "code",
      "execution_count": null,
      "metadata": {},
      "outputs": [],
      "source": [
        "def evaluate(x: Expression) -> Expression:\n",
        "  return Expression(eval_(x.T))"
      ]
    },
    {
      "cell_type": "markdown",
      "metadata": {},
      "source": [
        "* Функция `eval_(x)` “пытается” вызвать обработчик соответствующего узла, и если такой обработчик есть, то возвращается результат его работы.\n",
        "Если обработчика нет (срабатывает исключение), то возвращается исходный узел.\n"
      ]
    },
    {
      "cell_type": "code",
      "execution_count": null,
      "metadata": {},
      "outputs": [],
      "source": [
        "def eval_(x: tuple) -> tuple:\n",
        "  try:\n",
        "    cmd = eval(f\"eval_{ID(x)}\") # конструируем функцию оценивания текущего узла по его ID\n",
        "    return cmd(x)\n",
        "  except:\n",
        "    return x # возвращаем исходный узел, если обработчик не найден"
      ]
    },
    {
      "cell_type": "markdown",
      "metadata": {},
      "source": [
        "* Для упрощения выполнения арифметических операций над объектами разной природы (числа разных классов, многочлены, матрицы) определим набор функций для автоматического преобразования типов (cast).\n",
        "Головная функция `cast` пытается вызвать подходящий обработчик, исходя из идентификатора типа и целевого типа."
      ]
    },
    {
      "cell_type": "code",
      "execution_count": null,
      "metadata": {},
      "outputs": [],
      "source": [
        "def cast_(x: tuple, target: str) -> tuple:\n",
        "  if ID(x) == target:\n",
        "    return x # преобразование не нужно, узел x уже имеет правильный тип\n",
        "  try:\n",
        "    cmd = eval(f\"cast_{ID(x)}_{target}\") # конструируем функцию преобразования\n",
        "    return cmd(x)\n",
        "  except:\n",
        "    return x # возвращаем исходный узел, если обработчик не найден"
      ]
    },
    {
      "cell_type": "markdown",
      "metadata": {},
      "source": [
        "* Реализуем один конкретный преобразователь `cast_integer_rational(x)`, который переводит целое число $x$ в формат рационального числа."
      ]
    },
    {
      "cell_type": "code",
      "execution_count": null,
      "metadata": {},
      "outputs": [],
      "source": [
        "def cast_integer_rational(x: tuple) -> tuple:\n",
        "  n = options(x)['value']\n",
        "  return rational_(n, 1)\n",
        "\n",
        "cast_integer_rational(integer_(5))"
      ]
    },
    {
      "cell_type": "markdown",
      "metadata": {},
      "source": [
        "* Теперь можно создавать функции, выполняющие арифметические операции над целыми и рациональными числами. Определим две функции сложения. Имя каждой такой функции должно состоять из типа операции и списка типов операндов, разделенных знаком подчеркивания: `add_integer_integer` складывает два целых числа."
      ]
    },
    {
      "cell_type": "code",
      "execution_count": null,
      "metadata": {},
      "outputs": [],
      "source": [
        "def add_integer_integer(a: tuple, b: tuple) -> tuple:\n",
        "  n = options(a)['value']\n",
        "  m = options(b)['value']\n",
        "  return integer_(n + m)\n",
        "\n",
        "def add_rational_rational(a: tuple, b: tuple) -> tuple:\n",
        "  na, ma = options(a)['num'], options(a)['denom']\n",
        "  nb, mb = options(b)['num'], options(b)['denom']\n",
        "  n, m = na * mb + nb * ma, ma * mb\n",
        "  return rational_(n, m)"
      ]
    },
    {
      "cell_type": "markdown",
      "metadata": {},
      "source": [
        "* Создадим словарь `OPERATIONS`, в котором будут перечисляться все обработчики каждой бинарной и унарной операций, подлежащих оцениванию. Ключами записей будут типы операций, значениями - списки соответствующих обработчиков."
      ]
    },
    {
      "cell_type": "code",
      "execution_count": null,
      "metadata": {},
      "outputs": [],
      "source": [
        "OPERATIONS = {'add': ['add_integer_integer', 'add_rational_rational']}"
      ]
    },
    {
      "cell_type": "markdown",
      "metadata": {},
      "source": [
        "* Создаем универсальный обработчик (оцениватель) бинарных операций `eval_binary(op,x,y)`, который просматривает список всех имеющихся обработчиков заданной операции `op`, для каждого из них пытается преобразовать заданные операнды `x` и `y` к соответствующим типам, если преобразование проходит успешно, то вызывает этот обработки и возвращает его результат. Если ни один из обработчиков не срабатывает, то возвращается исходное выражение.   "
      ]
    },
    {
      "cell_type": "code",
      "execution_count": null,
      "metadata": {},
      "outputs": [],
      "source": [
        "def eval_binary(op: str, x: tuple, y: tuple) -> tuple:\n",
        "  for fop in OPERATIONS[op]:\n",
        "    idx, idy = fop.split('_')[1:]\n",
        "    a = cast_(x, idx)\n",
        "    b = cast_(y, idy)\n",
        "    if ID(a) == idx and ID(b) == idy:\n",
        "      cmd = eval(f\"{fop}\")\n",
        "      return cmd(a, b)\n",
        "  return op, x, y"
      ]
    },
    {
      "cell_type": "markdown",
      "metadata": {},
      "source": [
        "* Наконец, пишем оцениватель `eval_add` операции сложения, который оценывает (рекурсивно) свои операнды и вызывает универсальный обработчик `eval_binary`. Проверяем его работу. Объясните, почему не происходит оценивания в последнем примере!"
      ]
    },
    {
      "cell_type": "code",
      "execution_count": null,
      "metadata": {},
      "outputs": [],
      "source": [
        "def eval_add(x: tuple) -> tuple:\n",
        "  a, b = eval_(x[1]), eval_(x[2])\n",
        "  return eval_binary(ID(x), a, b)\n",
        "\n",
        "show(evaluate(Z(2) + Q(1, 3)))\n",
        "x = symbol('x')\n",
        "show(evaluate(Z(2) + Z(5) + x))\n",
        "show(evaluate(x + Z(2) + Z(5)))"
      ]
    },
    {
      "cell_type": "markdown",
      "metadata": {},
      "source": [
        "* Чтобы добавить в систему обработку новых операций (например, операции умножения), нужно 1) создать соответствующие исполнители (умножение целых чисел, умножение рациональных чисел); 2) включить эти исполнители в словарь `OPERATIONS`; 3) написать обработчик соответствующего узла (`eval_mul`), если эта операция бинарная, то в данном обработчике должна вызываться функция `eval_binary`. Для примера добавим в систему оценивание операции умножения."
      ]
    },
    {
      "cell_type": "code",
      "execution_count": null,
      "metadata": {},
      "outputs": [],
      "source": [
        "def mul_integer_integer(a: tuple, b: tuple) -> tuple:\n",
        "  n = options(a)['value']\n",
        "  m = options(b)['value']\n",
        "  return integer_(n * m)\n",
        "\n",
        "def mul_rational_rational(a: tuple, b: tuple) -> tuple:\n",
        "  na, ma = options(a)['num'], options(a)['denom']\n",
        "  nb, mb = options(b)['num'], options(b)['denom']\n",
        "  n, m = na * nb, ma * mb\n",
        "  return rational_(n, m)\n",
        "\n",
        "OPERATIONS |= {'mul': ['mul_integer_integer', 'mul_rational_rational']} # расширяем словарь OPERATIONS новым словарем\n",
        "\n",
        "def eval_mul(x: tuple) -> tuple:\n",
        "  a, b = eval_(x[1]), eval_(x[2])\n",
        "  return eval_binary(ID(x), a, b)\n",
        "\n",
        "show(evaluate(Z(2) * Z(5)))\n",
        "show(evaluate(Z(2) * Q(2, 3)))"
      ]
    },
    {
      "cell_type": "markdown",
      "metadata": {},
      "source": [
        "* Реализуйте по этой же схеме оценивание операций вычитания и деления целых и рациональных чисел. Учтите, что при делении двух целых чисел может получиться целое число: $6/3 \\to 2$, а может - рациональное: $12/8$ $\\to \\frac{3}{2}$."
      ]
    },
    {
      "cell_type": "code",
      "execution_count": null,
      "metadata": {},
      "outputs": [],
      "source": [
        "# вычитание\n",
        "\n",
        "...\n",
        "\n",
        "show(evaluate(Z(2) - Q(2, 7)))"
      ]
    },
    {
      "cell_type": "code",
      "execution_count": null,
      "metadata": {},
      "outputs": [],
      "source": [
        "# деление\n",
        "\n",
        "...\n",
        "\n",
        "show(evaluate(Z(6) / Z(3)))\n",
        "show(evaluate(Z(6) / Z(4)))\n",
        "show(evaluate(Q(5,12) / Q(10,81)))\n",
        "show(evaluate((Z(6) - Q(1, 2)) / Q(2, 3)))"
      ]
    },
    {
      "cell_type": "markdown",
      "metadata": {},
      "source": [
        "* Реализуйте оценивание операции возведения в целую степень: `Z(2) ** Z(3)` $\\to 8$, `Z(2) ** Z(-3)` $\\to \\frac{1}{8}$, `Q(2, 3) ** Z(-2)` $\\to \\frac{9}{4}$."
      ]
    },
    {
      "cell_type": "code",
      "execution_count": null,
      "metadata": {},
      "outputs": [],
      "source": [
        "...\n",
        "\n",
        "show(evaluate(Z(6) ** Z(3)))\n",
        "show(evaluate(Z(6) ** Z(-2)))\n",
        "show(evaluate(Q(2, 3) ** Z(-2)))"
      ]
    },
    {
      "cell_type": "markdown",
      "metadata": {},
      "source": [
        "* (бонусное задание) Реализуйте оценивание операции возведения в рациональную степень, при условии, что соответствующие корни могут быть извлечены: `Z(8) ** Q(1, 3)` $\\to 2$, `Q(4, 9) ** Q(-3, 2)` $\\to \\frac{27}{8}$. **Но** `Z(4) ** Q(1, 3)` $\\to 4^{\\frac{1}{3}}$  - операция не может быть оценена."
      ]
    },
    {
      "cell_type": "code",
      "execution_count": null,
      "metadata": {},
      "outputs": [],
      "source": [
        "...\n",
        "\n",
        "show(evaluate(Z(25) ** Q(3, 2)))"
      ]
    },
    {
      "cell_type": "markdown",
      "metadata": {},
      "source": [
        "* (бонусное задание) Реализуйте по аналогичной схеме универсальный оцениватель унарных операций `eval_unary` и оцениватель операции `neg` (унарный минус) для целых и рациональных чисел.  "
      ]
    },
    {
      "cell_type": "code",
      "execution_count": null,
      "metadata": {},
      "outputs": [],
      "source": [
        "...\n",
        "\n",
        "show(-Z(-2))\n",
        "show(-Q(3, 4))"
      ]
    }
  ],
  "metadata": {
    "colab": {
      "provenance": []
    },
    "kernelspec": {
      "display_name": "Python 3",
      "name": "python3"
    },
    "language_info": {
      "codemirror_mode": {
        "name": "ipython",
        "version": 3
      },
      "file_extension": ".py",
      "mimetype": "text/x-python",
      "name": "python",
      "nbconvert_exporter": "python",
      "pygments_lexer": "ipython3",
      "version": "3.11.5"
    }
  },
  "nbformat": 4,
  "nbformat_minor": 0
}
