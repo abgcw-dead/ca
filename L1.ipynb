{
  "cells": [
    {
      "cell_type": "markdown",
      "metadata": {},
      "source": [
        "# Часть 1 "
      ]
    },
    {
      "cell_type": "markdown",
      "metadata": {
        "id": "5v6xWg9klfXT"
      },
      "source": [
        "### Подключаем библиотеки, display и Math для визуализации формул, numpy - для построения графиков (понадобится позже)"
      ]
    },
    {
      "cell_type": "code",
      "execution_count": 1,
      "metadata": {
        "id": "7DMrUe4aHILf"
      },
      "outputs": [],
      "source": [
        "from IPython.display import display, Math\n",
        "import numpy as np"
      ]
    },
    {
      "cell_type": "markdown",
      "metadata": {
        "id": "4EwRgUF-l2rW"
      },
      "source": [
        "### Определяем функцию для создания узла дерева для хранения целых чисел"
      ]
    },
    {
      "cell_type": "code",
      "execution_count": 2,
      "metadata": {
        "id": "twPonpZ_HMBh"
      },
      "outputs": [
        {
          "data": {
            "text/plain": [
              "('integer', {'value': -34})"
            ]
          },
          "execution_count": 2,
          "metadata": {},
          "output_type": "execute_result"
        }
      ],
      "source": [
        "def integer_(x: int) -> tuple:\n",
        "  return 'integer', {'value': x}\n",
        "\n",
        "a = integer_(-34)\n",
        "a"
      ]
    },
    {
      "cell_type": "markdown",
      "metadata": {
        "id": "CoAe7Md6mK-D"
      },
      "source": [
        "### Определите функции для доступа к компонентам узла дерева выражения:\n",
        "* ID(x) - возвращает идентификатор узла\n",
        "* items(x) - возвращает список дочерних узлов\n",
        "* options(x) - возвращает словарь с параметрами узла\n",
        "* isTerminal(x) - возвращает True, если узел --- лист, т.е. не содержит дочерних узлов\n",
        "\n",
        "*Замените ... в каждой функции на нужное выражение*"
      ]
    },
    {
      "cell_type": "code",
      "execution_count": 3,
      "metadata": {
        "id": "XCIOx0CrHQU3"
      },
      "outputs": [
        {
          "data": {
            "text/plain": [
              "('integer', (), {'value': -34}, True)"
            ]
          },
          "execution_count": 3,
          "metadata": {},
          "output_type": "execute_result"
        }
      ],
      "source": [
        "def ID(x: tuple) -> str:\n",
        "  return x[0]\n",
        "\n",
        "def items(x: tuple) -> list:\n",
        "  return x[1:-1]\n",
        "\n",
        "def options(x: tuple) -> dict:\n",
        "  return x[-1]\n",
        "\n",
        "def isTerminal(x: tuple) -> bool:\n",
        "  return len(x) == 2\n",
        "\n",
        "ID(a), items(a), options(a), isTerminal(a)"
      ]
    },
    {
      "cell_type": "markdown",
      "metadata": {
        "id": "DO-ARPPVnlA3"
      },
      "source": [
        "### Определяем функции для преобразования узла в LaTeX-выражение"
      ]
    },
    {
      "cell_type": "code",
      "execution_count": 4,
      "metadata": {
        "id": "ojW8MFE6gR6V"
      },
      "outputs": [
        {
          "data": {
            "text/plain": [
              "'-34'"
            ]
          },
          "execution_count": 4,
          "metadata": {},
          "output_type": "execute_result"
        }
      ],
      "source": [
        "def latex_(x: tuple) -> str:\n",
        "  cmd = eval(f\"latex_{ID(x)}\")\n",
        "  return cmd(x)\n",
        "\n",
        "def latex_integer(x: tuple) -> str:\n",
        "  return f\"{options(x)['value']}\"\n",
        "\n",
        "latex_(a)"
      ]
    },
    {
      "cell_type": "markdown",
      "metadata": {
        "id": "On4iSQh6nx2P"
      },
      "source": [
        "### Определяем функцию show_ для визуализации формулы, представленной деревом x"
      ]
    },
    {
      "cell_type": "code",
      "execution_count": 5,
      "metadata": {
        "id": "ClKfcPSIgvhN"
      },
      "outputs": [
        {
          "data": {
            "text/latex": [
              "$\\displaystyle -123$"
            ],
            "text/plain": [
              "<IPython.core.display.Math object>"
            ]
          },
          "metadata": {},
          "output_type": "display_data"
        },
        {
          "name": "stdout",
          "output_type": "stream",
          "text": [
            "-123\n"
          ]
        }
      ],
      "source": [
        "def show_(x: tuple) -> None:\n",
        "  display(Math(latex_(x)))\n",
        "\n",
        "show_(integer_(-123))\n",
        "print(-123)"
      ]
    },
    {
      "cell_type": "markdown",
      "metadata": {
        "id": "12pM-AO5qJGv"
      },
      "source": [
        "### Символы\n",
        "* определяем функцию для генерации узла дерева: дополните список греческих букв, см. [ссылку](https://www.overleaf.com/learn/latex/List_of_Greek_letters_and_math_symbols)\n",
        "* определяем функцию преобразования символа в LaTeX-формат\n",
        "* тестируем обе функции"
      ]
    },
    {
      "cell_type": "code",
      "execution_count": 6,
      "metadata": {
        "id": "zvTRR44JHWGE"
      },
      "outputs": [
        {
          "data": {
            "text/latex": [
              "$\\displaystyle x_{1}$"
            ],
            "text/plain": [
              "<IPython.core.display.Math object>"
            ]
          },
          "metadata": {},
          "output_type": "display_data"
        },
        {
          "data": {
            "text/latex": [
              "$\\displaystyle \\alpha$"
            ],
            "text/plain": [
              "<IPython.core.display.Math object>"
            ]
          },
          "metadata": {},
          "output_type": "display_data"
        },
        {
          "data": {
            "text/latex": [
              "$\\displaystyle \\Omega$"
            ],
            "text/plain": [
              "<IPython.core.display.Math object>"
            ]
          },
          "metadata": {},
          "output_type": "display_data"
        },
        {
          "data": {
            "text/latex": [
              "$\\displaystyle \\psi$"
            ],
            "text/plain": [
              "<IPython.core.display.Math object>"
            ]
          },
          "metadata": {},
          "output_type": "display_data"
        }
      ],
      "source": [
        "def symbol_(x: str) -> tuple:\n",
        "  greek = ['alpha', 'beta', 'gamma', 'Gamma', 'delta', 'Delta', 'epsilon', 'zeta', 'eta', 'theta', 'Theta', 'iota', \n",
        "           'kappa', 'lambda', 'Lambda', 'mu', 'nu', 'xi', 'Xi', 'pi', 'Pi', 'rho', 'sigma', 'Sigma', 'tau', 'upsilon', \n",
        "           'Upsilon', 'phi', 'Phi', 'chi', 'psi', 'Psi', 'omega', 'Omega']\n",
        "  n, s = x.split('_') if '_' in x else (x, '')\n",
        "  if n in greek:\n",
        "    n = f\"\\\\{n}\"\n",
        "  if s:\n",
        "    n = f\"{n}_{{{s}}}\"\n",
        "  return 'symbol', {'name': x, 'latex': n}\n",
        "\n",
        "def latex_symbol(x: tuple) -> str:\n",
        "  return options(x)['latex']\n",
        "\n",
        "x, alpha, omega, phi = symbol_('x_1'), symbol_('alpha'), symbol_('Omega'), symbol_('psi')\n",
        "show_(x)\n",
        "show_(alpha)\n",
        "show_(omega)\n",
        "show_(phi)"
      ]
    },
    {
      "cell_type": "markdown",
      "metadata": {
        "id": "DUE9zeXxsdAS"
      },
      "source": [
        "### Определяем функции генерации узлов для бинарных и унарных операций\n",
        "* напишите по аналогии с функцией add_ функции для остальных бинарных операций: вычитания (sub), умножения (mul), деления (div), возведения в степень (deg); логических операций (and, or, xor); операций сравнения (eq, ne, lt, le, gt, ge)\n",
        "* напишите по аналогии с функцией neg_ функцию для логического отрицания (inv)"
      ]
    },
    {
      "cell_type": "code",
      "execution_count": 7,
      "metadata": {
        "id": "sudrBI3qHntH"
      },
      "outputs": [],
      "source": [
        "def add_(x: tuple, y: tuple) -> tuple:\n",
        "  return 'add', x, y, {}\n",
        "\n",
        "def sub_(x: tuple, y: tuple) -> tuple:\n",
        "  return 'sub', x, y, {}\n",
        "\n",
        "def mul_(x: tuple, y: tuple) -> tuple:\n",
        "  return 'mul', x, y, {}\n",
        "\n",
        "def div_(x: tuple, y: tuple) -> tuple:\n",
        "  return 'div', x, y, {}\n",
        "\n",
        "def deg_(x: tuple, y: tuple) -> tuple:\n",
        "  return 'deg', x, y, {}\n",
        "\n",
        "def and_(x: tuple, y: tuple) -> tuple:\n",
        "  return 'and', x, y, {}\n",
        "\n",
        "def or_(x: tuple, y: tuple) -> tuple:\n",
        "  return 'or', x, y, {}\n",
        "\n",
        "def xor_(x: tuple, y: tuple) -> tuple:\n",
        "  return 'xor', x, y, {}\n",
        "\n",
        "def eq_(x: tuple, y: tuple) -> tuple:\n",
        "  return 'eq', x, y, {}\n",
        "\n",
        "def ne_(x: tuple, y: tuple) -> tuple:\n",
        "  return 'ne', x, y, {}\n",
        "\n",
        "def lt_(x: tuple, y: tuple) -> tuple:\n",
        "  return 'lt', x, y, {}\n",
        "\n",
        "def le_(x: tuple, y: tuple) -> tuple:\n",
        "  return 'le', x, y, {}\n",
        "\n",
        "def gt_(x: tuple, y: tuple) -> tuple:\n",
        "  return 'gt', x, y, {}\n",
        "\n",
        "def ge_(x: tuple, y: tuple) -> tuple:\n",
        "  return 'ge', x, y, {}\n",
        "\n",
        "def neg_(x: tuple) -> tuple:\n",
        "  return 'neg', x, {}\n",
        "\n",
        "def inv_(x: tuple) -> tuple:\n",
        "  return 'inv', x, {}"
      ]
    },
    {
      "cell_type": "markdown",
      "metadata": {
        "id": "gYI3t2OVwaRx"
      },
      "source": [
        "### Тестируем операции\n",
        "* создаем целое число a=34 и символы $x$ и $y$\n",
        "* создаем дерево выражения f=(a+x)*y, используя вышенаписанные функции для бинарных операций\n",
        "* печатаем это выражение (print)"
      ]
    },
    {
      "cell_type": "code",
      "execution_count": 8,
      "metadata": {
        "id": "scWSG5ZKi0I9"
      },
      "outputs": [
        {
          "name": "stdout",
          "output_type": "stream",
          "text": [
            "('add', ('mul', ('integer', {'value': 34}), ('symbol', {'name': 'x', 'latex': 'x'}), {}), ('symbol', {'name': 'y', 'latex': 'y'}), {})\n"
          ]
        }
      ],
      "source": [
        "a = integer_(34)\n",
        "x = symbol_('x')\n",
        "y = symbol_('y')\n",
        "f = add_(mul_(a, x), y)\n",
        "print(f)"
      ]
    },
    {
      "cell_type": "markdown",
      "metadata": {
        "id": "nKFPXu9PxSnA"
      },
      "source": [
        "### Создаем словарь с приоритетами всех операций\n",
        "* в соответствии с приоритетами этих же операций в языке Python: см. [ссылку](https://www.programiz.com/python-programming/precedence-associativity), приоритет логических операций and, or, xor определяется как для побитовых (bitwise) операций (&, |, ^)\n",
        "* конкретные значения приоритетов не важны, важны их относительные значения\n",
        "* создаем функцию для вычисления приоритета заданного узла\n",
        "* найдите приоритет выражения (a+x)*y из предыдущего пункта"
      ]
    },
    {
      "cell_type": "code",
      "execution_count": 9,
      "metadata": {
        "colab": {
          "base_uri": "https://localhost:8080/"
        },
        "id": "bqJJ-fvki8LS",
        "outputId": "036884e5-5b08-413e-bde8-830633ed092f"
      },
      "outputs": [
        {
          "name": "stdout",
          "output_type": "stream",
          "text": [
            "6\n"
          ]
        }
      ],
      "source": [
        "priority = {'deg': 9, 'neg': 8, 'inv' : 8, 'mul': 7, 'div': 7, 'add': 6, 'sub': 6, 'and': 5, 'xor': 4, 'or': 3, 'eq': 2, 'ne': 2, 'lt': 2, 'le': 2, 'gt': 2, 'ge': 2}\n",
        "\n",
        "def Pr(x: tuple) -> int:\n",
        "  return priority.get(ID(x), 10)\n",
        "\n",
        "print(Pr(f))"
      ]
    },
    {
      "cell_type": "markdown",
      "metadata": {
        "id": "BjYNDwXC1lBe"
      },
      "source": [
        "### Определяем функцию \"оборачивания\" заданного LaTeX-выражения в круглые скобки \"адаптивного\" размера\n",
        "\n",
        "Сравните размер скобок: `(\\frac{x^2}{y^3})` $\\to (\\frac{x^2}{y^3})$ и `\\left(\\frac{x^2}{y^3}\\right)` $\\to \\left(\\frac{x^2}{y^3}\\right)$"
      ]
    },
    {
      "cell_type": "code",
      "execution_count": 10,
      "metadata": {
        "id": "NuP8AUwKjX4j"
      },
      "outputs": [],
      "source": [
        "def enclose(x: str) -> str:\n",
        "  return f\"\\\\left( {x} \\\\right)\""
      ]
    },
    {
      "cell_type": "markdown",
      "metadata": {
        "id": "ys2WAMXh1xhL"
      },
      "source": [
        "### Определяем функции преобразования всех введенных бинарных и унарных операций в формат LaTeX\n",
        "* отдельным образом определяются операции возведения в степень $x^y$ и деления $\\frac{x}{y}$\n",
        "* для логических операций используем обозначения $\\neg x$, $x \\wedge y$, $x \\vee y$, $x \\oplus y$\n",
        "* чтобы посмотреть код этой вкладки, сделайте ЗДЕСЬ двойной клик"
      ]
    },
    {
      "cell_type": "code",
      "execution_count": 11,
      "metadata": {
        "id": "2cWnKK9ljmCW"
      },
      "outputs": [
        {
          "data": {
            "text/latex": [
              "$\\displaystyle 34 \\cdot x + y$"
            ],
            "text/plain": [
              "<IPython.core.display.Math object>"
            ]
          },
          "metadata": {},
          "output_type": "display_data"
        }
      ],
      "source": [
        "def latex_add(x: tuple) -> str:\n",
        "  a, b = latex_(x[1]), latex_(x[2])\n",
        "  if Pr(x[1]) < Pr(x):\n",
        "    a = enclose(a)\n",
        "  if Pr(x[2]) <= Pr(x):\n",
        "    b = enclose(b)\n",
        "  return f\"{a} + {b}\"\n",
        "\n",
        "def latex_mul(x: tuple) -> str:\n",
        "  a, b = latex_(x[1]), latex_(x[2])\n",
        "  if Pr(x[1]) < Pr(x):\n",
        "    a = enclose(a)\n",
        "  if Pr(x[2]) <= Pr(x):\n",
        "    b = enclose(b)\n",
        "  return f\"{a} \\\\cdot {b}\"\n",
        "\n",
        "def latex_sub(x: tuple) -> str:\n",
        "  a, b = latex_(x[1]), latex_(x[2])\n",
        "  if Pr(x[1]) < Pr(x):\n",
        "    a = enclose(a)\n",
        "  if Pr(x[2]) <= Pr(x) or ID(x[2]) == 'neg':  # взятие в скобки, если в вычитаемом есть унарный минус\n",
        "    b = enclose(b)\n",
        "  return f\"{a} - {b}\"\n",
        "\n",
        "def latex_div(x: tuple) -> str:\n",
        "  a, b = latex_(x[1]), latex_(x[2])\n",
        "  return f\"\\\\frac{{{a}}}{{{b}}}\"\n",
        "\n",
        "def latex_deg(x: tuple) -> str:\n",
        "  a, b = latex_(x[1]), latex_(x[2])\n",
        "  if Pr(x[1]) < Pr(x) or (ID(x[1]) == 'rational' and options(x[1])['denom'] != 1):\n",
        "    a = enclose(a)\n",
        "  if Pr(x[2]) <= Pr(x):\n",
        "    b = enclose(b)\n",
        "  return f\"{a}^{{{b}}}\"\n",
        "\n",
        "def latex_neg(x: tuple) -> str:\n",
        "  a = latex_(x[1])\n",
        "  if ID(x[1]) == 'integer' and options(x[1])['value'] < 0:  # взятие в скобки, если число после унарного минуса отрицательное\n",
        "    a = enclose(a)\n",
        "  return f\"-{a}\"\n",
        "\n",
        "# def latex_inv(x: tuple) -> str:\n",
        "#   a = latex_(x[1])\n",
        "#   return f\"\\\\neg {a}\"\n",
        "\n",
        "# def latex_and(x: tuple) -> str:\n",
        "#   a, b = latex_(x[1]), latex_(x[2])\n",
        "#   if Pr(x[1]) < Pr(x):\n",
        "#     a = enclose(a)\n",
        "#   if Pr(x[2]) <= Pr(x):\n",
        "#     b = enclose(b)\n",
        "#   return f\"{a} \\\\wedge {b}\"\n",
        "\n",
        "# def latex_or(x: tuple) -> str:\n",
        "#   a, b = latex_(x[1]), latex_(x[2])\n",
        "#   if Pr(x[1]) < Pr(x):\n",
        "#     a = enclose(a)\n",
        "#   if Pr(x[2]) <= Pr(x):\n",
        "#     b = enclose(b)\n",
        "#   return f\"{a} \\\\vee {b}\"\n",
        "\n",
        "# def latex_xor(x: tuple) -> str:\n",
        "#   a, b = latex_(x[1]), latex_(x[2])\n",
        "#   if Pr(x[1]) < Pr(x):\n",
        "#     a = enclose(a)\n",
        "#   if Pr(x[2]) <= Pr(x):\n",
        "#     b = enclose(b)\n",
        "#   return f\"{a} \\\\oplus {b}\"\n",
        "\n",
        "def latex_eq(x:tuple) -> str:\n",
        "  a, b = latex_(x[1]), latex_(x[2])\n",
        "  if Pr(x[1]) < Pr(x):\n",
        "    a = enclose(a)\n",
        "  if Pr(x[2]) <= Pr(x):\n",
        "    b = enclose(b)\n",
        "  return f\"{a} = {b}\"\n",
        "\n",
        "def latex_ne(x:tuple) -> str:\n",
        "  a, b = latex_(x[1]), latex_(x[2])\n",
        "  if Pr(x[1]) < Pr(x):\n",
        "    a = enclose(a)\n",
        "  if Pr(x[2]) <= Pr(x):\n",
        "    b = enclose(b)\n",
        "  return f\"{a} \\\\ne {b}\"\n",
        "\n",
        "def latex_lt(x:tuple) -> str:\n",
        "  a, b = latex_(x[1]), latex_(x[2])\n",
        "  if Pr(x[1]) < Pr(x):\n",
        "    a = enclose(a)\n",
        "  if Pr(x[2]) <= Pr(x):\n",
        "    b = enclose(b)\n",
        "  return f\"{a} < {b}\"\n",
        "\n",
        "def latex_le(x:tuple) -> str:\n",
        "  a, b = latex_(x[1]), latex_(x[2])\n",
        "  if Pr(x[1]) < Pr(x):\n",
        "    a = enclose(a)\n",
        "  if Pr(x[2]) <= Pr(x):\n",
        "    b = enclose(b)\n",
        "  return f\"{a} \\leq {b}\"\n",
        "\n",
        "def latex_gt(x:tuple) -> str:\n",
        "  a, b = latex_(x[1]), latex_(x[2])\n",
        "  if Pr(x[1]) < Pr(x):\n",
        "    a = enclose(a)\n",
        "  if Pr(x[2]) <= Pr(x):\n",
        "    b = enclose(b)\n",
        "  return f\"{a} > {b}\"\n",
        "\n",
        "def latex_ge(x:tuple) -> str:\n",
        "  a, b = latex_(x[1]), latex_(x[2])\n",
        "  if Pr(x[1]) < Pr(x):\n",
        "    a = enclose(a)\n",
        "  if Pr(x[2]) <= Pr(x):\n",
        "    b = enclose(b)\n",
        "  return f\"{a} \\geq {b}\"\n",
        "\n",
        "show_(f)"
      ]
    },
    {
      "cell_type": "markdown",
      "metadata": {
        "id": "Cu8IGszl32RF"
      },
      "source": [
        "### Протестируйте определенные функции на различных выражениях\n",
        "* опциональное (бонусное) задание: проверьте как работают построенные функции на выражениях с унарным минусом и отрицательными числами, придумайте решение найденных проблем (если проблемы не найдены, то задание не засчитывается!)\n",
        "\n",
        "*Варианты решения:*\n",
        "- Можно добавить проверки при формировании узлов, т.е. если \"ID\" у \"x\" - это унарный минус и текущий узел sub, то заменять текущий узел на add и убирать узел neg.\n",
        "- Можно брать выражение в скобки, если в вычитаемом есть унарный минус или если число после унарного минуса отрицательное"
      ]
    },
    {
      "cell_type": "code",
      "execution_count": 12,
      "metadata": {
        "id": "AhyPebnn3-Qu"
      },
      "outputs": [
        {
          "data": {
            "text/latex": [
              "$\\displaystyle \\frac{x - \\left( -\\left( -12 \\right) \\right)}{y}$"
            ],
            "text/plain": [
              "<IPython.core.display.Math object>"
            ]
          },
          "metadata": {},
          "output_type": "display_data"
        },
        {
          "data": {
            "text/latex": [
              "$\\displaystyle -z$"
            ],
            "text/plain": [
              "<IPython.core.display.Math object>"
            ]
          },
          "metadata": {},
          "output_type": "display_data"
        }
      ],
      "source": [
        "c = integer_(-12)\n",
        "z = symbol_('z')\n",
        "f1 = div_(sub_(x, neg_(c)), y)\n",
        "f2 = neg_(z)\n",
        "show_(f1)\n",
        "show_(f2)"
      ]
    },
    {
      "cell_type": "markdown",
      "metadata": {
        "id": "h96qLnvI3_wt"
      },
      "source": [
        "### Определяем класс Expression - обертку для списочных выражений\n",
        "* включите в него перегрузку всех необходимых бинарных и унарных операций\n",
        "* определяем функцию fix для принудительного приведения заданного целого числа к объекту класса Expression\n",
        "* опциональное (бонусное) задание: включите перегрузку тех же бинарных операций с \"правым\" аргументом (radd, rmul и т.д.)\n"
      ]
    },
    {
      "cell_type": "code",
      "execution_count": 13,
      "metadata": {
        "id": "XHS90CijsBhk"
      },
      "outputs": [],
      "source": [
        "class Expression:\n",
        "  def __init__(self, x):\n",
        "    self.T = x\n",
        "\n",
        "  def __add__(self, x):\n",
        "    return Expression(add_(self.T, fix(x).T))\n",
        "  \n",
        "  def __radd__(self, x):\n",
        "    return Expression(add_(fix(x).T, self.T))\n",
        "\n",
        "  def __mul__(self, x):\n",
        "    return Expression(mul_(self.T, fix(x).T))\n",
        "  \n",
        "  def __rmul__(self, x):\n",
        "    return Expression(mul_(fix(x).T, self.T))\n",
        "  \n",
        "  def __sub__(self, x):\n",
        "    return Expression(sub_(self.T, fix(x).T))\n",
        "  \n",
        "  def __rsub__(self, x):\n",
        "    return Expression(sub_(fix(x).T, self.T))\n",
        "  \n",
        "  def __truediv__(self, x):\n",
        "    return Expression(div_(self.T, fix(x).T))\n",
        "  \n",
        "  def __rtruediv__(self, x):\n",
        "    return Expression(div_(fix(x).T, self.T))\n",
        "  \n",
        "  def __pow__(self, x):\n",
        "    return Expression(deg_(self.T, fix(x).T))\n",
        "  \n",
        "  def __rpow__(self, x):\n",
        "    return Expression(deg_(fix(x).T, self.T))\n",
        "  \n",
        "  def __neg__(self):\n",
        "    return Expression(neg_(self.T))\n",
        "  \n",
        "  def __invert__(self):\n",
        "    return Expression(inv_(self.T))\n",
        "  \n",
        "  def __and__(self, x):\n",
        "    return Expression(and_(self.T, fix(x).T))\n",
        "  \n",
        "  def __rand__(self, x):\n",
        "    return Expression(and_(fix(x).T, self.T))\n",
        "  \n",
        "  def __or__(self, x):\n",
        "    return Expression(or_(self.T, fix(x).T))\n",
        "  \n",
        "  def __ror__(self, x):\n",
        "    return Expression(or_(fix(x).T, self.T))\n",
        "  \n",
        "  def __xor__(self, x):\n",
        "    return Expression(xor_(self.T, fix(x).T))\n",
        "  \n",
        "  def __rxor__(self, x):\n",
        "    return Expression(xor_(fix(x).T, self.T))\n",
        "  \n",
        "  def __eq__(self, x):\n",
        "    return Expression(eq_(self.T, fix(x).T))\n",
        "  \n",
        "  def __ne__(self, x):\n",
        "    return Expression(ne_(self.T, fix(x).T))\n",
        "  \n",
        "  def __lt__(self, x):\n",
        "    return Expression(lt_(self.T, fix(x).T))\n",
        "  \n",
        "  def __le__(self, x):\n",
        "    return Expression(le_(self.T, fix(x).T))\n",
        "  \n",
        "  def __gt__(self, x):\n",
        "    return Expression(gt_(self.T, fix(x).T))\n",
        "  \n",
        "  def __ge__(self, x):\n",
        "    return Expression(ge_(self.T, fix(x).T))\n",
        "  \n",
        "  def __hash__(self):\n",
        "    return hash(str(self.T))\n",
        "\n",
        "def fix(x):\n",
        "  if isinstance(x, int):\n",
        "    return Expression(integer_(x))\n",
        "  return x"
      ]
    },
    {
      "cell_type": "markdown",
      "metadata": {
        "id": "fjtKXvmC9Ahq"
      },
      "source": [
        "### Создаем обертки для функций integer_  и symbol_\n",
        "* опциональное (бонусное) задание: напишите функцию symbols, которая позволяет создавать сразу несколько символьных переменных: `x, y, z = symbols('x y z')`"
      ]
    },
    {
      "cell_type": "code",
      "execution_count": 14,
      "metadata": {
        "id": "eUzYyRY2sfoH"
      },
      "outputs": [],
      "source": [
        "def Z(x: int) -> Expression:\n",
        "  return Expression(integer_(x))\n",
        "\n",
        "def symbol(x: str) -> Expression:\n",
        "  return Expression(symbol_(x))\n",
        "\n",
        "def symbols(x: str):\n",
        "  elements = x.split()\n",
        "  for i in range(len(elements)):\n",
        "    elements[i] = Expression(symbol_(elements[i]))\n",
        "  return elements"
      ]
    },
    {
      "cell_type": "markdown",
      "metadata": {
        "id": "8MkumMSn9VOD"
      },
      "source": [
        "### Определяем функцию show вывода выражений, заданных классом Expression\n",
        "* протестируйте работу всех функций на различных выражениях"
      ]
    },
    {
      "cell_type": "code",
      "execution_count": 15,
      "metadata": {
        "id": "VUJgZQSo9Unz"
      },
      "outputs": [
        {
          "data": {
            "text/latex": [
              "$\\displaystyle \\frac{13}{x_{2}}$"
            ],
            "text/plain": [
              "<IPython.core.display.Math object>"
            ]
          },
          "metadata": {},
          "output_type": "display_data"
        },
        {
          "data": {
            "text/latex": [
              "$\\displaystyle 13 \\cdot x_{2} \\cdot y_{1} \\cdot y_{2} - \\left( x_{2} - \\alpha \\right)$"
            ],
            "text/plain": [
              "<IPython.core.display.Math object>"
            ]
          },
          "metadata": {},
          "output_type": "display_data"
        },
        {
          "data": {
            "text/latex": [
              "$\\displaystyle \\frac{1}{y_{1} - y_{2}} \\cdot y_{3}$"
            ],
            "text/plain": [
              "<IPython.core.display.Math object>"
            ]
          },
          "metadata": {},
          "output_type": "display_data"
        }
      ],
      "source": [
        "def show(x: Expression) -> None:\n",
        "  show_(x.T)\n",
        "\n",
        "a, x = Z(13), symbol('x_2')\n",
        "show(a / x)\n",
        "y1, y2, y3 = symbols('y_1 y_2 y_3')\n",
        "f = a * x * y1 * y2\n",
        "alpha = symbol('alpha')\n",
        "g = x - alpha\n",
        "show(f - g)\n",
        "show(Z(1) / (y1 - y2) * y3)"
      ]
    },
    {
      "cell_type": "markdown",
      "metadata": {
        "id": "UiUK2dPrJvgt"
      },
      "source": [
        "### Визуализация дерева выражения\n",
        "Дополнительные задания:\n",
        "\n",
        "* в арифметических узлах должны быть показаны значки операций, а не слова (+ вместо add и т.д.)\n",
        "* терминальные узлы должны быть выделены отдельным цветом"
      ]
    },
    {
      "cell_type": "code",
      "execution_count": 16,
      "metadata": {
        "id": "Wik7kxSBl-yv"
      },
      "outputs": [
        {
          "name": "stderr",
          "output_type": "stream",
          "text": [
            "C:\\Users\\andre\\AppData\\Local\\Temp\\ipykernel_8680\\1453488358.py:24: DeprecationWarning: nx.nx_pydot.graphviz_layout depends on the pydot package, which has known issues and is not actively maintained. Consider using nx.nx_agraph.graphviz_layout instead.\n",
            "\n",
            "See https://github.com/networkx/networkx/issues/5723\n",
            "  pos = graphviz_layout(graph, prog=\"dot\")\n"
          ]
        },
        {
          "data": {
            "image/png": "[encoded data removed]",
            "text/plain": [
              "<Figure size 300x300 with 1 Axes>"
            ]
          },
          "metadata": {},
          "output_type": "display_data"
        }
      ],
      "source": [
        "import matplotlib\n",
        "import matplotlib.pyplot as plt\n",
        "import networkx as nx\n",
        "from networkx.drawing.nx_pydot import graphviz_layout\n",
        "from networkx.readwrite import json_graph\n",
        "\n",
        "def makeGraph(x: tuple, nodes: list, labels: list, links: list) -> int:\n",
        "  id_ = len(nodes)\n",
        "  nodes.append({'id': id_})\n",
        "  if isTerminal(x):\n",
        "    labels[id_] = f'${latex_(x)}$'\n",
        "  else:\n",
        "    labels[id_] = x[0]\n",
        "    for a in x[1:]:\n",
        "      if isinstance(a, tuple):\n",
        "        cid = makeGraph(a, nodes, labels, links)\n",
        "        links.append({'source': id_, 'target': cid})\n",
        "  return id_\n",
        "\n",
        "def drawGraph_(x: tuple, size) -> None:\n",
        "  nodes, labels, links = [], {}, []\n",
        "  makeGraph(x, nodes, labels, links)\n",
        "  graph = json_graph.node_link_graph({'nodes': nodes, 'links': links}, directed=True, multigraph=False)\n",
        "  pos = graphviz_layout(graph, prog=\"dot\")\n",
        "  fig, ax = plt.subplots(figsize=(3 * size, 3 * size))\n",
        "  ax.set_axis_off()\n",
        "  nx.draw_networkx_edges(graph.to_directed(), pos, ax = ax, edge_color=\"black\")\n",
        "  nx.draw_networkx_labels(graph.to_directed(), pos, labels = labels, font_color = \"blue\")\n",
        "\n",
        "def drawGraph(x: Expression, size: float = 1) -> None:\n",
        "  drawGraph_(x.T, size)\n",
        "\n",
        "x, y = symbol('x'), symbol('y')\n",
        "drawGraph((x + y) / Z(34))"
      ]
    },
    {
      "cell_type": "markdown",
      "metadata": {},
      "source": [
        "# Часть 2"
      ]
    },
    {
      "cell_type": "markdown",
      "metadata": {},
      "source": [
        "### Факторизация\n",
        "\n",
        "* Напишите функцию `factors(x)`, которая возвращает разложение заданного натурального числа $x$ на простые множители в виде списка этих множителей: factors`(12)` $\\to$ `[2, 2, 3]`."
      ]
    },
    {
      "cell_type": "code",
      "execution_count": 17,
      "metadata": {},
      "outputs": [
        {
          "data": {
            "text/plain": [
              "[2, 2, 2, 3, 5]"
            ]
          },
          "execution_count": 17,
          "metadata": {},
          "output_type": "execute_result"
        }
      ],
      "source": [
        "def factors(x: int) -> list:\n",
        "    multipliers = []\n",
        "    temp = x\n",
        "    d = 2\n",
        "    while temp != 1:\n",
        "        if temp % d != 0:\n",
        "            d += 1\n",
        "        else:\n",
        "            temp /= d\n",
        "            multipliers.append(d)\n",
        "    return multipliers\n",
        "\n",
        "factors(120)"
      ]
    },
    {
      "cell_type": "markdown",
      "metadata": {},
      "source": [
        "* Напишите функцию `factorizeInt(x)`, которая преобразует заданное число `x` в произведение простых сомножителей в форме **выражения** (класс `Expression`), повторяющиеся сомножители должны входить в выражение в форме степеней: `factorizeInt(120)` $\\to 2^3\\cdot 3\\cdot 5$.  "
      ]
    },
    {
      "cell_type": "code",
      "execution_count": 18,
      "metadata": {},
      "outputs": [
        {
          "data": {
            "text/latex": [
              "$\\displaystyle 7^{2} \\cdot 11 \\cdot 13$"
            ],
            "text/plain": [
              "<IPython.core.display.Math object>"
            ]
          },
          "metadata": {},
          "output_type": "display_data"
        }
      ],
      "source": [
        "def factorizeInt(x: int) -> Expression:\n",
        "    multipliers = factors(x)\n",
        "    multipliers_uniq = sorted(list(set(multipliers)))\n",
        "\n",
        "    c = multipliers.count(multipliers_uniq[0])\n",
        "    if c == 1:\n",
        "        result = Z(multipliers_uniq[0])\n",
        "    else:\n",
        "        result = Z(multipliers_uniq[0]) ** Z(multipliers.count(multipliers_uniq[0]))\n",
        "\n",
        "    for i in range(1, len(multipliers_uniq)):\n",
        "        c = multipliers.count(multipliers_uniq[i])\n",
        "        if c == 1:\n",
        "            result *= Z(multipliers_uniq[i])\n",
        "        else:\n",
        "            result *= Z(multipliers_uniq[i]) ** Z(multipliers.count(multipliers_uniq[i]))\n",
        "    return result\n",
        "    \n",
        "\n",
        "\n",
        "show(factorizeInt(7007))"
      ]
    },
    {
      "cell_type": "markdown",
      "metadata": {},
      "source": [
        "### Наибольший общий делитель\n",
        "\n",
        "* Реализуйте алгоритм Евклида в виде функции `GCD(n, m)`."
      ]
    },
    {
      "cell_type": "code",
      "execution_count": 19,
      "metadata": {},
      "outputs": [
        {
          "data": {
            "text/plain": [
              "24"
            ]
          },
          "execution_count": 19,
          "metadata": {},
          "output_type": "execute_result"
        }
      ],
      "source": [
        "def GCD(n: int, m: int) -> int:\n",
        "    while m > 0:\n",
        "        n, m = m, n % m\n",
        "    return n\n",
        "\n",
        "GCD(120, 48)"
      ]
    },
    {
      "cell_type": "markdown",
      "metadata": {},
      "source": [
        "### Реализация рациональных чисел\n",
        "\n",
        "* Создаем функцию-конструктор `rational_(n,m)` узлов для рациональных чисел. В каждом таком узле должно храниться нормализованное представление заданного числа."
      ]
    },
    {
      "cell_type": "code",
      "execution_count": 20,
      "metadata": {},
      "outputs": [],
      "source": [
        "def rational_(n: int, m: int) -> tuple:\n",
        "  if n == 0:\n",
        "    m = 1 # нормализованное представление нуля - (0, 1)\n",
        "  else:\n",
        "    if m < 0:\n",
        "      n, m = -n, -m # знаменатель должен быть положительным\n",
        "    c = GCD(abs(n), m)\n",
        "    n, m = n // c, m // c # приводим дробь к несократимому виду\n",
        "  return 'rational', {'num': n, 'denom': m} # num - числитель (numerator), denom - знаменатель (denominator)"
      ]
    },
    {
      "cell_type": "markdown",
      "metadata": {},
      "source": [
        "* Пишем функцию `Q(n,m)` для создания выражения, представляющего рациональное число $n/m$. Знаменатель `m` по умолчанию равен `1`."
      ]
    },
    {
      "cell_type": "code",
      "execution_count": 21,
      "metadata": {},
      "outputs": [
        {
          "data": {
            "text/plain": [
              "('rational', {'num': -1, 'denom': 3})"
            ]
          },
          "execution_count": 21,
          "metadata": {},
          "output_type": "execute_result"
        }
      ],
      "source": [
        "def Q(n: int, m: int = 1) -> Expression:\n",
        "  return Expression(rational_(n, m))\n",
        "\n",
        "Q(2, -6).T"
      ]
    },
    {
      "cell_type": "markdown",
      "metadata": {},
      "source": [
        "* Напишите функцию `latex_rational(x)`, преобразующую рациональное число $x$ в формат LaTeX. Это преобразование должно учитывать, является ли число целым (единичный знаменатель не используется), для отрицательных чисел знак минус ставится перед числом, а не в числителе:\n",
        "`Q(0, 5)` $\\to 0$, `Q(6, -2)` $\\to 3$, `Q(6, 8)` $\\to \\dfrac{3}{4}$, `Q(-15, 25)` $\\to -\\dfrac{3}{5}$."
      ]
    },
    {
      "cell_type": "code",
      "execution_count": 22,
      "metadata": {},
      "outputs": [
        {
          "data": {
            "text/latex": [
              "$\\displaystyle 0$"
            ],
            "text/plain": [
              "<IPython.core.display.Math object>"
            ]
          },
          "metadata": {},
          "output_type": "display_data"
        },
        {
          "data": {
            "text/latex": [
              "$\\displaystyle -3$"
            ],
            "text/plain": [
              "<IPython.core.display.Math object>"
            ]
          },
          "metadata": {},
          "output_type": "display_data"
        },
        {
          "data": {
            "text/latex": [
              "$\\displaystyle \\frac{3}{4}$"
            ],
            "text/plain": [
              "<IPython.core.display.Math object>"
            ]
          },
          "metadata": {},
          "output_type": "display_data"
        },
        {
          "data": {
            "text/latex": [
              "$\\displaystyle -\\frac{3}{5}$"
            ],
            "text/plain": [
              "<IPython.core.display.Math object>"
            ]
          },
          "metadata": {},
          "output_type": "display_data"
        }
      ],
      "source": [
        "def latex_rational(x: tuple) -> str:\n",
        "  n, m = options(x)['num'], options(x)['denom']\n",
        "  if m == 1:\n",
        "    return f\"{n}\"\n",
        "  elif n > 0:\n",
        "    return f\"\\\\frac{{{n}}}{{{m}}}\"\n",
        "  else:\n",
        "    return f\"-\\\\frac{{{abs(n)}}}{{{m}}}\"\n",
        "\n",
        "show(Q(0, 5))\n",
        "show(Q(6, -2))\n",
        "show(Q(6, 8))\n",
        "show(Q(-15, 25))"
      ]
    },
    {
      "cell_type": "markdown",
      "metadata": {},
      "source": [
        "* Проверяем, что рациональные числа могут быть теперь использованы для построения арифметический выражений"
      ]
    },
    {
      "cell_type": "code",
      "execution_count": 23,
      "metadata": {},
      "outputs": [
        {
          "data": {
            "text/latex": [
              "$\\displaystyle \\frac{1 + \\frac{3}{2}}{\\left( \\frac{19}{3} \\right)^{2} \\cdot \\frac{5}{7}}$"
            ],
            "text/plain": [
              "<IPython.core.display.Math object>"
            ]
          },
          "metadata": {},
          "output_type": "display_data"
        }
      ],
      "source": [
        "show((1 + Q(6, 4)) / (Q(152, 24) ** 2 * Q(5, 7)))"
      ]
    },
    {
      "cell_type": "markdown",
      "metadata": {},
      "source": [
        "### Цепные дроби\n",
        "\n",
        "* Напишите функцию `continuedTerms(n,m)`, которая преобразует заданное рациональное число $n/m$ в цепную дробь \\[$a_0$; $a_1$, $a_2$, ...\\] и возвращает результат в виде списка: `continuedTerms(15,11)` $\\to$ `[1,2,1,3]`.   "
      ]
    },
    {
      "cell_type": "code",
      "execution_count": 24,
      "metadata": {},
      "outputs": [
        {
          "data": {
            "text/plain": [
              "[1, 2, 1, 3]"
            ]
          },
          "execution_count": 24,
          "metadata": {},
          "output_type": "execute_result"
        }
      ],
      "source": [
        "def continuedTerms(n: int, m: int) -> list:\n",
        "    result = list()\n",
        "    while m > 0:\n",
        "        result.append(n // m)\n",
        "        n, m = m, n % m\n",
        "    return result\n",
        "\n",
        "\n",
        "continuedTerms(15, 11)"
      ]
    },
    {
      "cell_type": "markdown",
      "metadata": {},
      "source": [
        "* Напишите функцию, которая строит выражение, представляющее цепную дробь, в виде объекта класса `Expression`."
      ]
    },
    {
      "cell_type": "code",
      "execution_count": 25,
      "metadata": {},
      "outputs": [
        {
          "data": {
            "text/latex": [
              "$\\displaystyle 1 + \\frac{1}{2 + \\frac{1}{1 + \\frac{1}{3}}}$"
            ],
            "text/plain": [
              "<IPython.core.display.Math object>"
            ]
          },
          "metadata": {},
          "output_type": "display_data"
        }
      ],
      "source": [
        "def continuedFraction(p: Expression) -> Expression:\n",
        "  n, m = options(p.T)['num'], options(p.T)['denom'] # предполагаем, что p - рациональное число!\n",
        "  A = continuedTerms(n, m) # находим элементы цепной дроби\n",
        "  result = Z(A[-1])\n",
        "  for i in range(len(A) - 2, -1, -1):\n",
        "    result = Z(A[i]) + 1 / result\n",
        "  return result\n",
        "\n",
        "show(continuedFraction(Q(15, 11)))"
      ]
    },
    {
      "cell_type": "markdown",
      "metadata": {},
      "source": [
        "* (бонусное задание) Напишите функцию `float2continued(x,n)`, преобразующую заданное действительное число $x$ в цепную дробь \"глубины\" $n$: `float2continued(np.sqrt(2),4)` $\\to 1 + \\frac1{2+\\frac1{2+\\frac1{2}}}$"
      ]
    },
    {
      "cell_type": "code",
      "execution_count": 26,
      "metadata": {},
      "outputs": [
        {
          "data": {
            "text/latex": [
              "$\\displaystyle 1 + \\frac{1}{2 + \\frac{1}{2 + \\frac{1}{2}}}$"
            ],
            "text/plain": [
              "<IPython.core.display.Math object>"
            ]
          },
          "metadata": {},
          "output_type": "display_data"
        },
        {
          "data": {
            "text/latex": [
              "$\\displaystyle 3 + \\frac{1}{7 + \\frac{1}{15 + \\frac{1}{1 + \\frac{1}{292}}}}$"
            ],
            "text/plain": [
              "<IPython.core.display.Math object>"
            ]
          },
          "metadata": {},
          "output_type": "display_data"
        },
        {
          "data": {
            "text/latex": [
              "$\\displaystyle 1 + \\frac{1}{2 + \\frac{1}{2 + \\frac{1}{2 + \\frac{1}{2}}}}$"
            ],
            "text/plain": [
              "<IPython.core.display.Math object>"
            ]
          },
          "metadata": {},
          "output_type": "display_data"
        },
        {
          "data": {
            "text/latex": [
              "$\\displaystyle 2 + \\frac{1}{1 + \\frac{1}{2 + \\frac{1}{1 + \\frac{1}{1}}}}$"
            ],
            "text/plain": [
              "<IPython.core.display.Math object>"
            ]
          },
          "metadata": {},
          "output_type": "display_data"
        },
        {
          "data": {
            "text/latex": [
              "$\\displaystyle 1 + \\frac{1}{1 + \\frac{1}{1 + \\frac{1}{1 + \\frac{1}{1}}}}$"
            ],
            "text/plain": [
              "<IPython.core.display.Math object>"
            ]
          },
          "metadata": {},
          "output_type": "display_data"
        }
      ],
      "source": [
        "def float2continued(x: float, n: int) -> Expression:\n",
        "  elements = list()\n",
        "  k = 0\n",
        "  while k < n:\n",
        "    a = int(x)\n",
        "    x = 1 / (x - a)\n",
        "    elements.append(a)\n",
        "    k += 1\n",
        "  \n",
        "  result = Z(elements[-1])\n",
        "  for i in range(len(elements) - 2, -1, -1):\n",
        "    result = Z(elements[i]) + 1 / result\n",
        "  return result\n",
        "\n",
        "show(float2continued(np.sqrt(2), 4))\n",
        "show(float2continued(np.pi, 5))\n",
        "show(float2continued(np.sqrt(2), 5))\n",
        "show(float2continued(np.exp(1), 5))\n",
        "show(float2continued((np.sqrt(5)+1)/2, 5))"
      ]
    },
    {
      "cell_type": "markdown",
      "metadata": {},
      "source": [
        "### Египетские дроби\n",
        "\n",
        "* Напишите функцию `egyptianTerms(n,m)` разложения заданного рационального числа $n/m$ (в предположении $n < m$) в египетскую дробь, возвращающую список знаменателей найденных простых дробей: `egyptianTerms(7, 8)` $\\to$ `[2, 3, 24]`."
      ]
    },
    {
      "cell_type": "code",
      "execution_count": 27,
      "metadata": {},
      "outputs": [
        {
          "data": {
            "text/plain": [
              "[2, 3, 24]"
            ]
          },
          "execution_count": 27,
          "metadata": {},
          "output_type": "execute_result"
        }
      ],
      "source": [
        "def egyptianTerms(n: int, m: int) -> list:\n",
        "  result = list()\n",
        "  while n > 0:\n",
        "    a = int(np.ceil(m / n))\n",
        "    n, m = -m % n, m * a\n",
        "    result.append(a)\n",
        "  return result\n",
        "  \n",
        "\n",
        "egyptianTerms(7, 8)"
      ]
    },
    {
      "cell_type": "markdown",
      "metadata": {},
      "source": [
        "* Напишите функцию, которая строит выражение, представляющее египетскую дробь, в виде объекта класса `Expression`: `egyptianSum(7,8)` $\\to \\frac12 + \\frac13 + \\frac1{24}$."
      ]
    },
    {
      "cell_type": "code",
      "execution_count": 28,
      "metadata": {},
      "outputs": [
        {
          "data": {
            "text/latex": [
              "$\\displaystyle \\frac{1}{2} + \\frac{1}{3} + \\frac{1}{24}$"
            ],
            "text/plain": [
              "<IPython.core.display.Math object>"
            ]
          },
          "metadata": {},
          "output_type": "display_data"
        }
      ],
      "source": [
        "def egyptianSum(p: Expression) -> Expression:\n",
        "  n, m = options(p.T)['num'], options(p.T)['denom']\n",
        "  A = egyptianTerms(n, m)\n",
        "  result = 1 / Z(A[0])\n",
        "  for i in range(1, len(A)):\n",
        "    result += 1 / Z(A[i])\n",
        "  return result\n",
        "\n",
        "show(egyptianSum(Q(7, 8)))"
      ]
    },
    {
      "cell_type": "markdown",
      "metadata": {},
      "source": [
        "### Частичное оценивание арифметических выражений\n",
        "\n",
        "В большинстве систем КА выражения, заданные пользователем, сразу же упрощаются, в частности, в них вычисляется все, что может быть вычислено.\n",
        "В частности, если выражение является арифметическим и содержит только целые и рациональные числа, то это выражение преобразуется в рациональное число, например: $$\\frac{\\frac12+\\frac23}{5}\\to\\frac7{30}.$$\n",
        "Определим несколько функций, предназначенных для такого оценивания (evaluating) арифметических выражений над целыми и рациональными числами.\n",
        "\n",
        "* Головная функция `evaluate(x)` оценивает выражение, заданное пользователем в виде объекта класса `Expression`, и возвращает выражение того же самого типа (класса), вызывая внутреннюю функцию `eval_` оценивания выражения в *списочном* формате."
      ]
    },
    {
      "cell_type": "code",
      "execution_count": 29,
      "metadata": {},
      "outputs": [],
      "source": [
        "def evaluate(x: Expression) -> Expression:\n",
        "  return Expression(eval_(x.T))"
      ]
    },
    {
      "cell_type": "markdown",
      "metadata": {},
      "source": [
        "* Функция `eval_(x)` “пытается” вызвать обработчик соответствующего узла, и если такой обработчик есть, то возвращается результат его работы.\n",
        "Если обработчика нет (срабатывает исключение), то возвращается исходный узел.\n"
      ]
    },
    {
      "cell_type": "code",
      "execution_count": 30,
      "metadata": {},
      "outputs": [],
      "source": [
        "def eval_(x: tuple) -> tuple:\n",
        "  try:\n",
        "    cmd = eval(f\"eval_{ID(x)}\") # конструируем функцию оценивания текущего узла по его ID\n",
        "    return cmd(x)\n",
        "  except (NameError, BaseException):\n",
        "    return x # возвращаем исходный узел, если обработчик не найден"
      ]
    },
    {
      "cell_type": "markdown",
      "metadata": {},
      "source": [
        "* Для упрощения выполнения арифметических операций над объектами разной природы (числа разных классов, многочлены, матрицы) определим набор функций для автоматического преобразования типов (cast).\n",
        "Головная функция `cast` пытается вызвать подходящий обработчик, исходя из идентификатора типа и целевого типа."
      ]
    },
    {
      "cell_type": "code",
      "execution_count": 31,
      "metadata": {},
      "outputs": [],
      "source": [
        "def cast_(x: tuple, target: str) -> tuple:\n",
        "  if ID(x) == target:\n",
        "    return x # преобразование не нужно, узел x уже имеет правильный тип\n",
        "  try:\n",
        "    cmd = eval(f\"cast_{ID(x)}_{target}\") # конструируем функцию преобразования\n",
        "    return cmd(x)\n",
        "  except NameError:\n",
        "    return x # возвращаем исходный узел, если обработчик не найден"
      ]
    },
    {
      "cell_type": "markdown",
      "metadata": {},
      "source": [
        "* Реализуем один конкретный преобразователь `cast_integer_rational(x)`, который переводит целое число $x$ в формат рационального числа."
      ]
    },
    {
      "cell_type": "code",
      "execution_count": 32,
      "metadata": {},
      "outputs": [
        {
          "data": {
            "text/plain": [
              "('rational', {'num': 5, 'denom': 1})"
            ]
          },
          "execution_count": 32,
          "metadata": {},
          "output_type": "execute_result"
        }
      ],
      "source": [
        "def cast_integer_rational(x: tuple) -> tuple:\n",
        "  n = options(x)['value']\n",
        "  return rational_(n, 1)\n",
        "\n",
        "cast_integer_rational(integer_(5))"
      ]
    },
    {
      "cell_type": "markdown",
      "metadata": {},
      "source": [
        "* Теперь можно создавать функции, выполняющие арифметические операции над целыми и рациональными числами. Определим две функции сложения. Имя каждой такой функции должно состоять из типа операции и списка типов операндов, разделенных знаком подчеркивания: `add_integer_integer` складывает два целых числа."
      ]
    },
    {
      "cell_type": "code",
      "execution_count": 33,
      "metadata": {},
      "outputs": [],
      "source": [
        "def add_integer_integer(a: tuple, b: tuple) -> tuple:\n",
        "  n = options(a)['value']\n",
        "  m = options(b)['value']\n",
        "  return integer_(n + m)\n",
        "\n",
        "def add_rational_rational(a: tuple, b: tuple) -> tuple:\n",
        "  na, ma = options(a)['num'], options(a)['denom']\n",
        "  nb, mb = options(b)['num'], options(b)['denom']\n",
        "  n, m = na * mb + nb * ma, ma * mb\n",
        "  return rational_(n, m)"
      ]
    },
    {
      "cell_type": "markdown",
      "metadata": {},
      "source": [
        "* Создадим словарь `OPERATIONS`, в котором будут перечисляться все обработчики каждой бинарной и унарной операций, подлежащих оцениванию. Ключами записей будут типы операций, значениями - списки соответствующих обработчиков."
      ]
    },
    {
      "cell_type": "code",
      "execution_count": 34,
      "metadata": {},
      "outputs": [],
      "source": [
        "OPERATIONS = {'add': ['add_integer_integer', 'add_rational_rational']}"
      ]
    },
    {
      "cell_type": "markdown",
      "metadata": {},
      "source": [
        "* Создаем универсальный обработчик (оцениватель) бинарных операций `eval_binary(op,x,y)`, который просматривает список всех имеющихся обработчиков заданной операции `op`, для каждого из них пытается преобразовать заданные операнды `x` и `y` к соответствующим типам, если преобразование проходит успешно, то вызывает этот обработки и возвращает его результат. Если ни один из обработчиков не срабатывает, то возвращается исходное выражение.   "
      ]
    },
    {
      "cell_type": "code",
      "execution_count": 35,
      "metadata": {},
      "outputs": [],
      "source": [
        "def eval_binary(op: str, x: tuple, y: tuple) -> tuple:\n",
        "  for fop in OPERATIONS[op]:\n",
        "    idx, idy = fop.split('_')[1:]\n",
        "    a = cast_(x, idx)\n",
        "    b = cast_(y, idy)\n",
        "    if ID(a) == idx and ID(b) == idy:\n",
        "      cmd = eval(f\"{fop}\")\n",
        "      return cmd(a, b)\n",
        "  return op, x, y"
      ]
    },
    {
      "cell_type": "markdown",
      "metadata": {},
      "source": [
        "* Наконец, пишем оцениватель `eval_add` операции сложения, который оценывает (рекурсивно) свои операнды и вызывает универсальный обработчик `eval_binary`. Проверяем его работу. Объясните, почему не происходит оценивания в последнем примере!\n",
        "\n",
        "*Объяснение:* потому что 5 складывается с сумой (x + 2), а не просто с 2."
      ]
    },
    {
      "cell_type": "code",
      "execution_count": 36,
      "metadata": {},
      "outputs": [
        {
          "data": {
            "text/latex": [
              "$\\displaystyle \\frac{7}{3}$"
            ],
            "text/plain": [
              "<IPython.core.display.Math object>"
            ]
          },
          "metadata": {},
          "output_type": "display_data"
        },
        {
          "data": {
            "text/latex": [
              "$\\displaystyle 7 + x$"
            ],
            "text/plain": [
              "<IPython.core.display.Math object>"
            ]
          },
          "metadata": {},
          "output_type": "display_data"
        },
        {
          "data": {
            "text/latex": [
              "$\\displaystyle x + 2 + 5$"
            ],
            "text/plain": [
              "<IPython.core.display.Math object>"
            ]
          },
          "metadata": {},
          "output_type": "display_data"
        }
      ],
      "source": [
        "def eval_add(x: tuple) -> tuple:\n",
        "  a, b = eval_(x[1]), eval_(x[2])\n",
        "  return eval_binary(ID(x), a, b)\n",
        "\n",
        "show(evaluate(Z(2) + Q(1, 3)))\n",
        "x = symbol('x')\n",
        "show(evaluate(Z(2) + Z(5) + x))\n",
        "show(evaluate(x + Z(2) + Z(5)))"
      ]
    },
    {
      "cell_type": "markdown",
      "metadata": {},
      "source": [
        "* Чтобы добавить в систему обработку новых операций (например, операции умножения), нужно 1) создать соответствующие исполнители (умножение целых чисел, умножение рациональных чисел); 2) включить эти исполнители в словарь `OPERATIONS`; 3) написать обработчик соответствующего узла (`eval_mul`), если эта операция бинарная, то в данном обработчике должна вызываться функция `eval_binary`. Для примера добавим в систему оценивание операции умножения."
      ]
    },
    {
      "cell_type": "code",
      "execution_count": 37,
      "metadata": {},
      "outputs": [
        {
          "data": {
            "text/latex": [
              "$\\displaystyle 10$"
            ],
            "text/plain": [
              "<IPython.core.display.Math object>"
            ]
          },
          "metadata": {},
          "output_type": "display_data"
        },
        {
          "data": {
            "text/latex": [
              "$\\displaystyle \\frac{4}{3}$"
            ],
            "text/plain": [
              "<IPython.core.display.Math object>"
            ]
          },
          "metadata": {},
          "output_type": "display_data"
        }
      ],
      "source": [
        "def mul_integer_integer(a: tuple, b: tuple) -> tuple:\n",
        "  n = options(a)['value']\n",
        "  m = options(b)['value']\n",
        "  return integer_(n * m)\n",
        "\n",
        "def mul_rational_rational(a: tuple, b: tuple) -> tuple:\n",
        "  na, ma = options(a)['num'], options(a)['denom']\n",
        "  nb, mb = options(b)['num'], options(b)['denom']\n",
        "  n, m = na * nb, ma * mb\n",
        "  return rational_(n, m)\n",
        "\n",
        "OPERATIONS |= {'mul': ['mul_integer_integer', 'mul_rational_rational']} # расширяем словарь OPERATIONS новым словарем\n",
        "\n",
        "def eval_mul(x: tuple) -> tuple:\n",
        "  a, b = eval_(x[1]), eval_(x[2])\n",
        "  return eval_binary(ID(x), a, b)\n",
        "\n",
        "show(evaluate(Z(2) * Z(5)))\n",
        "show(evaluate(Z(2) * Q(2, 3)))"
      ]
    },
    {
      "cell_type": "markdown",
      "metadata": {},
      "source": [
        "* Реализуйте по этой же схеме оценивание операций вычитания и деления целых и рациональных чисел. Учтите, что при делении двух целых чисел может получиться целое число: $6/3 \\to 2$, а может - рациональное: $12/8$ $\\to \\frac{3}{2}$."
      ]
    },
    {
      "cell_type": "code",
      "execution_count": 38,
      "metadata": {},
      "outputs": [
        {
          "data": {
            "text/latex": [
              "$\\displaystyle \\frac{12}{7}$"
            ],
            "text/plain": [
              "<IPython.core.display.Math object>"
            ]
          },
          "metadata": {},
          "output_type": "display_data"
        }
      ],
      "source": [
        "# вычитание\n",
        "\n",
        "def sub_integer_integer(a: tuple, b: tuple) -> tuple:\n",
        "  n = options(a)['value']\n",
        "  m = options(b)['value']\n",
        "  return integer_(n - m)\n",
        "\n",
        "def sub_rational_rational(a: tuple, b: tuple) -> tuple:\n",
        "  na, ma = options(a)['num'], options(a)['denom']\n",
        "  nb, mb = options(b)['num'], options(b)['denom']\n",
        "  n, m = na * mb - nb * ma, ma * mb\n",
        "  return rational_(n, m)\n",
        "\n",
        "OPERATIONS |= {'sub': ['sub_integer_integer', 'sub_rational_rational']}\n",
        "\n",
        "def eval_sub(x: tuple) -> tuple:\n",
        "  a, b = eval_(x[1]), eval_(x[2])\n",
        "  return eval_binary(ID(x), a, b)\n",
        "\n",
        "show(evaluate(Z(2) - Q(2, 7)))"
      ]
    },
    {
      "cell_type": "code",
      "execution_count": 39,
      "metadata": {},
      "outputs": [
        {
          "data": {
            "text/latex": [
              "$\\displaystyle 2$"
            ],
            "text/plain": [
              "<IPython.core.display.Math object>"
            ]
          },
          "metadata": {},
          "output_type": "display_data"
        },
        {
          "data": {
            "text/latex": [
              "$\\displaystyle \\frac{3}{2}$"
            ],
            "text/plain": [
              "<IPython.core.display.Math object>"
            ]
          },
          "metadata": {},
          "output_type": "display_data"
        },
        {
          "data": {
            "text/latex": [
              "$\\displaystyle \\frac{27}{8}$"
            ],
            "text/plain": [
              "<IPython.core.display.Math object>"
            ]
          },
          "metadata": {},
          "output_type": "display_data"
        },
        {
          "data": {
            "text/latex": [
              "$\\displaystyle \\frac{33}{4}$"
            ],
            "text/plain": [
              "<IPython.core.display.Math object>"
            ]
          },
          "metadata": {},
          "output_type": "display_data"
        }
      ],
      "source": [
        "# деление\n",
        "\n",
        "def div_integer_integer(a: tuple, b: tuple) -> tuple:\n",
        "    n = options(a)['value']\n",
        "    m = options(b)['value']\n",
        "    if (n / m).is_integer():\n",
        "        return integer_(n // m)\n",
        "    return rational_(n, m)  # Нужно ли возвращать integer, если результат, например 6/3 ?!\n",
        "\n",
        "def div_rational_rational(a: tuple, b:tuple) -> tuple:\n",
        "    na, ma = options(a)['num'], options(a)['denom']\n",
        "    nb, mb = options(b)['num'], options(b)['denom']\n",
        "    n, m = na * mb, ma * nb\n",
        "    if (n / m).is_integer():\n",
        "        return integer_(n // m)\n",
        "    return rational_(n, m)  # Нужно ли возвращать integer, если результат, например 6/3 ?!\n",
        "\n",
        "OPERATIONS |= {'div': ['div_integer_integer', 'div_rational_rational']}\n",
        "\n",
        "def eval_div(x: tuple) -> tuple:\n",
        "    a, b = eval_(x[1]), eval_(x[2])\n",
        "    return eval_binary(ID(x), a, b)\n",
        "\n",
        "show(evaluate(Z(6) / Z(3)))\n",
        "show(evaluate(Z(6) / Z(4)))\n",
        "show(evaluate(Q(5,12) / Q(10,81)))\n",
        "show(evaluate((Z(6) - Q(1, 2)) / Q(2, 3)))"
      ]
    },
    {
      "cell_type": "markdown",
      "metadata": {},
      "source": [
        "* Реализуйте оценивание операции возведения в целую степень: `Z(2) ** Z(3)` $\\to 8$, `Z(2) ** Z(-3)` $\\to \\frac{1}{8}$, `Q(2, 3) ** Z(-2)` $\\to \\frac{9}{4}$."
      ]
    },
    {
      "cell_type": "code",
      "execution_count": 40,
      "metadata": {},
      "outputs": [
        {
          "data": {
            "text/latex": [
              "$\\displaystyle 1$"
            ],
            "text/plain": [
              "<IPython.core.display.Math object>"
            ]
          },
          "metadata": {},
          "output_type": "display_data"
        },
        {
          "data": {
            "text/latex": [
              "$\\displaystyle 216$"
            ],
            "text/plain": [
              "<IPython.core.display.Math object>"
            ]
          },
          "metadata": {},
          "output_type": "display_data"
        },
        {
          "data": {
            "text/latex": [
              "$\\displaystyle \\frac{1}{36}$"
            ],
            "text/plain": [
              "<IPython.core.display.Math object>"
            ]
          },
          "metadata": {},
          "output_type": "display_data"
        },
        {
          "data": {
            "text/latex": [
              "$\\displaystyle \\frac{9}{4}$"
            ],
            "text/plain": [
              "<IPython.core.display.Math object>"
            ]
          },
          "metadata": {},
          "output_type": "display_data"
        }
      ],
      "source": [
        "# возведение в целую степень\n",
        "\n",
        "def deg_integer_integer(a: tuple, b: tuple) -> tuple:\n",
        "    n = options(a)['value']\n",
        "    m = options(b)['value']\n",
        "    if m > 0:\n",
        "        return integer_(n ** m)\n",
        "    return rational_(1, n ** abs(m))\n",
        "\n",
        "def deg_rational_integer(a: tuple, b: tuple) -> tuple:\n",
        "    na, ma = options(a)['num'], options(a)['denom']\n",
        "    nb = options(b)['value']\n",
        "    if nb == 0:\n",
        "        return integer_(1)  # или Z(1) и нужно ли вообще ?!\n",
        "    if nb > 0:\n",
        "        return rational_(na ** nb, ma ** nb)\n",
        "    return rational_(ma ** abs(nb), na ** abs(nb))\n",
        "\n",
        "OPERATIONS |= {'deg': ['deg_integer_integer', 'deg_rational_integer']}\n",
        "\n",
        "def eval_deg(x: tuple) -> tuple:\n",
        "    a, b = eval_(x[1]), eval_(x[2])\n",
        "    return eval_binary(ID(x), a, b)\n",
        "\n",
        "show(evaluate(Z(6) ** Z(0)))\n",
        "show(evaluate(Z(6) ** Z(3)))\n",
        "show(evaluate(Z(6) ** Z(-2)))\n",
        "show(evaluate(Q(2, 3) ** Z(-2)))"
      ]
    },
    {
      "cell_type": "markdown",
      "metadata": {},
      "source": [
        "* (бонусное задание) Реализуйте оценивание операции возведения в рациональную степень, при условии, что соответствующие корни могут быть извлечены: `Z(8) ** Q(1, 3)` $\\to 2$, `Q(4, 9) ** Q(-3, 2)` $\\to \\frac{27}{8}$. **Но** `Z(4) ** Q(1, 3)` $\\to 4^{\\frac{1}{3}}$  - операция не может быть оценена."
      ]
    },
    {
      "cell_type": "code",
      "execution_count": 41,
      "metadata": {},
      "outputs": [
        {
          "data": {
            "text/latex": [
              "$\\displaystyle 1$"
            ],
            "text/plain": [
              "<IPython.core.display.Math object>"
            ]
          },
          "metadata": {},
          "output_type": "display_data"
        },
        {
          "data": {
            "text/latex": [
              "$\\displaystyle 125$"
            ],
            "text/plain": [
              "<IPython.core.display.Math object>"
            ]
          },
          "metadata": {},
          "output_type": "display_data"
        },
        {
          "data": {
            "text/latex": [
              "$\\displaystyle \\frac{1}{2}$"
            ],
            "text/plain": [
              "<IPython.core.display.Math object>"
            ]
          },
          "metadata": {},
          "output_type": "display_data"
        },
        {
          "data": {
            "text/latex": [
              "$\\displaystyle \\frac{27}{8}$"
            ],
            "text/plain": [
              "<IPython.core.display.Math object>"
            ]
          },
          "metadata": {},
          "output_type": "display_data"
        },
        {
          "data": {
            "text/latex": [
              "$\\displaystyle 4^{\\frac{1}{3}}$"
            ],
            "text/plain": [
              "<IPython.core.display.Math object>"
            ]
          },
          "metadata": {},
          "output_type": "display_data"
        },
        {
          "data": {
            "text/latex": [
              "$\\displaystyle \\left( \\frac{15}{11} \\right)^{-\\frac{1}{2}}$"
            ],
            "text/plain": [
              "<IPython.core.display.Math object>"
            ]
          },
          "metadata": {},
          "output_type": "display_data"
        }
      ],
      "source": [
        "def deg_integer_rational(a: tuple, b: tuple) -> tuple:\n",
        "    na = options(a)['value']\n",
        "    nb, mb = options(b)['num'], options(b)['denom']\n",
        "    result = na ** (abs(nb) / mb)\n",
        "    if result.is_integer():\n",
        "        result = int(result)\n",
        "        if nb > 0:\n",
        "            return integer_(result)\n",
        "        return rational_(1, result)\n",
        "    return (Expression(a) ** Expression(b)).T\n",
        "\n",
        "def deg_rational_rational(a: tuple, b: tuple) -> tuple:\n",
        "    na, ma = options(a)['num'], options(a)['denom']\n",
        "    nb, mb = options(b)['num'], options(b)['denom']\n",
        "    n_result = na ** (abs(nb) / mb)\n",
        "    m_result = ma ** (abs(nb) / mb)\n",
        "    if n_result.is_integer() and m_result.is_integer():\n",
        "        n_result = int(n_result)\n",
        "        m_result = int(m_result)\n",
        "        if nb > 0:\n",
        "            return rational_(n_result, m_result)\n",
        "        return rational_(m_result, n_result)\n",
        "    return (Expression(a) ** Expression(b)).T\n",
        "\n",
        "OPERATIONS['deg'].append('deg_integer_rational')\n",
        "OPERATIONS['deg'].append('deg_rational_rational')\n",
        "\n",
        "show(evaluate(Z(25) ** Q(0, 2)))\n",
        "show(evaluate(Z(25) ** Q(3, 2)))\n",
        "show(evaluate(Z(8) ** Q(-1, 3)))\n",
        "show(evaluate(Q(4, 9) ** Q(-3, 2)))\n",
        "show(evaluate(Z(4) ** Q(1, 3)))\n",
        "show(evaluate(Q(15, 11) ** Q(-1, 2)))"
      ]
    },
    {
      "cell_type": "markdown",
      "metadata": {},
      "source": [
        "* (бонусное задание) Реализуйте по аналогичной схеме универсальный оцениватель унарных операций `eval_unary` и оцениватель операции `neg` (унарный минус) для целых и рациональных чисел.  "
      ]
    },
    {
      "cell_type": "code",
      "execution_count": 42,
      "metadata": {},
      "outputs": [
        {
          "data": {
            "text/latex": [
              "$\\displaystyle 2$"
            ],
            "text/plain": [
              "<IPython.core.display.Math object>"
            ]
          },
          "metadata": {},
          "output_type": "display_data"
        },
        {
          "data": {
            "text/latex": [
              "$\\displaystyle -\\frac{3}{4}$"
            ],
            "text/plain": [
              "<IPython.core.display.Math object>"
            ]
          },
          "metadata": {},
          "output_type": "display_data"
        }
      ],
      "source": [
        "def neg_integer(a: tuple) -> tuple:\n",
        "    n = options(a)['value']\n",
        "    return integer_(-n)\n",
        "\n",
        "def neg_rational(a: tuple) -> tuple:\n",
        "    na, ma = options(a)['num'], options(a)['denom']\n",
        "    return rational_(-na, ma)\n",
        "\n",
        "OPERATIONS |= {'neg': ['neg_integer', 'neg_rational']}\n",
        "\n",
        "def eval_unary(op: str, x: tuple) -> tuple:\n",
        "    for fop in OPERATIONS[op]:\n",
        "        idx = fop.split('_')[1]\n",
        "        a = cast_(x, idx)\n",
        "        if ID(a) == idx:\n",
        "            cmd = eval(f\"{fop}\")\n",
        "            return cmd(a)\n",
        "    return op, x\n",
        "\n",
        "def eval_neg(x: tuple) -> tuple:\n",
        "    a = eval_(x[1])\n",
        "    return eval_unary(ID(x), a)\n",
        "\n",
        "show(evaluate(-Z(-2)))\n",
        "show(evaluate(-Q(3, 4)))"
      ]
    },
    {
      "cell_type": "markdown",
      "metadata": {},
      "source": [
        "# Часть 3"
      ]
    },
    {
      "cell_type": "markdown",
      "metadata": {},
      "source": [
        "### Булева логика, константы, операции\n",
        "\n",
        "* Создаем тип данных для логических констант 1 (true) и 0 (false). Слово bool является ключевым в Python, поэтому используем длинный вариант boolean. Но идентификатор типа будет строка \"bool\".    "
      ]
    },
    {
      "cell_type": "code",
      "execution_count": 43,
      "metadata": {},
      "outputs": [],
      "source": [
        "def boolean_(x: bool) -> tuple:\n",
        "  x = 1 if x else 0\n",
        "  return 'bool', {'value': x}\n",
        "\n",
        "def boolean(x: bool) -> Expression:\n",
        "  return Expression(boolean_(x))"
      ]
    },
    {
      "cell_type": "markdown",
      "metadata": {},
      "source": [
        "* Напишите функцию преобразования логических констант в формат LaTeX. Чтобы отличать логические 0 и 1 от соответствующих чисел, будем их изображать полужирным шрифтом (см. код этой вкладки): 0 $\\to \\mathbb{0}$, 1 $\\to \\mathbb{1}$"
      ]
    },
    {
      "cell_type": "code",
      "execution_count": 44,
      "metadata": {},
      "outputs": [],
      "source": [
        "def latex_bool(x: tuple) -> str:\n",
        "  a = options(x)['value']\n",
        "  return f\"\\\\mathbb{{{a}}}\""
      ]
    },
    {
      "cell_type": "markdown",
      "metadata": {},
      "source": [
        "* Определяем логические константы I и O"
      ]
    },
    {
      "cell_type": "code",
      "execution_count": 45,
      "metadata": {},
      "outputs": [
        {
          "data": {
            "text/latex": [
              "$\\displaystyle \\mathbb{1} + \\mathbb{0}$"
            ],
            "text/plain": [
              "<IPython.core.display.Math object>"
            ]
          },
          "metadata": {},
          "output_type": "display_data"
        },
        {
          "data": {
            "text/latex": [
              "$\\displaystyle 1 + 0$"
            ],
            "text/plain": [
              "<IPython.core.display.Math object>"
            ]
          },
          "metadata": {},
          "output_type": "display_data"
        }
      ],
      "source": [
        "I, O = boolean(True), boolean(False)\n",
        "show(I + O)\n",
        "show(Z(1) + Z(0)) # для сравнения - числовые 0 и 1"
      ]
    },
    {
      "cell_type": "markdown",
      "metadata": {},
      "source": [
        "* Напишите функции преобразования логических операций `and`, `or`, `xor`, `inv` в формат LaTeX (см. код этой вкладки): $$x \\wedge y,\\, x \\vee y,\\, x \\oplus y,\\, \\overline{x}.$$ Убедитесь, что приоритет этих операций настроен правильно: `(x | y) & x` $\\to (x \\vee y) \\wedge x$. Вместо знака конъюнкции $\\wedge$ можно использовать знак умножения $\\cdot$ (точку)."
      ]
    },
    {
      "cell_type": "code",
      "execution_count": 46,
      "metadata": {},
      "outputs": [],
      "source": [
        "def latex_and(x: tuple) -> str:\n",
        "  a, b = latex_(x[1]), latex_(x[2])\n",
        "  if Pr(x[1]) < Pr(x):\n",
        "    a = enclose(a)\n",
        "  if Pr(x[2]) <= Pr(x):\n",
        "    b = enclose(b)\n",
        "  return f\"{a} \\\\wedge {b}\"\n",
        "\n",
        "def latex_or(x: tuple) -> str:\n",
        "  a, b = latex_(x[1]), latex_(x[2])\n",
        "  if Pr(x[1]) < Pr(x):\n",
        "    a = enclose(a)\n",
        "  if Pr(x[2]) <= Pr(x):\n",
        "    b = enclose(b)\n",
        "  return f\"{a} \\\\vee {b}\"\n",
        "\n",
        "def latex_xor(x: tuple) -> str:\n",
        "  a, b = latex_(x[1]), latex_(x[2])\n",
        "  if Pr(x[1]) < Pr(x):\n",
        "    a = enclose(a)\n",
        "  if Pr(x[2]) <= Pr(x):\n",
        "    b = enclose(b)\n",
        "  return f\"{a} \\\\oplus {b}\"\n",
        "\n",
        "def latex_inv(x: tuple) -> str:\n",
        "  a = latex_(x[1])\n",
        "  return f\"\\\\overline{{{a}}}\""
      ]
    },
    {
      "cell_type": "markdown",
      "metadata": {},
      "source": [
        "* Проверяем:"
      ]
    },
    {
      "cell_type": "code",
      "execution_count": 47,
      "metadata": {},
      "outputs": [
        {
          "data": {
            "text/latex": [
              "$\\displaystyle x \\wedge y \\oplus \\left( \\mathbb{0} \\vee \\overline{x} \\right)$"
            ],
            "text/plain": [
              "<IPython.core.display.Math object>"
            ]
          },
          "metadata": {},
          "output_type": "display_data"
        },
        {
          "name": "stderr",
          "output_type": "stream",
          "text": [
            "C:\\Users\\andre\\AppData\\Local\\Temp\\ipykernel_8680\\1453488358.py:24: DeprecationWarning: nx.nx_pydot.graphviz_layout depends on the pydot package, which has known issues and is not actively maintained. Consider using nx.nx_agraph.graphviz_layout instead.\n",
            "\n",
            "See https://github.com/networkx/networkx/issues/5723\n",
            "  pos = graphviz_layout(graph, prog=\"dot\")\n"
          ]
        },
        {
          "data": {
            "image/png": "[encoded data removed]",
            "text/plain": [
              "<Figure size 300x300 with 1 Axes>"
            ]
          },
          "metadata": {},
          "output_type": "display_data"
        }
      ],
      "source": [
        "x, y = symbol('x'), symbol('y')\n",
        "\n",
        "f = x & y ^ (O | ~x)\n",
        "show(f)\n",
        "drawGraph(f)"
      ]
    },
    {
      "cell_type": "markdown",
      "metadata": {},
      "source": [
        "### Оценивание логических выражений\n",
        "\n",
        "* По аналогии с оценкой арифметических выражений напишите функции оценки всех четырех логических операций. Для оценки бинарных операций используйте написанную ранее функцию `eval_binary`, которая автоматически выполняет поиск нужного оценщика и проводит преобразование типов операндов."
      ]
    },
    {
      "cell_type": "code",
      "execution_count": 48,
      "metadata": {},
      "outputs": [],
      "source": [
        "# добавляем \"оценщиков\" к словарю бинарных операций OPERATIONS\n",
        "OPERATIONS |= {'and': ['and_bool_bool'], 'or': ['or_bool_bool'], 'xor': ['xor_bool_bool']}\n",
        "\n",
        "def and_bool_bool(a: tuple, b: tuple) -> tuple:\n",
        "  n = options(a)['value']\n",
        "  m = options(b)['value']\n",
        "  return boolean_(n & m)\n",
        "\n",
        "def eval_and(x: tuple) -> tuple:\n",
        "  a, b = eval_(x[1]), eval_(x[2])\n",
        "  return eval_binary(ID(x), a, b)\n",
        "\n",
        "def or_bool_bool(a: tuple, b: tuple) -> tuple:\n",
        "  n = options(a)['value']\n",
        "  m = options(b)['value']\n",
        "  return boolean_(n | m)\n",
        "\n",
        "def eval_or(x: tuple) -> tuple:\n",
        "  a, b = eval_(x[1]), eval_(x[2])\n",
        "  return eval_binary(ID(x), a, b)\n",
        "\n",
        "def xor_bool_bool(a: tuple, b: tuple) -> tuple:\n",
        "  n = options(a)['value']\n",
        "  m = options(b)['value']\n",
        "  return boolean_(n ^ m)\n",
        "\n",
        "def eval_xor(x: tuple) -> tuple:\n",
        "  a, b = eval_(x[1]), eval_(x[2])\n",
        "  return eval_binary(ID(x), a, b)"
      ]
    },
    {
      "cell_type": "markdown",
      "metadata": {},
      "source": [
        "* Напишите оцениватель логического отрицания, операция унарная, поэтому все оценивание выполняется внутри одной функции"
      ]
    },
    {
      "cell_type": "code",
      "execution_count": 49,
      "metadata": {},
      "outputs": [],
      "source": [
        "def eval_inv(x: tuple) -> tuple:\n",
        "  a = eval_(x[1])\n",
        "  n = options(a)['value']\n",
        "  return boolean_(not n)"
      ]
    },
    {
      "cell_type": "markdown",
      "metadata": {},
      "source": [
        "* Проверяем:"
      ]
    },
    {
      "cell_type": "code",
      "execution_count": 50,
      "metadata": {},
      "outputs": [
        {
          "data": {
            "text/latex": [
              "$\\displaystyle \\left( \\overline{\\mathbb{1}} \\vee \\mathbb{1} \\right) \\oplus \\mathbb{0} \\wedge \\mathbb{1}$"
            ],
            "text/plain": [
              "<IPython.core.display.Math object>"
            ]
          },
          "metadata": {},
          "output_type": "display_data"
        },
        {
          "data": {
            "text/latex": [
              "$\\displaystyle \\mathbb{1}$"
            ],
            "text/plain": [
              "<IPython.core.display.Math object>"
            ]
          },
          "metadata": {},
          "output_type": "display_data"
        }
      ],
      "source": [
        "f = (~I | I) ^ (O & I)\n",
        "show(f)\n",
        "show(evaluate(f))"
      ]
    },
    {
      "cell_type": "markdown",
      "metadata": {},
      "source": [
        "* Напишите функцию `cast_integer_bool` для преобразования целых чисел в логические константы (как в языках C/C++): ноль преобразуется в логический ноль, все остальные числа - в логическую единицу"
      ]
    },
    {
      "cell_type": "code",
      "execution_count": 51,
      "metadata": {},
      "outputs": [
        {
          "data": {
            "text/latex": [
              "$\\displaystyle 2 \\oplus 1 \\vee 10$"
            ],
            "text/plain": [
              "<IPython.core.display.Math object>"
            ]
          },
          "metadata": {},
          "output_type": "display_data"
        },
        {
          "data": {
            "text/latex": [
              "$\\displaystyle \\mathbb{1}$"
            ],
            "text/plain": [
              "<IPython.core.display.Math object>"
            ]
          },
          "metadata": {},
          "output_type": "display_data"
        }
      ],
      "source": [
        "def cast_integer_bool(x: tuple) -> tuple:\n",
        "  n = options(x)['value']\n",
        "  return boolean_(n)\n",
        "\n",
        "f = Z(2) ^ Z(1) | Z(10)\n",
        "show(f)\n",
        "show(evaluate(f))"
      ]
    },
    {
      "cell_type": "markdown",
      "metadata": {},
      "source": [
        "### Таблицы истинности\n",
        "\n",
        "* Для построения таблицы истинности заданного логического выражения нам потребуется выполнять многократные подстановки в этом выражении каких-то значений вместо имен переменных. Напишем универсальную функцию подстановки `subs` (от английского substitute). Головная `subs` принимает на вход выражение `F` и словарь `V`, ключами в котором являются имена заменяемых переменных, а значениями - выражения, на которые эти переменные будут меняться (см. пример ниже).\n",
        "\n",
        "* **ВАЖНО!!!** Чтобы объекты типа `Expression` можно было использовать в качестве ключей словаря, они должны быть *хешируемыми*. Т.к. мы переопределили операцию равенство (метод `__eq__` класса `Expression`), то класс стал нехешируемым. Чтобы исправить ситуацию, надо вручную добавить к **вашему определению** класса `Expression` метод `__hash__`, который преобразует наше списочное выражение в строку и вычисляет хеш от полученной строки:\n",
        "\n",
        "```\n",
        "class Expression:\n",
        "  ...\n",
        "\n",
        "  def __hash__(self):\n",
        "    return hash(str(self.T))\n",
        "```"
      ]
    },
    {
      "cell_type": "code",
      "execution_count": 52,
      "metadata": {},
      "outputs": [
        {
          "data": {
            "text/latex": [
              "$\\displaystyle x \\cdot y$"
            ],
            "text/plain": [
              "<IPython.core.display.Math object>"
            ]
          },
          "metadata": {},
          "output_type": "display_data"
        },
        {
          "data": {
            "text/latex": [
              "$\\displaystyle \\left( 1 + y^{2} \\right) \\cdot y$"
            ],
            "text/plain": [
              "<IPython.core.display.Math object>"
            ]
          },
          "metadata": {},
          "output_type": "display_data"
        }
      ],
      "source": [
        "def subs(F: Expression, V: dict) -> Expression:\n",
        "  # преобразуем словарь V в списочную форму v\n",
        "  v = {options(k.T)['name']: fix(V[k]).T for k in V}\n",
        "  # вызываем списочную функцию подстановки\n",
        "  return Expression(subs_(F.T, v))\n",
        "\n",
        "def subs_(F: tuple, V: dict) -> tuple:\n",
        "  # рекурсивная функция\n",
        "  # если узел - переменная, ищем ее в словаре\n",
        "  if ID(F) == 'symbol':\n",
        "    n = options(F)['name']\n",
        "    if n in V:\n",
        "      # если переменная есть в словаре, то заменяем ее на соответствующее значение\n",
        "      return V[n]\n",
        "    else:\n",
        "      # иначе оставляем как есть\n",
        "      return F\n",
        "  # если узел - не переменная, то рекурсивно вызываем ту же функцию для всех дочерних узлов\n",
        "  A = [subs_(a, V) for a in items(F)]\n",
        "  # и возвращаем такой же узел, но с обновленными дочерними поддеревьями\n",
        "  return ID(F), *A, options(F)\n",
        "\n",
        "# проверяем\n",
        "\n",
        "x, y = symbol('x'), symbol('y')\n",
        "f = x * y\n",
        "show(f)\n",
        "g = subs(f, {x: 1 + y ** 2})\n",
        "show(g)"
      ]
    },
    {
      "cell_type": "markdown",
      "metadata": {},
      "source": [
        "* Пишем функцию `makeTable(F: Expression, V: list)` для преобразования заданного логического выражения в таблицу истинности. По числу переменных вычисляем высоту таблицы, делаем цикл по ее строкам. Номер строки представляем в двоичной форме, каждая цифра этого представления подставляется вместо соответствующей переменной в исходное выражение. Полученное константное выражение оценивается и преобразуется в 0 или 1. Из значений переменных и вычисленного значения выражения формируется строка таблицы, например, `000|1`. Выходом функции является список всех строк искомой таблицы истинности."
      ]
    },
    {
      "cell_type": "code",
      "execution_count": 53,
      "metadata": {},
      "outputs": [],
      "source": [
        "def makeTable(F: Expression) -> list:\n",
        "  V = getVariables(F.T)\n",
        "  n = len(V) # число переменных, определяет высоту таблицы (2^n)\n",
        "  table = [] # список строк\n",
        "  for i in range(2 ** n): # цикл по строкам таблицы истинности\n",
        "    A = ('0' * n + bin(i)[2:])[-n:] # преобразование номера строки в двоичное число в n разрядах, как это работает?\n",
        "    S = {x: boolean(int(a)) for x, a in zip(V, A)} # словарь для замены\n",
        "    f = options(evaluate(subs(F, S)).T)['value'] # замена + оценивание + преобразование в цифру 0 или 1\n",
        "    table.append(f\"{A}|{f}\") # добавляем строку к таблице\n",
        "  return table\n",
        "\n",
        "\n",
        "def getVariables(F: tuple) -> list:  # !!! в задании требовался F: Expression !!!\n",
        "  if ID(F) == 'symbol':\n",
        "    return [symbol(options(F)['name'])]\n",
        "  v = []\n",
        "  for e in items(F):\n",
        "    v += getVariables(e)\n",
        "  return v\n"
      ]
    },
    {
      "cell_type": "markdown",
      "metadata": {},
      "source": [
        "* Напишите функцию `boolTable(F: Expression, V: list) -> None`, которая бы строила таблицу истинности выражения `F` и выводила ее на экран. Например, вызов `boolTable(x ^ y ^ ~z, [x, y, z])` должен печатать следующую таблицу:\n",
        "\n",
        "```\n",
        "000|1\n",
        "001|0\n",
        "010|0\n",
        "011|1\n",
        "100|0\n",
        "101|1\n",
        "110|1\n",
        "111|0\n",
        "```"
      ]
    },
    {
      "cell_type": "code",
      "execution_count": 54,
      "metadata": {},
      "outputs": [
        {
          "data": {
            "text/latex": [
              "$\\displaystyle x \\oplus y \\oplus \\overline{z}$"
            ],
            "text/plain": [
              "<IPython.core.display.Math object>"
            ]
          },
          "metadata": {},
          "output_type": "display_data"
        },
        {
          "name": "stdout",
          "output_type": "stream",
          "text": [
            "000|1\n",
            "001|0\n",
            "010|0\n",
            "011|1\n",
            "100|0\n",
            "101|1\n",
            "110|1\n",
            "111|0\n"
          ]
        }
      ],
      "source": [
        "def boolTable(F: Expression) -> None:\n",
        "  result = makeTable(F)\n",
        "  print(*result, sep='\\n')\n",
        "\n",
        "x, y, z = symbol('x'), symbol('y'), symbol('z')\n",
        "f = x ^ y ^ ~z\n",
        "show(f)\n",
        "boolTable(f)"
      ]
    },
    {
      "cell_type": "markdown",
      "metadata": {},
      "source": [
        "* (бонусное задание) напишите рекурсивную функцию `getVariables(F: Expression) -> list`, которая бы составляла список всех переменных, входящих в заданное выражение. Модифицируйте функцию `makeTable`, чтобы она принимала на вход только выражение, а список переменных составлялся бы автоматически."
      ]
    },
    {
      "cell_type": "markdown",
      "metadata": {},
      "source": [
        "### СДНФ\n",
        "\n",
        "* Напишите функцию `DNF(V: list, F: str) -> Expression`, которая строит по заданному списку переменных `V` и заданному столбцу таблицы истинности `F` СДНФ. Если все значения в `F` равны нулю, функция должна возвращать логический ноль. Примеры: `DNF([x, y], '0110')` $\\to \\overline{x} \\cdot y \\vee x \\cdot \\overline{y}$, `DNF([x, y], '0110')` $\\to \\mathbf{0}$. Для получения списка значений переменных в строке таблицы с номером `i` используйте аналогичное преобразование из функции `makeTable` (пятая строка кода).\n"
      ]
    },
    {
      "cell_type": "code",
      "execution_count": 55,
      "metadata": {},
      "outputs": [
        {
          "data": {
            "text/latex": [
              "$\\displaystyle \\overline{x} \\wedge y \\vee x \\wedge \\overline{y}$"
            ],
            "text/plain": [
              "<IPython.core.display.Math object>"
            ]
          },
          "metadata": {},
          "output_type": "display_data"
        },
        {
          "data": {
            "text/latex": [
              "$\\displaystyle \\overline{x} \\wedge \\overline{y} \\vee \\overline{x} \\wedge y \\vee x \\wedge \\overline{y} \\vee x \\wedge y$"
            ],
            "text/plain": [
              "<IPython.core.display.Math object>"
            ]
          },
          "metadata": {},
          "output_type": "display_data"
        },
        {
          "data": {
            "text/latex": [
              "$\\displaystyle \\mathbb{0}$"
            ],
            "text/plain": [
              "<IPython.core.display.Math object>"
            ]
          },
          "metadata": {},
          "output_type": "display_data"
        },
        {
          "data": {
            "text/latex": [
              "$\\displaystyle \\overline{x} \\wedge \\overline{y} \\wedge z \\vee \\overline{x} \\wedge y \\wedge z \\vee x \\wedge y \\wedge z$"
            ],
            "text/plain": [
              "<IPython.core.display.Math object>"
            ]
          },
          "metadata": {},
          "output_type": "display_data"
        }
      ],
      "source": [
        "def DNF(V: list, F: str) -> Expression:\n",
        "    if not '1' in F:\n",
        "        return boolean(0)\n",
        "    \n",
        "    n = len(V)\n",
        "    temp_line = ('0' * n + bin(F.index('1'))[2:])[-n:]\n",
        "    result = V[0] if temp_line[0] == '1' else ~V[0]\n",
        "    for i in range(1, n):\n",
        "        if temp_line[i] == '1':\n",
        "            result &= V[i]\n",
        "        else:\n",
        "            result &= ~V[i]\n",
        "    \n",
        "    for i in range(F.index('1') + 1, 2 ** n):\n",
        "        if F[i] == '0':\n",
        "            continue\n",
        "        temp_line = ('0' * n + bin(i)[2:])[-n:]\n",
        "        temp_and = V[0] if temp_line[0] == '1' else ~V[0]\n",
        "        for j in range(1, n):\n",
        "            if temp_line[j] == '1':\n",
        "                temp_and &= V[j]\n",
        "            else:\n",
        "                temp_and &= ~V[j]\n",
        "        result |= temp_and\n",
        "\n",
        "    return result\n",
        "\n",
        "\n",
        "x, y, z = symbol('x'), symbol('y'), symbol('z')\n",
        "f = DNF([x, y], '0110')\n",
        "show(f)\n",
        "f = DNF([x, y], '1111')\n",
        "show(f)\n",
        "f = DNF([x, y], '0000')\n",
        "show(f)\n",
        "f = DNF([x, y, z], '01010001')\n",
        "show(f)"
      ]
    },
    {
      "cell_type": "markdown",
      "metadata": {},
      "source": [
        "* (бонусное задание) Напишите аналогичную функцию `CNF(V: list, F: str) -> Expression`для построения СКНФ по заданной таблице истинности. Принцип двойственности: конъюнкции заменяются на дизъюнкции и наоборот, логический 0 заменяется на 1 и наоборот. Пример: `CNF([x, y], '0110')` $\\to \\left( x \\vee y \\right) \\cdot \\left( \\overline{x} \\vee \\overline{y} \\right)$"
      ]
    },
    {
      "cell_type": "code",
      "execution_count": 56,
      "metadata": {},
      "outputs": [
        {
          "data": {
            "text/latex": [
              "$\\displaystyle \\left( x \\vee y \\right) \\wedge \\left( \\overline{x} \\vee \\overline{y} \\right)$"
            ],
            "text/plain": [
              "<IPython.core.display.Math object>"
            ]
          },
          "metadata": {},
          "output_type": "display_data"
        },
        {
          "data": {
            "text/latex": [
              "$\\displaystyle \\mathbb{1}$"
            ],
            "text/plain": [
              "<IPython.core.display.Math object>"
            ]
          },
          "metadata": {},
          "output_type": "display_data"
        },
        {
          "data": {
            "text/latex": [
              "$\\displaystyle \\left( x \\vee y \\right) \\wedge \\left( x \\vee \\overline{y} \\right) \\wedge \\left( \\overline{x} \\vee y \\right) \\wedge \\left( \\overline{x} \\vee \\overline{y} \\right)$"
            ],
            "text/plain": [
              "<IPython.core.display.Math object>"
            ]
          },
          "metadata": {},
          "output_type": "display_data"
        },
        {
          "data": {
            "text/latex": [
              "$\\displaystyle \\left( x \\vee y \\vee \\overline{z} \\right) \\wedge \\left( \\overline{x} \\vee y \\vee z \\right) \\wedge \\left( \\overline{x} \\vee \\overline{y} \\vee z \\right)$"
            ],
            "text/plain": [
              "<IPython.core.display.Math object>"
            ]
          },
          "metadata": {},
          "output_type": "display_data"
        }
      ],
      "source": [
        "def CNF(V: list, F: str) -> Expression:\n",
        "    if not '0' in F:\n",
        "        return boolean(1)\n",
        "\n",
        "    n = len(V)\n",
        "    temp_line = ('0' * n + bin(F.index('0'))[2:])[-n:]\n",
        "    \n",
        "    result = V[0] if temp_line[0] == '0' else ~V[0]\n",
        "    for i in range(1, n):\n",
        "        if temp_line[i] == '0':\n",
        "            result |= V[i]\n",
        "        else:\n",
        "            result |= ~V[i]\n",
        "    result = result\n",
        "\n",
        "    for i in range(F.index('0') + 1, 2 ** n):\n",
        "        if F[i] == '1':\n",
        "            continue\n",
        "        temp_line = ('0' * n + bin(i)[2:])[-n:]\n",
        "        temp_or = V[0] if temp_line[0] == '0' else ~V[0]\n",
        "        for j in range(1, n):\n",
        "            if temp_line[j] == '0':\n",
        "                temp_or |= V[j]\n",
        "            else:\n",
        "                temp_or |= ~V[j]\n",
        "        result &= temp_or\n",
        "\n",
        "    return result\n",
        "\n",
        "x, y, z = symbol('x'), symbol('y'), symbol('z')\n",
        "f = CNF([x, y], '0110')\n",
        "show(f)\n",
        "f = CNF([x, y], '1111')\n",
        "show(f)\n",
        "f = CNF([x, y], '0000')\n",
        "show(f)\n",
        "f = CNF([x, y, z], '10110101')\n",
        "show(f)"
      ]
    },
    {
      "cell_type": "markdown",
      "metadata": {},
      "source": [
        "* (бонусное задание) Напишите функцию `ZP(V: list, F: str) -> Expression`, преобразующую заданную таблицу истинности в полином Жегалкина. Пример: `ZP([x, y], '1110')` $\\to \\mathbf{1} \\oplus x \\cdot y$"
      ]
    },
    {
      "cell_type": "code",
      "execution_count": 57,
      "metadata": {},
      "outputs": [
        {
          "data": {
            "text/latex": [
              "$\\displaystyle \\mathbb{1} \\oplus x \\wedge y$"
            ],
            "text/plain": [
              "<IPython.core.display.Math object>"
            ]
          },
          "metadata": {},
          "output_type": "display_data"
        },
        {
          "data": {
            "text/latex": [
              "$\\displaystyle \\mathbb{1} \\oplus z \\oplus y \\wedge z \\oplus x \\oplus x \\wedge y \\wedge z$"
            ],
            "text/plain": [
              "<IPython.core.display.Math object>"
            ]
          },
          "metadata": {},
          "output_type": "display_data"
        }
      ],
      "source": [
        "def ZP(V: list, F: str) -> Expression:\n",
        "  lines4mul = str(F[0])\n",
        "  temp = list(map(int, list(F)))\n",
        "  temp_len = len(temp)\n",
        "\n",
        "  while temp_len != 1:\n",
        "    for i in range(temp_len - 1):\n",
        "      temp[i] = temp[i] ^ temp[i + 1]\n",
        "    lines4mul += str(temp[0])\n",
        "    temp_len -= 1\n",
        "  \n",
        "\n",
        "  if not '1' in lines4mul:  # нужна ли и такой ли вывод?\n",
        "    return boolean(0)\n",
        "  \n",
        "  n = len(V)\n",
        "  temp_line = ('0' * n + bin(lines4mul.index('1'))[2:])[-n:]\n",
        "  if '1' in temp_line:\n",
        "    first_1 = temp_line.index('1')\n",
        "    result = V[first_1]\n",
        "    for i in range(first_1 + 1, n):\n",
        "      if temp_line[i] == '1':\n",
        "        result &= V[i]\n",
        "  else:\n",
        "    result = boolean(1)\n",
        "  \n",
        "  for i in range(lines4mul.index('1') + 1, 2 ** n):\n",
        "    if lines4mul[i] == '0':\n",
        "      continue\n",
        "    temp_line = ('0' * n + bin(i)[2:])[-n:]\n",
        "    if '1' in temp_line:\n",
        "      first_1 = temp_line.index('1')\n",
        "      temp_and = V[first_1]\n",
        "      for j in range(first_1 + 1, n):\n",
        "        if temp_line[j] == '1':\n",
        "          temp_and &= V[j]\n",
        "      result ^= temp_and\n",
        "    else:\n",
        "      result ^= boolean(1)\n",
        "  return result\n",
        "\n",
        "\n",
        "x, y, z = symbol('x'), symbol('y'), symbol('z')\n",
        "f = ZP([x, y], '1110')\n",
        "show(f)\n",
        "f = ZP([x, y, z], '10110101')\n",
        "show(f)"
      ]
    },
    {
      "cell_type": "markdown",
      "metadata": {},
      "source": [
        "### Неравенства\n",
        "\n",
        "* Напишите набор функций для представления операций сравнения ($x=y$, $x\\ne y$, $x\\lt y$, $x\\le y$, $x \\gt y$, $x \\ge y$). Примеры:\n",
        " * `show(x != y)` $\\to x \\ne y$\n",
        " * `show(Z(1) < Z(2))` $\\to 1 \\lt 2$\n",
        " * `show((Z(1) < Z(2)) & (Z(4) >= Z(5)))` $\\to (1 \\lt 2) \\wedge (4 \\ge 5) $\n"
      ]
    },
    {
      "cell_type": "code",
      "execution_count": 58,
      "metadata": {},
      "outputs": [
        {
          "data": {
            "text/latex": [
              "$\\displaystyle x \\ne y$"
            ],
            "text/plain": [
              "<IPython.core.display.Math object>"
            ]
          },
          "metadata": {},
          "output_type": "display_data"
        },
        {
          "data": {
            "text/latex": [
              "$\\displaystyle 1 < 2$"
            ],
            "text/plain": [
              "<IPython.core.display.Math object>"
            ]
          },
          "metadata": {},
          "output_type": "display_data"
        },
        {
          "data": {
            "text/latex": [
              "$\\displaystyle \\left( 1 < 2 \\right) \\wedge \\left( 4 \\geq 5 \\right)$"
            ],
            "text/plain": [
              "<IPython.core.display.Math object>"
            ]
          },
          "metadata": {},
          "output_type": "display_data"
        }
      ],
      "source": [
        "# уже было сделано\n",
        "\n",
        "x, y = symbol('x'), symbol('y')\n",
        "show(x != y)\n",
        "show(Z(1) < Z(2))\n",
        "show((Z(1) < Z(2)) & (Z(4) >= Z(5)))"
      ]
    },
    {
      "cell_type": "markdown",
      "metadata": {},
      "source": [
        "* Напишите набор функций для оценивания операций сравнения целых и рациональных чисел. Результат оценивания - логическая константа. Примеры:\n",
        " * `show(evaluate(Z(1) < Z(2)))` $\\to \\mathbb{1}$\n",
        " * `show(evaluate((Z(1) < Z(2)) & (Z(4) >= Z(5))))` $\\to \\mathbb{0}$"
      ]
    },
    {
      "cell_type": "code",
      "execution_count": 59,
      "metadata": {},
      "outputs": [
        {
          "data": {
            "text/latex": [
              "$\\displaystyle \\mathbb{1}$"
            ],
            "text/plain": [
              "<IPython.core.display.Math object>"
            ]
          },
          "metadata": {},
          "output_type": "display_data"
        },
        {
          "data": {
            "text/latex": [
              "$\\displaystyle \\mathbb{0}$"
            ],
            "text/plain": [
              "<IPython.core.display.Math object>"
            ]
          },
          "metadata": {},
          "output_type": "display_data"
        }
      ],
      "source": [
        "OPERATIONS |= {'eq': ['eq_integer_integer', 'eq_rational_rational'], 'ne': ['ne_integer_integer', 'ne_rational_rational'], 'lt': ['lt_integer_integer', 'lt_rational_rational'], 'le': ['le_integer_integer', 'le_rational_rational'], 'gt': ['gt_integer_integer', 'gt_rational_rational'], 'ge': ['ge_integer_integer', 'ge_rational_rational'], 'inv': ['inv_integer_integer', 'inv_rational_rational']}\n",
        "\n",
        "# равно !!! НУЖЕН ЛИ? однако без него не работает оценив. селекторов\n",
        "def eq_integer_integer(a: tuple, b: tuple) -> tuple:\n",
        "    n = options(a)['value']\n",
        "    m = options(b)['value']\n",
        "    return boolean_(n == m)\n",
        "\n",
        "def eq_rational_rational(a: tuple, b: tuple) -> tuple:\n",
        "    na, ma = options(a)['num'], options(a)['denom']\n",
        "    nb, mb = options(b)['num'], options(b)['denom']\n",
        "    return boolean_(na == nb & ma == mb)\n",
        "\n",
        "def eval_eq(x: tuple) -> tuple:\n",
        "    a, b = eval_(x[1]), eval_(x[2])\n",
        "    return eval_binary(ID(x), a, b)\n",
        "\n",
        "# не равно !!! НУЖЕН ЛИ? однако без него не работает оценив. селекторов\n",
        "def ne_integer_integer(a: tuple, b: tuple) -> tuple:\n",
        "    n = options(a)['value']\n",
        "    m = options(b)['value']\n",
        "    return boolean_(n != m)\n",
        "\n",
        "def ne_rational_rational(a: tuple, b: tuple) -> tuple:\n",
        "    na, ma = options(a)['num'], options(a)['denom']\n",
        "    nb, mb = options(b)['num'], options(b)['denom']\n",
        "    return boolean_(na != nb | ma != mb)\n",
        "\n",
        "def eval_ne(x: tuple) -> tuple:\n",
        "    a, b = eval_(x[1]), eval_(x[2])\n",
        "    return eval_binary(ID(x), a, b)\n",
        "\n",
        "# меньше\n",
        "def lt_integer_integer(a: tuple, b: tuple) -> tuple:\n",
        "    n = options(a)['value']\n",
        "    m = options(b)['value']\n",
        "    return boolean_(n < m)\n",
        "\n",
        "def lt_rational_rational(a: tuple, b: tuple) -> tuple:\n",
        "    na, ma = options(a)['num'], options(a)['denom']\n",
        "    nb, mb = options(b)['num'], options(b)['denom']\n",
        "    return boolean_(na * mb < nb * ma)\n",
        "\n",
        "def eval_lt(x: tuple) -> tuple:\n",
        "    a, b = eval_(x[1]), eval_(x[2])\n",
        "    return eval_binary(ID(x), a, b)\n",
        "\n",
        "# меньше или равно\n",
        "def le_integer_integer(a: tuple, b: tuple) -> tuple:\n",
        "    n = options(a)['value']\n",
        "    m = options(b)['value']\n",
        "    return boolean_(n <= m)\n",
        "\n",
        "def le_rational_rational(a: tuple, b: tuple) -> tuple:\n",
        "    na, ma = options(a)['num'], options(a)['denom']\n",
        "    nb, mb = options(b)['num'], options(b)['denom']\n",
        "    return boolean_(na * mb <= nb * ma)\n",
        "\n",
        "def eval_le(x: tuple) -> tuple:\n",
        "    a, b = eval_(x[1]), eval_(x[2])\n",
        "    return eval_binary(ID(x), a, b)\n",
        "\n",
        "# больше\n",
        "def gt_integer_integer(a: tuple, b: tuple) -> tuple:\n",
        "    n = options(a)['value']\n",
        "    m = options(b)['value']\n",
        "    return boolean_(n > m)\n",
        "\n",
        "def gt_rational_rational(a: tuple, b: tuple) -> tuple:\n",
        "    na, ma = options(a)['num'], options(a)['denom']\n",
        "    nb, mb = options(b)['num'], options(b)['denom']\n",
        "    return boolean_(na * mb > nb * ma)\n",
        "\n",
        "def eval_gt(x: tuple) -> tuple:\n",
        "    a, b = eval_(x[1]), eval_(x[2])\n",
        "    return eval_binary(ID(x), a, b)\n",
        "\n",
        "# больше или равно\n",
        "def ge_integer_integer(a: tuple, b: tuple) -> tuple:\n",
        "    n = options(a)['value']\n",
        "    m = options(b)['value']\n",
        "    return boolean_(n >= m)\n",
        "\n",
        "def ge_rational_rational(a: tuple, b: tuple) -> tuple:\n",
        "    na, ma = options(a)['num'], options(a)['denom']\n",
        "    nb, mb = options(b)['num'], options(b)['denom']\n",
        "    return boolean_(na * mb >= nb * ma)\n",
        "\n",
        "def eval_ge(x: tuple) -> tuple:\n",
        "    a, b = eval_(x[1]), eval_(x[2])\n",
        "    return eval_binary(ID(x), a, b)\n",
        "\n",
        "\n",
        "show(evaluate(Z(1) < Z(2)))\n",
        "show(evaluate((Z(1) < Z(2)) & (Z(4) >= Z(5))))"
      ]
    },
    {
      "cell_type": "markdown",
      "metadata": {},
      "source": [
        "### Селекторы (бонусное задание)\n",
        "\n",
        "Выражение-селектор представляет собой последовательность пар (условие, выражение) и служит для выбора первого выражения, для которого выполняется соответствующее условие. Пример использования селекторов:\n",
        "$$|x| = \\cases{x,\\,\\mbox{ if } x \\ge 0,\\\\ -x, \\,\\mbox{ if } x \\lt 0.}$$\n",
        "Или в сокращенном варианте (последнее выражение используется без условия, вариант команды else):\n",
        "$$\\mathrm{sign}(x) = \\cases{1, \\,\\mbox{ if } x \\gt 0,\\\\ 0,\\,\\mbox{ if } x = 0,\\\\ -1\\,\\mbox{ else}.}$$\n",
        "\n",
        "* Функция `select_(*args)` создает списочное выражение-селектор для заданной последовательности нечетного числа аргументов: выражение_0, условие_0, выражение_1, условие_1, ..., выражение_n.\n",
        "* Функция `select(*args)` создает аналогичное выражение-селектор типа `Expression`.\n",
        "* Функция `latex_select` преобразует выражение в формат LaTeX (в линейной форме!)"
      ]
    },
    {
      "cell_type": "code",
      "execution_count": 60,
      "metadata": {},
      "outputs": [
        {
          "data": {
            "text/latex": [
              "$\\displaystyle \\left[{1} \\mathbf{\\,if\\,} {x > 0};{0} \\mathbf{\\,if\\,} {x = 0};{-1} \\mathbf{\\,else}\\right]$"
            ],
            "text/plain": [
              "<IPython.core.display.Math object>"
            ]
          },
          "metadata": {},
          "output_type": "display_data"
        }
      ],
      "source": [
        "def select_(*args) -> tuple:\n",
        "  return 'select', *args, {}\n",
        "\n",
        "def select(*args) -> Expression:\n",
        "  A = [fix(a).T for a in args]\n",
        "  return Expression(select_(*A))\n",
        "\n",
        "def latex_select(x: tuple) -> str:\n",
        "  A = [latex_(a) for a in items(x)]\n",
        "  s = \"\"\n",
        "  for i in range(len(A) // 2):\n",
        "    s += f\"{{{A[2 * i]}}} \\\\mathbf{{\\\\,if\\\\,}} {{{A[2 * i + 1]}}};\"\n",
        "  s += f\"{{{A[-1]}}} \\\\mathbf{{\\\\,else}}\"\n",
        "  return f\"\\\\left[{s}\\\\right]\"\n",
        "\n",
        "x = symbol('x')\n",
        "f = select(Z(1), x > 0, Z(0), x == 0, Z(-1))\n",
        "show(f)"
      ]
    },
    {
      "cell_type": "markdown",
      "metadata": {},
      "source": [
        "* Напишите функцию `eval_select(x: tuple)` для оценивания выражений-селекторов. Пример для выражения `f` из предудыщей вкладки: `evaluate(subs(f, {x: Z(-100)}))` $\\to -1$.\n"
      ]
    },
    {
      "cell_type": "code",
      "execution_count": 61,
      "metadata": {},
      "outputs": [
        {
          "data": {
            "text/latex": [
              "$\\displaystyle 1$"
            ],
            "text/plain": [
              "<IPython.core.display.Math object>"
            ]
          },
          "metadata": {},
          "output_type": "display_data"
        },
        {
          "data": {
            "text/latex": [
              "$\\displaystyle -1$"
            ],
            "text/plain": [
              "<IPython.core.display.Math object>"
            ]
          },
          "metadata": {},
          "output_type": "display_data"
        },
        {
          "data": {
            "text/latex": [
              "$\\displaystyle 0$"
            ],
            "text/plain": [
              "<IPython.core.display.Math object>"
            ]
          },
          "metadata": {},
          "output_type": "display_data"
        }
      ],
      "source": [
        "def eval_select(x: tuple) -> tuple:\n",
        "    true_val = boolean_(1)\n",
        "    elements = items(x)\n",
        "    for i in range(0, len(elements) - 1, 2):\n",
        "        a, b = eval_(elements[i + 1][1]), eval_(elements[i + 1][2])\n",
        "        temp = eval_binary(ID(elements[i + 1]), a, b)\n",
        "        if temp == true_val:\n",
        "            return elements[i]\n",
        "    return elements[-1]\n",
        "\n",
        "\n",
        "show(evaluate(subs(f, {x: Z(3)})))\n",
        "show(evaluate(subs(f, {x: Z(-100)})))\n",
        "show(evaluate(subs(f, {x: Z(0)})))"
      ]
    },
    {
      "cell_type": "markdown",
      "metadata": {},
      "source": [
        "### Множества\n",
        "\n",
        "* Реализуем конечные множества (конструктор, конструктор списочный, преобразование в LaTeX, оценка). Оценка множества - оценивание каждого элемента множества."
      ]
    },
    {
      "cell_type": "code",
      "execution_count": 62,
      "metadata": {},
      "outputs": [
        {
          "data": {
            "text/latex": [
              "$\\displaystyle \\left\\{ 1,\\frac{2}{5} + \\frac{8}{5},3 \\right\\}$"
            ],
            "text/plain": [
              "<IPython.core.display.Math object>"
            ]
          },
          "metadata": {},
          "output_type": "display_data"
        },
        {
          "data": {
            "text/latex": [
              "$\\displaystyle \\left\\{ 1,2,3 \\right\\}$"
            ],
            "text/plain": [
              "<IPython.core.display.Math object>"
            ]
          },
          "metadata": {},
          "output_type": "display_data"
        },
        {
          "data": {
            "text/latex": [
              "$\\displaystyle \\left\\{  \\right\\}$"
            ],
            "text/plain": [
              "<IPython.core.display.Math object>"
            ]
          },
          "metadata": {},
          "output_type": "display_data"
        },
        {
          "data": {
            "text/latex": [
              "$\\displaystyle \\left\\{ 1,\\frac{2}{5} + \\frac{8}{5},2,3 \\right\\}$"
            ],
            "text/plain": [
              "<IPython.core.display.Math object>"
            ]
          },
          "metadata": {},
          "output_type": "display_data"
        },
        {
          "data": {
            "text/latex": [
              "$\\displaystyle \\left\\{ 1,2,2,3 \\right\\}$"
            ],
            "text/plain": [
              "<IPython.core.display.Math object>"
            ]
          },
          "metadata": {},
          "output_type": "display_data"
        }
      ],
      "source": [
        "def fset_(*args) -> tuple:\n",
        "  args = normalize_fset(list(args))  # !!! ЗДЕСЬ ЛИ ЕЕ ВСТАВЛЯТЬ?\n",
        "  return 'fset', *args, {}\n",
        "\n",
        "def fset(*args) -> Expression:\n",
        "  A = [fix(a).T for a in args]\n",
        "  return Expression(fset_(*A))\n",
        "\n",
        "def latex_fset(x: tuple) -> str:\n",
        "  A = [latex_(a) for a in items(x)]\n",
        "  return f\"\\\\left\\\\{{ {','.join(A)} \\\\right\\\\}}\"\n",
        "\n",
        "def eval_fset(x: tuple) -> tuple:\n",
        "  A = [eval_(a) for a in items(x)]\n",
        "  return fset_(*A)\n",
        "\n",
        "def normalize_fset(A: list) -> list:\n",
        "  A_len = len(A)\n",
        "  i = 0\n",
        "  while i + 1 < A_len:\n",
        "    j = i + 1\n",
        "    while j < A_len:\n",
        "      if A[i] == A[j]:\n",
        "        A.pop(j)\n",
        "        A_len -= 1\n",
        "      else:\n",
        "        j += 1\n",
        "    i += 1\n",
        "  return A\n",
        "\n",
        "\n",
        "A = fset(1, Q(2,5) + Q(8, 5), 3)\n",
        "show(A)\n",
        "show(evaluate(A))\n",
        "show(fset())\n",
        "B = fset(1, Q(2,5) + Q(8, 5), 2, 3, 3)\n",
        "show(B)\n",
        "show(evaluate(B))"
      ]
    },
    {
      "cell_type": "markdown",
      "metadata": {},
      "source": [
        "* (бонусное задание) Добавьте к данной реализации функцию нормализации, которая должна удалять из множества повторяющиеся элементы (множество - это набор РАЗНЫХ элементов). Проверку на равенство элементов используйте элементарную - поэлементное равенство двух структур (или равенство строковых представлений этих структур). Вызов функции нормализации вставьте в списочный конструктор."
      ]
    },
    {
      "cell_type": "markdown",
      "metadata": {},
      "source": [
        "### Операции над конечными множествами\n",
        "\n",
        "Операции (дополнение, объединение, пересечение, разность, симметрическая разность) будем реализовывать в виде **функций** (inversion, union, intersection, setdiff, symdiff), а не **бинарных операций**. Рассмотрим процесс на примере реализации операции объединения.\n",
        "\n",
        "* Определяем приоритеты операций (для визуализации формул)\n",
        "* Пишем конструкторы\n",
        "* Пишем преобразование в LaTeX"
      ]
    },
    {
      "cell_type": "code",
      "execution_count": 63,
      "metadata": {},
      "outputs": [
        {
          "data": {
            "text/latex": [
              "$\\displaystyle {X} \\cup {Y}$"
            ],
            "text/plain": [
              "<IPython.core.display.Math object>"
            ]
          },
          "metadata": {},
          "output_type": "display_data"
        }
      ],
      "source": [
        "priority['union'] = 3\n",
        "\n",
        "def union_(x: tuple, y: tuple) -> tuple:\n",
        "  return 'union', x, y, {}\n",
        "\n",
        "def union(x: Expression, y: Expression) -> Expression:\n",
        "  return Expression(union_(fix(x).T, fix(y).T))\n",
        "\n",
        "def latex_union(x: tuple) -> str:\n",
        "  a, b = latex_(x[1]), latex_(x[2])\n",
        "  if Pr(x[1]) < Pr(x):\n",
        "    a = enclose(a)\n",
        "  if Pr(x[2]) <= Pr(x):\n",
        "    b = enclose(b)\n",
        "  return f\"{{{a}}} \\\\cup {{{b}}}\"\n",
        "\n",
        "x, y = symbol('X'), symbol('Y')\n",
        "#show(union(x, y),(x))  # исходный текст\n",
        "show(union(x, y))"
      ]
    },
    {
      "cell_type": "markdown",
      "metadata": {},
      "source": [
        "* Реализуйте по аналогии с объединением все остальные операции над множествами"
      ]
    },
    {
      "cell_type": "code",
      "execution_count": 64,
      "metadata": {},
      "outputs": [
        {
          "data": {
            "text/latex": [
              "$\\displaystyle {X} \\cap {Y}$"
            ],
            "text/plain": [
              "<IPython.core.display.Math object>"
            ]
          },
          "metadata": {},
          "output_type": "display_data"
        }
      ],
      "source": [
        "# пересечение\n",
        "priority['intersection'] = 4\n",
        "\n",
        "def intersection_(x: tuple, y: tuple) -> tuple:\n",
        "  return 'intersection', x, y, {}\n",
        "\n",
        "def intersection(x: Expression, y: Expression) -> Expression:\n",
        "  return Expression(intersection_(fix(x).T, fix(y).T))\n",
        "\n",
        "def latex_intersection(x: tuple) -> str:\n",
        "  a, b = latex_(x[1]), latex_(x[2])\n",
        "  if Pr(x[1]) < Pr(x):\n",
        "    a = enclose(a)\n",
        "  if Pr(x[2]) <= Pr(x):\n",
        "    b = enclose(b)\n",
        "  return f\"{{{a}}} \\\\cap {{{b}}}\"\n",
        "\n",
        "x, y = symbol('X'), symbol('Y')\n",
        "show(intersection(x, y))"
      ]
    },
    {
      "cell_type": "code",
      "execution_count": 65,
      "metadata": {},
      "outputs": [
        {
          "data": {
            "text/latex": [
              "$\\displaystyle {X} \\backslash {Y}$"
            ],
            "text/plain": [
              "<IPython.core.display.Math object>"
            ]
          },
          "metadata": {},
          "output_type": "display_data"
        }
      ],
      "source": [
        "# разность\n",
        "priority['setdiff'] = 2\n",
        "\n",
        "def setdiff_(x: tuple, y: tuple) -> tuple:\n",
        "  return 'setdiff', x, y, {}\n",
        "\n",
        "def setdiff(x: Expression, y: Expression) -> Expression:\n",
        "  return Expression(setdiff_(fix(x).T, fix(y).T))\n",
        "\n",
        "def latex_setdiff(x: tuple) -> str:\n",
        "  a, b = latex_(x[1]), latex_(x[2])\n",
        "  if Pr(x[1]) < Pr(x):\n",
        "    a = enclose(a)\n",
        "  if Pr(x[2]) <= Pr(x):\n",
        "    b = enclose(b)\n",
        "  return f\"{{{a}}} \\\\backslash {{{b}}}\"\n",
        "\n",
        "x, y = symbol('X'), symbol('Y')\n",
        "show(setdiff(x, y))"
      ]
    },
    {
      "cell_type": "code",
      "execution_count": 66,
      "metadata": {},
      "outputs": [
        {
          "data": {
            "text/latex": [
              "$\\displaystyle {X} \\Delta {Y}$"
            ],
            "text/plain": [
              "<IPython.core.display.Math object>"
            ]
          },
          "metadata": {},
          "output_type": "display_data"
        }
      ],
      "source": [
        "# семмитрическая разность\n",
        "priority['symdiff'] = 2  # !!! ТАКОЙ ЛИ ПРИОРИТЕТ?\n",
        "\n",
        "def symdiff_(x: tuple, y: tuple) -> tuple:\n",
        "  return 'symdiff', x, y, {}\n",
        "\n",
        "def symdiff(x: Expression, y: Expression) -> Expression:\n",
        "  return Expression(symdiff_(fix(x).T, fix(y).T))\n",
        "\n",
        "def latex_symdiff(x: tuple) -> str:\n",
        "  a, b = latex_(x[1]), latex_(x[2])\n",
        "  if Pr(x[1]) < Pr(x):\n",
        "    a = enclose(a)\n",
        "  if Pr(x[2]) <= Pr(x):\n",
        "    b = enclose(b)\n",
        "  return f\"{{{a}}} \\Delta {{{b}}}\"\n",
        "\n",
        "\n",
        "x, y = symbol('X'), symbol('Y')\n",
        "show(symdiff(x, y))"
      ]
    },
    {
      "cell_type": "code",
      "execution_count": 67,
      "metadata": {},
      "outputs": [
        {
          "data": {
            "text/latex": [
              "$\\displaystyle \\overline{X}$"
            ],
            "text/plain": [
              "<IPython.core.display.Math object>"
            ]
          },
          "metadata": {},
          "output_type": "display_data"
        }
      ],
      "source": [
        "# дополнение\n",
        "priority['inversion'] = 5\n",
        "\n",
        "def inversion_(x: tuple) -> tuple:\n",
        "  return 'inversion', x, {}\n",
        "\n",
        "def inversion(x: Expression) -> Expression:\n",
        "  return Expression(inversion_(fix(x).T))\n",
        "\n",
        "def latex_inversion(x: tuple) -> str:\n",
        "  a = latex_(x[1])\n",
        "  return f\"\\\\overline{{{a}}}\"\n",
        "\n",
        "\n",
        "x = symbol('X')\n",
        "show(inversion(x))"
      ]
    },
    {
      "cell_type": "markdown",
      "metadata": {},
      "source": [
        "* Напишем функцию оценивания операции объединения (`eval_union`)"
      ]
    },
    {
      "cell_type": "code",
      "execution_count": 68,
      "metadata": {},
      "outputs": [
        {
          "data": {
            "text/latex": [
              "$\\displaystyle {\\left\\{ 0,1,2,3,4,5 \\right\\}} \\cup {\\left\\{ 0,2,4,6,8,10 \\right\\}} = \\left\\{ 0,1,2,3,4,5,6,8,10 \\right\\}$"
            ],
            "text/plain": [
              "<IPython.core.display.Math object>"
            ]
          },
          "metadata": {},
          "output_type": "display_data"
        }
      ],
      "source": [
        "def eval_union(x: tuple) -> tuple:\n",
        "  a, b = eval_(x[1]), eval_(x[2]) # оцениваем операнды\n",
        "  if ID(a) != 'fset' or ID(b) != 'fset':\n",
        "    return ID(x), a, b, {} # если операнды не конечные множества, то ничего не делаем\n",
        "  A, B = list(items(a)), list(items(b)) # преобразуем в списки\n",
        "  C = A[:] # копируем все элементы из A в C\n",
        "  for b in B: # цикл по всем элементам b из B\n",
        "    inA = False\n",
        "    for a in A:\n",
        "      if b == a:\n",
        "        inA = True # нашли в A элемент b\n",
        "        break\n",
        "    if not inA:\n",
        "      C.append(b) # если не нашли b в A, то добавляем b в C\n",
        "  return fset_(*C)\n",
        "\n",
        "\n",
        "A = fset(*list(range(0, 6)))\n",
        "B = fset(*list(range(0, 12, 2)))\n",
        "C = union(A, B)\n",
        "show(C == evaluate(C))"
      ]
    },
    {
      "cell_type": "markdown",
      "metadata": {},
      "source": [
        "* Реализуйте оценивание остальных операций над множествами"
      ]
    },
    {
      "cell_type": "code",
      "execution_count": 69,
      "metadata": {},
      "outputs": [
        {
          "data": {
            "text/latex": [
              "$\\displaystyle {\\left\\{ 0,1,2,3,4,5 \\right\\}} \\cap {\\left\\{ 0,2,4,6,8,10 \\right\\}} = \\left\\{ 0,2,4 \\right\\}$"
            ],
            "text/plain": [
              "<IPython.core.display.Math object>"
            ]
          },
          "metadata": {},
          "output_type": "display_data"
        }
      ],
      "source": [
        "# пересечение\n",
        "def eval_intersection(x: tuple) -> tuple:\n",
        "  a, b = eval_(x[1]), eval_(x[2]) # оцениваем операнды\n",
        "  if ID(a) != 'fset' or ID(b) != 'fset':\n",
        "    return ID(x), a, b, {} # если операнды не конечные множества, то ничего не делаем\n",
        "  A, B = list(items(a)), list(items(b)) # преобразуем в списки\n",
        "  C = []\n",
        "  for a in A:\n",
        "    for b in B:\n",
        "      if a == b:\n",
        "        C.append(b)\n",
        "  return fset_(*C)\n",
        "\n",
        "\n",
        "C = intersection(A, B)\n",
        "show(C == evaluate(C))"
      ]
    },
    {
      "cell_type": "code",
      "execution_count": 70,
      "metadata": {},
      "outputs": [
        {
          "data": {
            "text/latex": [
              "$\\displaystyle {\\left\\{ 0,1,2,3,4,5 \\right\\}} \\backslash {\\left\\{ 0,2,4,6,8,10 \\right\\}} = \\left\\{ 1,3,5 \\right\\}$"
            ],
            "text/plain": [
              "<IPython.core.display.Math object>"
            ]
          },
          "metadata": {},
          "output_type": "display_data"
        }
      ],
      "source": [
        "# разность\n",
        "def eval_setdiff(x: tuple) -> tuple:\n",
        "  a, b = eval_(x[1]), eval_(x[2]) # оцениваем операнды\n",
        "  if ID(a) != 'fset' or ID(b) != 'fset':\n",
        "    return ID(x), a, b, {} # если операнды не конечные множества, то ничего не делаем\n",
        "  A, B = list(items(a)), list(items(b)) # преобразуем в списки\n",
        "  C = []\n",
        "  for a in A:\n",
        "    for b in B:\n",
        "      if a == b:\n",
        "        break\n",
        "    else:\n",
        "      C.append(a)\n",
        "  return fset_(*C)\n",
        "\n",
        "\n",
        "C = setdiff(A, B)\n",
        "show(C == evaluate(C))"
      ]
    },
    {
      "cell_type": "code",
      "execution_count": 71,
      "metadata": {},
      "outputs": [
        {
          "data": {
            "text/latex": [
              "$\\displaystyle {\\left\\{ 0,1,2,3,4,5 \\right\\}} \\Delta {\\left\\{ 0,2,4,6,8,10 \\right\\}} = \\left\\{ 1,3,5,6,8,10 \\right\\}$"
            ],
            "text/plain": [
              "<IPython.core.display.Math object>"
            ]
          },
          "metadata": {},
          "output_type": "display_data"
        }
      ],
      "source": [
        "# симметрическая разность\n",
        "def eval_symdiff(x: tuple) -> tuple:\n",
        "  a, b = eval_(x[1]), eval_(x[2]) # оцениваем операнды\n",
        "  if ID(a) != 'fset' or ID(b) != 'fset':\n",
        "    return ID(x), a, b, {} # если операнды не конечные множества, то ничего не делаем\n",
        "  A, B = list(items(a)), list(items(b)) # преобразуем в списки\n",
        "  C = []\n",
        "  for a in A:\n",
        "    for b in B:\n",
        "      if a == b:\n",
        "        break\n",
        "    else:\n",
        "      C.append(a)\n",
        "\n",
        "  for b in B:\n",
        "    for a in A:\n",
        "      if a == b:\n",
        "        break\n",
        "    else:\n",
        "      C.append(b)\n",
        "  return fset_(*C)\n",
        "\n",
        "\n",
        "C = symdiff(A, B)\n",
        "show(C == evaluate(C))"
      ]
    },
    {
      "cell_type": "markdown",
      "metadata": {},
      "source": [
        "* (бонусное задание) Реализуйте быстрый вариант оценивания операций через предварительную сортировку элементов множества (см. презентацию лекции). Проведите сравнение двух реализаций по времени выполнения операций для больших множеств `A = fset(*list(range(0, n)))`, `B = fset(*list(range(0, 2 * n, 2)))`, для значений `n` из набора [10, 100, 1000, 10000]."
      ]
    },
    {
      "cell_type": "code",
      "execution_count": 72,
      "metadata": {},
      "outputs": [
        {
          "data": {
            "text/plain": [
              "[('integer', {'value': -1}),\n",
              " ('rational', {'num': 1, 'denom': 5}),\n",
              " ('rational', {'num': 1, 'denom': 2}),\n",
              " ('integer', {'value': 2})]"
            ]
          },
          "execution_count": 72,
          "metadata": {},
          "output_type": "execute_result"
        }
      ],
      "source": [
        "# сортировка\n",
        "def fset_sort(x: list) -> list:\n",
        "    return sorted(x, key=lambda e: options(e)['value'] if ID(e) == 'integer' else options(e)['num'] / options(e)['denom'])\n",
        "\n",
        "\n",
        "A = fset(Q(1, 2), Q(1, 5), 2, -1)\n",
        "fset_sort(items(A.T))"
      ]
    },
    {
      "cell_type": "code",
      "execution_count": 73,
      "metadata": {},
      "outputs": [
        {
          "data": {
            "text/latex": [
              "$\\displaystyle {\\left\\{ 0,1,2,3,4,5 \\right\\}} \\cup {\\left\\{ 0,2,4,6,8,10 \\right\\}} = \\left\\{ 0,1,2,3,4,5,6,8,10 \\right\\}$"
            ],
            "text/plain": [
              "<IPython.core.display.Math object>"
            ]
          },
          "metadata": {},
          "output_type": "display_data"
        }
      ],
      "source": [
        "# быстрое объединение\n",
        "def eval_union_quick(x: Expression) -> Expression:\n",
        "    x = x.T\n",
        "    a, b = eval_(x[1]), eval_(x[2])\n",
        "    if ID(a) != 'fset' or ID(b) != 'fset':\n",
        "        return ID(x), a, b, {}\n",
        "    A, B = fset_sort(list(items(a))), fset_sort(list(items(b)))\n",
        "    A_len = len(A)\n",
        "    B_len = len(B)\n",
        "\n",
        "    if not A_len:\n",
        "        return Expression(fset_(*B))\n",
        "    if not B_len:\n",
        "        return Expression(fset_(*A))\n",
        "\n",
        "    C = []\n",
        "    i = 0\n",
        "    j = 0\n",
        "\n",
        "    while i < A_len or j < B_len:\n",
        "        if i < A_len and j < B_len and options(eval_(eq_(A[i], B[j])))['value']:\n",
        "            C.append(A[i])\n",
        "            i += 1\n",
        "            j += 1\n",
        "        elif i < A_len and j < B_len and options(eval_(lt_(A[i], B[j])))['value']:\n",
        "            C.append(A[i])\n",
        "            i += 1\n",
        "        elif i < A_len and j < B_len and options(eval_(gt_(A[i], B[j])))['value']:\n",
        "            C.append(B[j])\n",
        "            j += 1\n",
        "        elif options(eval_(lt_(A[i - 1], B[j])))['value']:\n",
        "            C.append(B[j])\n",
        "            j += 1\n",
        "        else:\n",
        "            C.append(A[i])\n",
        "            i += 1\n",
        "    return Expression(fset_(*C))\n",
        "\n",
        "\n",
        "A = fset(*list(range(0, 6)))\n",
        "B = fset(*list(range(0, 12, 2)))\n",
        "C = union(A, B)\n",
        "show(C == eval_union_quick(C))"
      ]
    },
    {
      "cell_type": "code",
      "execution_count": 74,
      "metadata": {},
      "outputs": [
        {
          "data": {
            "text/latex": [
              "$\\displaystyle {\\left\\{ 0,1,2,3,4,5 \\right\\}} \\cap {\\left\\{ 0,2,4,6,8,10 \\right\\}} = \\left\\{ 0,2,4 \\right\\}$"
            ],
            "text/plain": [
              "<IPython.core.display.Math object>"
            ]
          },
          "metadata": {},
          "output_type": "display_data"
        }
      ],
      "source": [
        "# быстрое пересечение\n",
        "def eval_intersection_quick(x: Expression) -> Expression:\n",
        "    x = x.T\n",
        "    a, b = eval_(x[1]), eval_(x[2])\n",
        "    if ID(a) != 'fset' or ID(b) != 'fset':\n",
        "        return ID(x), a, b, {}\n",
        "    A, B = fset_sort(list(items(a))), fset_sort(list(items(b)))\n",
        "    A_len = len(A)\n",
        "    B_len = len(B)\n",
        "\n",
        "    C = []\n",
        "    i = 0\n",
        "    j = 0\n",
        "\n",
        "    while i < A_len and j < B_len:\n",
        "        if options(eval_(lt_(A[i], B[j])))['value']:\n",
        "            i += 1\n",
        "        elif options(eval_(gt_(A[i], B[j])))['value']:\n",
        "            j += 1\n",
        "        else:\n",
        "            C.append(A[i])\n",
        "            i += 1\n",
        "            j += 1\n",
        "    return Expression(fset_(*C))\n",
        "\n",
        "\n",
        "C = intersection(A, B)\n",
        "show(C == eval_intersection_quick(C))"
      ]
    },
    {
      "cell_type": "code",
      "execution_count": 75,
      "metadata": {},
      "outputs": [
        {
          "data": {
            "text/latex": [
              "$\\displaystyle {\\left\\{ 0,1,2,3,4,5 \\right\\}} \\backslash {\\left\\{ 0,2,4,6,8,10 \\right\\}} = \\left\\{ 1,3,5 \\right\\}$"
            ],
            "text/plain": [
              "<IPython.core.display.Math object>"
            ]
          },
          "metadata": {},
          "output_type": "display_data"
        }
      ],
      "source": [
        "# быстрая разность\n",
        "def eval_setdiff_quick(x: Expression) -> Expression:\n",
        "    x = x.T\n",
        "    a, b = eval_(x[1]), eval_(x[2])\n",
        "    if ID(a) != 'fset' or ID(b) != 'fset':\n",
        "        return ID(x), a, b, {}\n",
        "    A, B = fset_sort(list(items(a))), fset_sort(list(items(b)))\n",
        "    A_len = len(A)\n",
        "    B_len = len(B)\n",
        "\n",
        "    if not A_len:\n",
        "        return Expression(fset_())\n",
        "    if not B_len:\n",
        "        return Expression(fset_(*A))\n",
        "\n",
        "    C = []\n",
        "    i = 0\n",
        "    j = 0\n",
        "\n",
        "    while i < A_len or j < B_len:\n",
        "        if i < A_len and j < B_len and options(eval_(eq_(A[i], B[j])))['value']:\n",
        "            i += 1\n",
        "            j += 1\n",
        "        elif i < A_len and j < B_len and options(eval_(lt_(A[i], B[j])))['value']:\n",
        "            C.append(A[i])\n",
        "            i += 1\n",
        "        elif i < A_len and j < B_len and options(eval_(gt_(A[i], B[j])))['value']:\n",
        "            j += 1\n",
        "        elif options(eval_(lt_(A[i - 1], B[j])))['value']:\n",
        "            j += 1\n",
        "        else:\n",
        "            C.append(A[i])\n",
        "            i += 1\n",
        "    return Expression(fset_(*C))\n",
        "\n",
        "\n",
        "C = setdiff(A, B)\n",
        "show(C == eval_setdiff_quick(C))"
      ]
    },
    {
      "cell_type": "code",
      "execution_count": 76,
      "metadata": {},
      "outputs": [
        {
          "data": {
            "text/latex": [
              "$\\displaystyle {\\left\\{ 0,1,2,3,4,5 \\right\\}} \\Delta {\\left\\{ 0,2,4,6,8,10 \\right\\}} = \\left\\{ 1,3,5,6,8,10 \\right\\}$"
            ],
            "text/plain": [
              "<IPython.core.display.Math object>"
            ]
          },
          "metadata": {},
          "output_type": "display_data"
        }
      ],
      "source": [
        "# быстрая симметрическая разность\n",
        "def eval_symdiff_quick(x: Expression) -> Expression:\n",
        "    x = x.T\n",
        "    a, b = eval_(x[1]), eval_(x[2])\n",
        "    if ID(a) != 'fset' or ID(b) != 'fset':\n",
        "        return ID(x), a, b, {}\n",
        "    A, B = fset_sort(list(items(a))), fset_sort(list(items(b)))\n",
        "    A_len = len(A)\n",
        "    B_len = len(B)\n",
        "\n",
        "    if not A_len:\n",
        "        return Expression(fset_(*B))\n",
        "    if not B_len:\n",
        "        return Expression(fset_(*A))\n",
        "    \n",
        "    C = []\n",
        "    i = 0\n",
        "    j = 0\n",
        "\n",
        "    while i < A_len or j < B_len:\n",
        "        if i < A_len and j < B_len and options(eval_(eq_(A[i], B[j])))['value']:\n",
        "            i += 1\n",
        "            j += 1\n",
        "        elif i < A_len and j < B_len and options(eval_(lt_(A[i], B[j])))['value']:\n",
        "            C.append(A[i])\n",
        "            i += 1\n",
        "        elif i < A_len and j < B_len and options(eval_(gt_(A[i], B[j])))['value']:\n",
        "            C.append(B[j])\n",
        "            j += 1\n",
        "        elif options(eval_(lt_(A[i - 1], B[j])))['value']:\n",
        "            C.append(B[j])\n",
        "            j += 1\n",
        "        else:\n",
        "            C.append(A[i])\n",
        "            i += 1\n",
        "    return Expression(fset_(*C))\n",
        "\n",
        "\n",
        "C = symdiff(A, B)\n",
        "show(C == eval_symdiff_quick(C))"
      ]
    },
    {
      "cell_type": "code",
      "execution_count": 77,
      "metadata": {},
      "outputs": [],
      "source": [
        "# сравнение (закомментировано по умолчанию)\n",
        "\n",
        "def fset_compare_operations():\n",
        "    n_list = [10, 100, 1000, 3000]\n",
        "    # n_list = [10, 100, 1000, 10000]\n",
        "    print('\\t\\tNormal\\t  Quick')\n",
        "    for n in n_list:\n",
        "        print(n)\n",
        "        A = fset(*list(range(0, n)))\n",
        "        B = fset(*list(range(0, 2 * n, 2)))\n",
        "\n",
        "        # объединение\n",
        "        C1 = union(A, B)\n",
        "        start_time = time.time()\n",
        "        evaluate(C1)\n",
        "        end_time = time.time()\n",
        "        elapsed_time = str(round(end_time - start_time, 4))\n",
        "        print('Union:\\t\\t', elapsed_time, ' ' * (10 - len(elapsed_time)), sep='', end='')\n",
        "\n",
        "        start_time = time.time()\n",
        "        eval_union_quick(C1)\n",
        "        end_time = time.time()\n",
        "        elapsed_time = str(round(end_time - start_time, 4))\n",
        "        print(elapsed_time)\n",
        "        \n",
        "        # пересечение\n",
        "        C2 = intersection(A, B)\n",
        "        start_time = time.time()\n",
        "        evaluate(C2)\n",
        "        end_time = time.time()\n",
        "        elapsed_time = str(round(end_time - start_time, 4))\n",
        "        print('Intersection:\\t', elapsed_time, ' ' * (10 - len(elapsed_time)), sep='', end='')\n",
        "\n",
        "        start_time = time.time()\n",
        "        eval_intersection_quick(C2)\n",
        "        end_time = time.time()\n",
        "        elapsed_time = str(round(end_time - start_time, 4))\n",
        "        print(elapsed_time)\n",
        "\n",
        "        # разность\n",
        "        C3 = setdiff(A, B)\n",
        "        start_time = time.time()\n",
        "        evaluate(C3)\n",
        "        end_time = time.time()\n",
        "        elapsed_time = str(round(end_time - start_time, 4))\n",
        "        print('Setdiff:\\t', elapsed_time, ' ' * (10 - len(elapsed_time)), sep='', end='')\n",
        "\n",
        "        start_time = time.time()\n",
        "        eval_setdiff_quick(C3)\n",
        "        end_time = time.time()\n",
        "        elapsed_time = str(round(end_time - start_time, 4))\n",
        "        print(elapsed_time)\n",
        "\n",
        "        # симметрическая разность\n",
        "        C4 = symdiff(A, B)\n",
        "        start_time = time.time()\n",
        "        evaluate(C4)\n",
        "        end_time = time.time()\n",
        "        elapsed_time = str(round(end_time - start_time, 4))\n",
        "        print('Symdiff:\\t', elapsed_time, ' ' * (10 - len(elapsed_time)), sep='', end='')\n",
        "\n",
        "        start_time = time.time()\n",
        "        eval_symdiff_quick(C4)\n",
        "        end_time = time.time()\n",
        "        elapsed_time = str(round(end_time - start_time, 4))\n",
        "        print(elapsed_time)\n",
        "\n",
        "        print()\n",
        "\n",
        "\n",
        "# import time\n",
        "# fset_compare_operations()"
      ]
    },
    {
      "cell_type": "markdown",
      "metadata": {},
      "source": [
        "### Другие \"типы\" множеств\n",
        "\n",
        "Реализуйте представление множеств следующих типов (только конструкторы и преобразователи в LaTeX):\n",
        "\n",
        "* Множества-константы (`cset`): $\\mathbb{N}$, $\\mathbb{Z}$, $\\mathbb{Q}$, $\\mathbb{R}$, $\\varnothing$.\n",
        "* Интервальные множества (`iset`): $(-\\infty, 0) \\cup (1, 2]$. Задаются набором пар границ и их типов (закрытые/открытые). Также нужно будет определить специальный объект - бесконечность, `infinity`.\n",
        "* Параметрические множества (`pset`): $\\{2n+1\\,|\\,n\\in \\mathbb{Z}\\}$. Задаются тремя элементами - выражением ($2n+1$), переменной ($n$), множеством ($\\mathbb{Z}$).\n",
        "* Условные множества (`aset`): $\\{x\\in\\mathbb{R}\\,|\\,x>0\\}$. Задаются тремя элементами - переменной, множеством, условием."
      ]
    },
    {
      "cell_type": "code",
      "execution_count": 78,
      "metadata": {},
      "outputs": [
        {
          "data": {
            "text/latex": [
              "$\\displaystyle \\mathbb{N}$"
            ],
            "text/plain": [
              "<IPython.core.display.Math object>"
            ]
          },
          "metadata": {},
          "output_type": "display_data"
        },
        {
          "data": {
            "text/latex": [
              "$\\displaystyle \\mathbb{Q}$"
            ],
            "text/plain": [
              "<IPython.core.display.Math object>"
            ]
          },
          "metadata": {},
          "output_type": "display_data"
        },
        {
          "data": {
            "text/latex": [
              "$\\displaystyle \\varnothing$"
            ],
            "text/plain": [
              "<IPython.core.display.Math object>"
            ]
          },
          "metadata": {},
          "output_type": "display_data"
        }
      ],
      "source": [
        "# множества-константы\n",
        "def cset_(x: str) -> tuple:\n",
        "    return 'cset', {'value': x}\n",
        "\n",
        "def cset(x: str) -> Expression:\n",
        "    return Expression(cset_(x))\n",
        "\n",
        "def latex_cset(x: tuple) -> str:\n",
        "    number_systems = {'natural': 'N', 'natural numbers': 'N', 'n': 'N',\n",
        "                      'integer': 'Z', 'integers': 'Z', 'z': 'Z',\n",
        "                      'rational' : 'Q', 'rational numbers': 'Q', 'q': 'Q',\n",
        "                      'real': 'R', 'real numbers': 'R', 'r': 'R'}\n",
        "    a = options(x)['value'].lower()\n",
        "    if a in number_systems:\n",
        "        return f'\\\\mathbb{{{number_systems[a]}}}'\n",
        "    return f'\\\\varnothing'\n",
        "\n",
        "\n",
        "show(cset('N'))\n",
        "show(cset('Rational'))\n",
        "show(cset(''))"
      ]
    },
    {
      "cell_type": "code",
      "execution_count": 79,
      "metadata": {},
      "outputs": [
        {
          "data": {
            "text/latex": [
              "$\\displaystyle \\infty$"
            ],
            "text/plain": [
              "<IPython.core.display.Math object>"
            ]
          },
          "metadata": {},
          "output_type": "display_data"
        },
        {
          "data": {
            "text/latex": [
              "$\\displaystyle \\left(-\\infty,3\\right]\\,\\cup\\,\\left(5,10\\right)$"
            ],
            "text/plain": [
              "<IPython.core.display.Math object>"
            ]
          },
          "metadata": {},
          "output_type": "display_data"
        }
      ],
      "source": [
        "# интервальные множества\n",
        "def infinity_() -> tuple:\n",
        "    return 'infinity', {}\n",
        "\n",
        "def infinity() -> Expression:\n",
        "    return Expression(infinity_())\n",
        "\n",
        "def latex_infinity(x: tuple) -> str:\n",
        "    return f'\\\\infty'\n",
        "\n",
        "def iset_(*args) -> tuple:\n",
        "    return 'iset', *args, {}\n",
        "\n",
        "def iset(*args) -> Expression:\n",
        "    return Expression(iset_(*args))\n",
        "\n",
        "def latex_iset(x: tuple) -> str:\n",
        "    elements = items(x)\n",
        "\n",
        "    ob = '[' if elements[0][0] else '('\n",
        "    ov = latex_(fix(elements[0][1]).T)\n",
        "    cb = ']' if elements[0][2] else ')'\n",
        "    cv = latex_(fix(elements[0][3]).T)\n",
        "    s = f'\\\\left{ob}{ov},{cv}\\\\right{cb}'\n",
        "\n",
        "    for i in range(1, len(elements)):\n",
        "        ob = '[' if elements[i][0] else '('\n",
        "        ov = latex_(fix(elements[i][1]).T)\n",
        "        cb = ']' if elements[i][2] else ')'\n",
        "        cv = latex_(fix(elements[i][3]).T)\n",
        "        s += f'\\,\\\\cup\\,\\\\left{ob}{ov},{cv}\\\\right{cb}'\n",
        "    return s\n",
        "\n",
        "inf = infinity()\n",
        "show(inf)\n",
        "f = iset([False, -inf, True, 3], [False, 5, False, 10])\n",
        "show(f)"
      ]
    },
    {
      "cell_type": "code",
      "execution_count": 80,
      "metadata": {},
      "outputs": [
        {
          "data": {
            "text/latex": [
              "$\\displaystyle \\left\\{2 \\cdot n + 1\\,|\\,n\\in\\mathbb{Z}\\right\\}$"
            ],
            "text/plain": [
              "<IPython.core.display.Math object>"
            ]
          },
          "metadata": {},
          "output_type": "display_data"
        }
      ],
      "source": [
        "# параметрические множества\n",
        "def pset_(e: Expression, v: Expression, s: Expression) -> tuple:\n",
        "    return 'pset', {'expression': e, 'variable': v, 'set': s}\n",
        "\n",
        "def pset(e: Expression, v: Expression, s: Expression) -> Expression:\n",
        "    return Expression(pset_(e, v, s))\n",
        "\n",
        "def latex_pset(x: tuple) -> str:\n",
        "    e = latex_(options(x)['expression'].T)\n",
        "    v = latex_(options(x)['variable'].T)\n",
        "    s = latex_(options(x)['set'].T)\n",
        "    return f'\\left\\{{{e}\\,|\\,{v}\\in{s}\\\\right\\}}'\n",
        "\n",
        "\n",
        "n = symbol('n')\n",
        "f = 2 * n + 1\n",
        "s = cset('Z')\n",
        "show(pset(f, n, s))"
      ]
    },
    {
      "cell_type": "code",
      "execution_count": 81,
      "metadata": {},
      "outputs": [
        {
          "data": {
            "text/latex": [
              "$\\displaystyle \\left\\{x\\in\\mathbb{R}\\,|\\,x > 0\\right\\}$"
            ],
            "text/plain": [
              "<IPython.core.display.Math object>"
            ]
          },
          "metadata": {},
          "output_type": "display_data"
        }
      ],
      "source": [
        "# условные множества\n",
        "def aset_(v: Expression, s: Expression, c: Expression) -> tuple:\n",
        "    return 'aset', {'variable': v, 'set': s, 'condition': c}\n",
        "\n",
        "def aset(v: Expression, s: Expression, c: Expression) -> Expression:\n",
        "    return Expression(aset_(v, s, c))\n",
        "\n",
        "def latex_aset(x: tuple) -> str:\n",
        "    v = latex_(options(x)['variable'].T)\n",
        "    s = latex_(options(x)['set'].T)\n",
        "    c = latex_(options(x)['condition'].T)\n",
        "    return f'\\left\\{{{v}\\in{s}\\,|\\,{c}\\\\right\\}}'\n",
        "\n",
        "\n",
        "x = symbol('x')\n",
        "s = cset('R')\n",
        "c = x > 0\n",
        "show(aset(x, s, c))"
      ]
    },
    {
      "cell_type": "markdown",
      "metadata": {},
      "source": [
        "❌\n",
        "* (бонусное задание) Реализуйте оценивание множественных операций над интервальными множествами."
      ]
    },
    {
      "cell_type": "code",
      "execution_count": 82,
      "metadata": {},
      "outputs": [
        {
          "data": {
            "text/plain": [
              "Ellipsis"
            ]
          },
          "execution_count": 82,
          "metadata": {},
          "output_type": "execute_result"
        }
      ],
      "source": [
        "..."
      ]
    },
    {
      "cell_type": "markdown",
      "metadata": {},
      "source": [
        "### Матрицы\n",
        "\n",
        "* Пишем конструктор матриц произвольного размера, входом является список элементов и рамеры матрицы."
      ]
    },
    {
      "cell_type": "code",
      "execution_count": 83,
      "metadata": {},
      "outputs": [],
      "source": [
        "def matrix_(A: list, n: int, m: int) -> tuple:\n",
        "  return 'matrix', *A, {'dim': (n, m)}\n",
        "\n",
        "def matrix(A: list, n: int, m: int) -> Expression:\n",
        "  B = [fix(a).T for a in A]\n",
        "  return Expression(matrix_(B, n, m))"
      ]
    },
    {
      "cell_type": "markdown",
      "metadata": {},
      "source": [
        "* Реализуйте функцию преобразования матрицы в формат LaTeX. Пример: `matrix([1, 2, 3, 4], 2, 2)` $\\to \\left[\\begin{array}{cc} 1 & 2 \\\\ 3 & 4 \\\\\\end{array}\\right]$ (см. код вкладки)."
      ]
    },
    {
      "cell_type": "code",
      "execution_count": 84,
      "metadata": {},
      "outputs": [
        {
          "data": {
            "text/latex": [
              "$\\displaystyle \\left[\\begin{array}{cc}1 & 2 \\\\ 3 & 4 \\\\ \\end{array}\\right]$"
            ],
            "text/plain": [
              "<IPython.core.display.Math object>"
            ]
          },
          "metadata": {},
          "output_type": "display_data"
        },
        {
          "data": {
            "text/latex": [
              "$\\displaystyle \\left[\\begin{array}{cc}1 & 2 \\\\ 3 & 4 \\\\ 5 & 6 \\\\ \\end{array}\\right]$"
            ],
            "text/plain": [
              "<IPython.core.display.Math object>"
            ]
          },
          "metadata": {},
          "output_type": "display_data"
        },
        {
          "data": {
            "text/latex": [
              "$\\displaystyle \\left[\\begin{array}{cc}1 & 2 & 3 \\\\ 4 & 5 & 6 \\\\ \\end{array}\\right]$"
            ],
            "text/plain": [
              "<IPython.core.display.Math object>"
            ]
          },
          "metadata": {},
          "output_type": "display_data"
        }
      ],
      "source": [
        "def latex_matrix(x: tuple) -> str:\n",
        "  elements = items(x)\n",
        "  n = options(x)['dim'][0]\n",
        "  m = options(x)['dim'][1]\n",
        "  s = ''\n",
        "  for i in range(n):\n",
        "    s += latex_(elements[i * m])\n",
        "    for j in range(1, m):\n",
        "      e = latex_(elements[i * m + j])\n",
        "      s += f' & {e}'\n",
        "    s += f' \\\\\\\\ '\n",
        "  return f'\\left[\\\\begin{{array}}{{cc}}{s}\\\\end{{array}}\\\\right]'\n",
        "\n",
        "\n",
        "A = matrix([1, 2, 3, 4], 2, 2)\n",
        "show(A)\n",
        "B = matrix([1, 2, 3, 4, 5, 6], 3, 2)\n",
        "show(B)\n",
        "C = matrix([1, 2, 3, 4, 5, 6], 2, 3)\n",
        "show(C)"
      ]
    },
    {
      "cell_type": "markdown",
      "metadata": {},
      "source": [
        "* Напишите функции-конструкторы векторов (`cvector` - столбцы, `rvector` - строки), аргументом является список значений, длина вычисляется автоматически. Внутренним представлением должна быть **матрица**, у которой одна из размерностей будет равна единице (т.е. новый тип объектов создавать не нужно). Пример:\n",
        "`cvector([1, 2]).T` $\\to$ `('matrix', ('integer', {'value': 1}), ('integer', {'value': 2}), {'dim': (2, 1)})`."
      ]
    },
    {
      "cell_type": "code",
      "execution_count": 85,
      "metadata": {},
      "outputs": [
        {
          "data": {
            "text/latex": [
              "$\\displaystyle \\left[\\begin{array}{cc}1 & 2 & 3 \\\\ \\end{array}\\right]$"
            ],
            "text/plain": [
              "<IPython.core.display.Math object>"
            ]
          },
          "metadata": {},
          "output_type": "display_data"
        },
        {
          "data": {
            "text/latex": [
              "$\\displaystyle \\left[\\begin{array}{cc}1 \\\\ 2 \\\\ 3 \\\\ \\end{array}\\right]$"
            ],
            "text/plain": [
              "<IPython.core.display.Math object>"
            ]
          },
          "metadata": {},
          "output_type": "display_data"
        }
      ],
      "source": [
        "def cvector(A: list) -> Expression:\n",
        "  return matrix(A, 1, len(A))\n",
        "\n",
        "def rvector(A: list) -> Expression:\n",
        "  return matrix(A, len(A), 1)\n",
        "\n",
        "\n",
        "A = cvector([1, 2, 3])\n",
        "show(A)\n",
        "B = rvector([1, 2, 3])\n",
        "show(B)"
      ]
    },
    {
      "cell_type": "markdown",
      "metadata": {},
      "source": [
        "* Напишите функцию `eval_matrix`, выполняющую оценивание элементов матрицы."
      ]
    },
    {
      "cell_type": "code",
      "execution_count": 86,
      "metadata": {},
      "outputs": [
        {
          "data": {
            "text/latex": [
              "$\\displaystyle \\left[\\begin{array}{cc}1 & 2 \\cdot 7 \\\\ 3 & 4 \\\\ \\end{array}\\right]$"
            ],
            "text/plain": [
              "<IPython.core.display.Math object>"
            ]
          },
          "metadata": {},
          "output_type": "display_data"
        },
        {
          "data": {
            "text/latex": [
              "$\\displaystyle \\left[\\begin{array}{cc}1 & 14 \\\\ 3 & 4 \\\\ \\end{array}\\right]$"
            ],
            "text/plain": [
              "<IPython.core.display.Math object>"
            ]
          },
          "metadata": {},
          "output_type": "display_data"
        }
      ],
      "source": [
        "def eval_matrix(x: tuple) -> tuple:\n",
        "  elements = [eval_(e) for e in list(items(x))]\n",
        "  dims = options(x)['dim']\n",
        "  return matrix_(elements, dims[0], dims[1])\n",
        "\n",
        "\n",
        "A = matrix([1, Z(2) * Z(7), 3, 4], 2, 2)\n",
        "show(A)\n",
        "show(evaluate(A))"
      ]
    },
    {
      "cell_type": "markdown",
      "metadata": {},
      "source": [
        "* Реализуйте оценивание арифметических операций над матрицами: умножение на число, сложение, вычитание, умножение."
      ]
    },
    {
      "cell_type": "code",
      "execution_count": 87,
      "metadata": {},
      "outputs": [
        {
          "data": {
            "text/latex": [
              "$\\displaystyle \\left[\\begin{array}{cc}\\frac{2}{3} & 3 \\\\ 4 & -\\frac{1}{4} \\\\ \\end{array}\\right] + \\left[\\begin{array}{cc}1 & 1 \\\\ 1 & 1 \\\\ \\end{array}\\right] = \\left[\\begin{array}{cc}\\frac{5}{3} & 4 \\\\ 5 & \\frac{3}{4} \\\\ \\end{array}\\right]$"
            ],
            "text/plain": [
              "<IPython.core.display.Math object>"
            ]
          },
          "metadata": {},
          "output_type": "display_data"
        }
      ],
      "source": [
        "# сложение\n",
        "def add_matrix_matrix(A: tuple, B: tuple) -> tuple:\n",
        "  mtx1 = list(items(A))\n",
        "  mtx2 = items(B)\n",
        "  dims = options(A)['dim']\n",
        "  for i in range(len(mtx1)):\n",
        "    mtx1[i] = eval_(add_(mtx1[i], mtx2[i]))\n",
        "  return matrix_(mtx1, dims[0], dims[1])\n",
        "\n",
        "OPERATIONS['add'].append('add_matrix_matrix')\n",
        "\n",
        "A = matrix([Q(2, 3), 3, 4, Q(-1, 4)], 2, 2)\n",
        "B = matrix([1, 1, 1, 1], 2, 2)\n",
        "C = A + B\n",
        "show(C == evaluate(C))"
      ]
    },
    {
      "cell_type": "code",
      "execution_count": 88,
      "metadata": {},
      "outputs": [
        {
          "data": {
            "text/latex": [
              "$\\displaystyle \\left[\\begin{array}{cc}\\frac{2}{3} & 3 \\\\ 4 & -\\frac{1}{4} \\\\ \\end{array}\\right] \\cdot 2 = \\left[\\begin{array}{cc}\\frac{4}{3} & 6 \\\\ 8 & -\\frac{1}{2} \\\\ \\end{array}\\right]$"
            ],
            "text/plain": [
              "<IPython.core.display.Math object>"
            ]
          },
          "metadata": {},
          "output_type": "display_data"
        },
        {
          "data": {
            "text/latex": [
              "$\\displaystyle 2 \\cdot \\left[\\begin{array}{cc}\\frac{2}{3} & 3 \\\\ 4 & -\\frac{1}{4} \\\\ \\end{array}\\right] = \\left[\\begin{array}{cc}\\frac{4}{3} & 6 \\\\ 8 & -\\frac{1}{2} \\\\ \\end{array}\\right]$"
            ],
            "text/plain": [
              "<IPython.core.display.Math object>"
            ]
          },
          "metadata": {},
          "output_type": "display_data"
        },
        {
          "data": {
            "text/latex": [
              "$\\displaystyle \\left[\\begin{array}{cc}\\frac{2}{3} & 3 \\\\ 4 & -\\frac{1}{4} \\\\ \\end{array}\\right] \\cdot \\frac{1}{2} = \\left[\\begin{array}{cc}\\frac{1}{3} & \\frac{3}{2} \\\\ 2 & -\\frac{1}{8} \\\\ \\end{array}\\right]$"
            ],
            "text/plain": [
              "<IPython.core.display.Math object>"
            ]
          },
          "metadata": {},
          "output_type": "display_data"
        },
        {
          "data": {
            "text/latex": [
              "$\\displaystyle \\frac{1}{2} \\cdot \\left[\\begin{array}{cc}\\frac{2}{3} & 3 \\\\ 4 & -\\frac{1}{4} \\\\ \\end{array}\\right] = \\left[\\begin{array}{cc}\\frac{1}{3} & \\frac{3}{2} \\\\ 2 & -\\frac{1}{8} \\\\ \\end{array}\\right]$"
            ],
            "text/plain": [
              "<IPython.core.display.Math object>"
            ]
          },
          "metadata": {},
          "output_type": "display_data"
        }
      ],
      "source": [
        "# умножение на число\n",
        "def mul_matrix_integer(A: tuple, b: tuple) -> tuple:\n",
        "  mtx1 = list(items(A))\n",
        "  dims = options(A)['dim']\n",
        "  for i in range(len(mtx1)):\n",
        "    mtx1[i] = eval_(mul_(mtx1[i], b))\n",
        "  return matrix_(mtx1, dims[0], dims[1])\n",
        "\n",
        "def mul_integer_matrix(b: tuple, A: tuple) -> tuple:\n",
        "  return mul_matrix_integer(A, b)\n",
        "\n",
        "def mul_matrix_rational(A: tuple, b: tuple) -> tuple:\n",
        "  mtx1 = list(items(A))\n",
        "  dims = options(A)['dim']\n",
        "  for i in range(len(mtx1)):\n",
        "    mtx1[i] = eval_(mul_(mtx1[i], b))\n",
        "  return matrix_(mtx1, dims[0], dims[1])\n",
        "\n",
        "def mul_rational_matrix(b: tuple, A: tuple) -> tuple:\n",
        "  return mul_matrix_rational(A, b)\n",
        "\n",
        "OPERATIONS['mul'].append('mul_matrix_integer')\n",
        "OPERATIONS['mul'].append('mul_integer_matrix')\n",
        "OPERATIONS['mul'].append('mul_matrix_rational')\n",
        "OPERATIONS['mul'].append('mul_rational_matrix')\n",
        "\n",
        "n = 2\n",
        "C = A * n\n",
        "show(C == evaluate(C))\n",
        "C = n * A\n",
        "show(C == evaluate(C))\n",
        "m = Q(1, 2)\n",
        "C = A * m\n",
        "show(C == evaluate(C))\n",
        "C = m * A\n",
        "show(C == evaluate(C))"
      ]
    },
    {
      "cell_type": "code",
      "execution_count": 89,
      "metadata": {},
      "outputs": [
        {
          "data": {
            "text/latex": [
              "$\\displaystyle \\left[\\begin{array}{cc}\\frac{2}{3} & 3 \\\\ 4 & -\\frac{1}{4} \\\\ \\end{array}\\right] - \\left[\\begin{array}{cc}1 & 1 \\\\ 1 & 1 \\\\ \\end{array}\\right] = \\left[\\begin{array}{cc}-\\frac{1}{3} & 2 \\\\ 3 & -\\frac{5}{4} \\\\ \\end{array}\\right]$"
            ],
            "text/plain": [
              "<IPython.core.display.Math object>"
            ]
          },
          "metadata": {},
          "output_type": "display_data"
        }
      ],
      "source": [
        "# вычитание\n",
        "def sub_matrix_matrix(A: tuple, B: tuple) -> tuple:\n",
        "  mtx1 = list(items(A))\n",
        "  mtx2 = items(B)\n",
        "  dims = options(A)['dim']\n",
        "  for i in range(len(mtx1)):\n",
        "    mtx1[i] = eval_(sub_(mtx1[i], mtx2[i]))\n",
        "  return matrix_(mtx1, dims[0], dims[1])\n",
        "\n",
        "OPERATIONS['sub'].append('sub_matrix_matrix')\n",
        "\n",
        "C = A - B\n",
        "show(C == evaluate(C))"
      ]
    },
    {
      "cell_type": "code",
      "execution_count": 90,
      "metadata": {},
      "outputs": [
        {
          "data": {
            "text/latex": [
              "$\\displaystyle \\left[\\begin{array}{cc}1 & 2 & 0 \\\\ 3 & 1 & -1 \\\\ \\end{array}\\right] \\cdot \\left[\\begin{array}{cc}1 \\\\ 2 \\\\ 3 \\\\ \\end{array}\\right] = \\left[\\begin{array}{cc}5 \\\\ 2 \\\\ \\end{array}\\right]$"
            ],
            "text/plain": [
              "<IPython.core.display.Math object>"
            ]
          },
          "metadata": {},
          "output_type": "display_data"
        }
      ],
      "source": [
        "# умножение\n",
        "def mul_matrix_matrix(A: tuple, B: tuple) -> tuple:\n",
        "  mtx1 = items(A)\n",
        "  mtx2 = items(B)\n",
        "  mtx3 = []\n",
        "  n = options(A)['dim'][0]\n",
        "  m = options(A)['dim'][1]\n",
        "  k = options(B)['dim'][1]\n",
        "  for i in range(n):\n",
        "    for j in range(k):\n",
        "      s = integer_(0)\n",
        "      for h in range(m):\n",
        "        s = eval_(add_(s, mul_(mtx1[i * m + h], mtx2[h * k + j])))\n",
        "      mtx3.append(s)\n",
        "  return matrix_(mtx3, n, k)\n",
        "\n",
        "OPERATIONS['mul'].append('mul_matrix_matrix')\n",
        "\n",
        "A = matrix([1, 2, 0, 3, 1, -1], 2, 3)\n",
        "B = matrix([1, 2, 3], 3, 1)\n",
        "C = A * B\n",
        "show(C == evaluate(C))"
      ]
    },
    {
      "cell_type": "markdown",
      "metadata": {},
      "source": [
        "* (бонусное задание) Реализуйте представление и оценивание операции транспонирования матрицы `transpose`"
      ]
    },
    {
      "cell_type": "code",
      "execution_count": 91,
      "metadata": {},
      "outputs": [
        {
          "data": {
            "text/latex": [
              "$\\displaystyle \\left[\\begin{array}{cc}1 & 2 & 0 \\\\ 3 & 1 & -1 \\\\ \\end{array}\\right] = \\left[\\begin{array}{cc}1 & 3 \\\\ 2 & 1 \\\\ 0 & -1 \\\\ \\end{array}\\right]$"
            ],
            "text/plain": [
              "<IPython.core.display.Math object>"
            ]
          },
          "metadata": {},
          "output_type": "display_data"
        }
      ],
      "source": [
        "# транспонирование\n",
        "def transpose(A: Expression) -> Expression:\n",
        "  mtx1 = items(A.T)\n",
        "  mtx2 = []\n",
        "  n = options(A.T)['dim'][0]\n",
        "  m = options(A.T)['dim'][1]\n",
        "  for i in range(m):\n",
        "    for j in range(n):\n",
        "      mtx2.append(mtx1[j * m + i])\n",
        "  return Expression(matrix_(mtx2, m, n))\n",
        "\n",
        "A = matrix([1, 2, 0, 3, 1, -1], 2, 3)\n",
        "show(A == transpose(A))"
      ]
    },
    {
      "cell_type": "markdown",
      "metadata": {},
      "source": [
        "### Решение систем линейных уравнений методом Гаусса\n",
        "\n",
        "* Пишем головную функцию `solveLinearSystem`, вызывающую списочный вариант этой функции и выполняющий оценку результата."
      ]
    },
    {
      "cell_type": "code",
      "execution_count": 92,
      "metadata": {},
      "outputs": [],
      "source": [
        "def solveLinearSystem(A: Expression, b: Expression) -> Expression:\n",
        "  x = solveLinearSystem_(A.T, b.T)\n",
        "  return Expression(eval_(x))"
      ]
    },
    {
      "cell_type": "markdown",
      "metadata": {},
      "source": [
        "\n",
        "* Напишите основную функцию `solveLinearSystem_`, реализующую сам метод Гаусса. Т.к. алгоритм должен работать в символьной форме (со списочными выражениями, а не с числами), то вместо знаков арифметических операций нужно использовать списочные функции `add_`, `mul_` и т.д."
      ]
    },
    {
      "cell_type": "code",
      "execution_count": 93,
      "metadata": {},
      "outputs": [],
      "source": [
        "def solveLinearSystem_(A: tuple, b: tuple) -> tuple:\n",
        "  x = list(items(b)) # преобразуем b в список\n",
        "  n = len(x) # размер системы\n",
        "  C = [list(items(A)[i * n: (i + 1) * n]) for i in range(n)] # преобразуем A в двумерный список (список списков) C\n",
        "  # теперь: матрица системы хранится в списке C, правая часть - в списке x\n",
        "  # прямой ход\n",
        "  for k in range(n):\n",
        "    for j in range(k + 1, n):\n",
        "      C[k][j] = div_(C[k][j], C[k][k])\n",
        "    x[k] = div_(x[k], C[k][k])\n",
        "    for i in range(k + 1, n):\n",
        "      for j in range(k + 1, n):\n",
        "        C[i][j] = sub_(C[i][j], mul_(C[i][k], C[k][j]))\n",
        "      x[i] = sub_(x[i], mul_(C[i][k], x[k]))\n",
        "  # обратный ход\n",
        "  for k in range(n - 1, -1, -1):\n",
        "    for j in range(k + 1, n):\n",
        "      x[k] = sub_(x[k], mul_(x[j], C[k][j]))\n",
        "  return matrix_(x, n, 1)"
      ]
    },
    {
      "cell_type": "markdown",
      "metadata": {},
      "source": [
        "* Проверяем (на выходе должен быть вектор-столбец `[1, 1]`):"
      ]
    },
    {
      "cell_type": "code",
      "execution_count": 94,
      "metadata": {},
      "outputs": [
        {
          "data": {
            "text/latex": [
              "$\\displaystyle \\left[\\begin{array}{cc}1 & 2 \\\\ 3 & 4 \\\\ \\end{array}\\right] = \\left[\\begin{array}{cc}3 & 7 \\\\ \\end{array}\\right]$"
            ],
            "text/plain": [
              "<IPython.core.display.Math object>"
            ]
          },
          "metadata": {},
          "output_type": "display_data"
        },
        {
          "data": {
            "text/latex": [
              "$\\displaystyle \\left[\\begin{array}{cc}1 \\\\ 1 \\\\ \\end{array}\\right]$"
            ],
            "text/plain": [
              "<IPython.core.display.Math object>"
            ]
          },
          "metadata": {},
          "output_type": "display_data"
        }
      ],
      "source": [
        "A = matrix([1, 2, 3, 4], 2, 2)\n",
        "b = cvector([3, 7])\n",
        "show(A == b)\n",
        "x = solveLinearSystem(A, b)\n",
        "show(x)"
      ]
    },
    {
      "cell_type": "markdown",
      "metadata": {},
      "source": [
        "* Наша реализация позволяет решать и системы с параметрами (пока без упрощения результата):"
      ]
    },
    {
      "cell_type": "code",
      "execution_count": 95,
      "metadata": {},
      "outputs": [
        {
          "data": {
            "text/latex": [
              "$\\displaystyle \\left[\\begin{array}{cc}p & 1 \\\\ 1 & q \\\\ \\end{array}\\right] \\cdot x = \\left[\\begin{array}{cc}1 & 1 \\\\ \\end{array}\\right]$"
            ],
            "text/plain": [
              "<IPython.core.display.Math object>"
            ]
          },
          "metadata": {},
          "output_type": "display_data"
        },
        {
          "data": {
            "text/latex": [
              "$\\displaystyle \\left[\\begin{array}{cc}\\frac{1}{p} - \\frac{1 - 1 \\cdot \\left( \\frac{1}{p} \\right)}{q - 1 \\cdot \\left( \\frac{1}{p} \\right)} \\cdot \\left( \\frac{1}{p} \\right) \\\\ \\frac{1 - 1 \\cdot \\left( \\frac{1}{p} \\right)}{q - 1 \\cdot \\left( \\frac{1}{p} \\right)} \\\\ \\end{array}\\right]$"
            ],
            "text/plain": [
              "<IPython.core.display.Math object>"
            ]
          },
          "metadata": {},
          "output_type": "display_data"
        }
      ],
      "source": [
        "p, q, x = symbol('p'), symbol('q'), symbol('x')\n",
        "A = matrix([p, 1, 1, q], 2, 2)\n",
        "b = cvector([1, 1])\n",
        "show(A * x == b)\n",
        "x = solveLinearSystem(A, b)\n",
        "show(x)"
      ]
    },
    {
      "cell_type": "markdown",
      "metadata": {},
      "source": [
        "# Часть 4"
      ]
    },
    {
      "cell_type": "markdown",
      "metadata": {},
      "source": [
        "### Представление многочленов"
      ]
    },
    {
      "cell_type": "markdown",
      "metadata": {},
      "source": [
        "* Напишем набор функций для проверки, является ли заданное выражение нулем (без его вычислений и упрощений). Головная функция работает с выражениями типа `Expression`, а служебные функции должны проверять на равенство нулю конкретные списочные объекты. Нулевыми могут быть целые числа, рациональные числа, матрицы, многочлены и т.д. Сравнение многочлена с нулем реализуем ниже."
      ]
    },
    {
      "cell_type": "code",
      "execution_count": 96,
      "metadata": {},
      "outputs": [
        {
          "name": "stdout",
          "output_type": "stream",
          "text": [
            "True False False True\n"
          ]
        }
      ],
      "source": [
        "def isZero(x: Expression) -> bool:\n",
        "  return is_zero(x.T)\n",
        "\n",
        "def is_zero(x: tuple) -> bool:\n",
        "  try:\n",
        "    cmd = eval(f\"is_zero_{ID(x)}\")\n",
        "    return cmd(x)\n",
        "  except:\n",
        "    return False\n",
        "\n",
        "def is_zero_integer(x: tuple) -> bool:\n",
        "  n = options(x)['value']\n",
        "  return n == 0\n",
        "\n",
        "def is_zero_rational(x: tuple) -> bool:\n",
        "  n = options(x)['num']\n",
        "  return n == 0\n",
        "\n",
        "print(isZero(Z(0)), isZero(Z(1)), isZero(Q(1, 2)), isZero(Q(0, 1)))"
      ]
    },
    {
      "cell_type": "markdown",
      "metadata": {},
      "source": [
        "* Пишем конструкторы многочленов, головная функция принимает на вход список коэффициентов (в порядке от младшего к старшему): `[1, 2, 3]` $\\to 3x^2+2x+1$, и опционально переменную и порядок слагаемых для визуализации формулы (`rev=True` $\\to 1+2x+3x^2$). Списочный конструктор преобразует все целые коэффициенты в рациональные (чтобы упростить последующие манипуляции с многочленами),вызывает функцию нормализации, которая должна удалить все **старшие** нули из списка коэффициентов: (`[1, 2, 3, 0, 0]` -> `[1, 2, 3]`), и создает кортеж, в котором первым элементом (не считая ID) идет переменная, а дальше перечисляются все коэффициенты многочлена. Если в многочлене все коэффициенты нулевые, то это нулевой многочлен и он представляется пустым списком коэффициентов."
      ]
    },
    {
      "cell_type": "code",
      "execution_count": 97,
      "metadata": {},
      "outputs": [
        {
          "data": {
            "text/latex": [
              "$\\displaystyle x$"
            ],
            "text/plain": [
              "<IPython.core.display.Math object>"
            ]
          },
          "metadata": {},
          "output_type": "display_data"
        },
        {
          "data": {
            "text/latex": [
              "$\\displaystyle 1$"
            ],
            "text/plain": [
              "<IPython.core.display.Math object>"
            ]
          },
          "metadata": {},
          "output_type": "display_data"
        },
        {
          "data": {
            "text/latex": [
              "$\\displaystyle 2$"
            ],
            "text/plain": [
              "<IPython.core.display.Math object>"
            ]
          },
          "metadata": {},
          "output_type": "display_data"
        },
        {
          "data": {
            "text/latex": [
              "$\\displaystyle 3$"
            ],
            "text/plain": [
              "<IPython.core.display.Math object>"
            ]
          },
          "metadata": {},
          "output_type": "display_data"
        }
      ],
      "source": [
        "def polynomial(A: list, var: Expression = symbol('x'), rev = False) -> Expression:\n",
        "  C = [fix(a).T for a in A]\n",
        "  return Expression(polynomial_(C, var.T, rev))\n",
        "\n",
        "def polynomial_(A: list, var: tuple = symbol_('x'), rev: bool = False) -> tuple:\n",
        "  B = [cast_integer_rational(a) if ID(a) == 'integer' else a for a in A]\n",
        "  C = normalize_polynomial(B)\n",
        "  return 'polynomial', var, *C, {'rev': rev}\n",
        "\n",
        "def normalize_polynomial(A: list) -> list:\n",
        "  # используйте функцию is_zero для проверки элемента на равенство нулю\n",
        "  for i in range(len(A) - 1, -1, -1):\n",
        "    if not is_zero(A[i]):\n",
        "      return A[:i + 1]\n",
        "  return []\n",
        "\n",
        "p = polynomial([1, 2, 3, 0, 0])\n",
        "for t in items(p.T):\n",
        "  show(Expression(t))"
      ]
    },
    {
      "cell_type": "markdown",
      "metadata": {},
      "source": [
        "* Напишем функцию `linear_combination` для построения линейных комбинаций (в списочном представлении): заданы два списка выражений, надо построить выражение, являющееся суммой попарных произведений соответствующих элементов этих двух списков: $[1, 2, 3], [x^2, x, 1] \\to x^2 + 2x + 3$. Эта функция будет использоваться нами, в частности, для визуализации многочленов. Результирующее выражение должно быть построено в максимально естественном виде: если один из сомножителей равен нулю, то данное произведение в линейную комбинацию не включается; если один из сомножителей равен единице, то он не включается в произведение; если первый коэффициент - отрицательное число, то он заменяется на свой модуль, а слагаемое включается в сумму через вычитание (а не сложение) и т.д. Если все слагаемые нулевые, то выходом должно быть число 0."
      ]
    },
    {
      "cell_type": "code",
      "execution_count": 98,
      "metadata": {},
      "outputs": [
        {
          "data": {
            "text/latex": [
              "$\\displaystyle -2 \\cdot x^{4} - x^{3} + x^{1} + 2$"
            ],
            "text/plain": [
              "<IPython.core.display.Math object>"
            ]
          },
          "metadata": {},
          "output_type": "display_data"
        },
        {
          "data": {
            "text/latex": [
              "$\\displaystyle a \\cdot x^{2} + b \\cdot x + c$"
            ],
            "text/plain": [
              "<IPython.core.display.Math object>"
            ]
          },
          "metadata": {},
          "output_type": "display_data"
        }
      ],
      "source": [
        "def linear_combination(A: list, B: list) -> tuple:\n",
        "  A = [cast_integer_rational(a) if ID(a) == 'integer' else a for a in A]\n",
        "  B = [cast_integer_rational(b) if ID(b) == 'integer' else b for b in B]\n",
        "  sum = None\n",
        "  for a, b in zip(A, B):\n",
        "    # генерируем новое слагаемое и включаем его в итоговую сумму\n",
        "    sum = next_term(sum, a, b)\n",
        "  return sum if sum else integer_(0)\n",
        "\n",
        "def next_term(sum: tuple, a: tuple, b: tuple) -> tuple:\n",
        "  if is_zero(a) or is_zero(b):\n",
        "    return sum # нулевые слагаемые в сумму не включаем\n",
        "  s, t = make_term(a, b) # генерируем знак слагаемого (s) и само слагаемое (t)\n",
        "  if sum == None: # если слагаемое первое, его не надо прибавлять или вычитать\n",
        "    if s == 1:\n",
        "      return t # положительное первое слагаемое\n",
        "    # отрицательное первое слагаемое\n",
        "    if ID(t) == 'mul':\n",
        "      return mul_(neg_(t[1]), t[2]) # вносим `-` в первый множитель, если он есть\n",
        "    return neg_(t)\n",
        "  # если знак +, то прибавляем слагаемое к сумме, если -, то вычитаем\n",
        "  return add_(sum, t) if s == 1 else sub_(sum, t)\n",
        "\n",
        "def make_term(a: tuple, b: tuple) -> tuple:\n",
        "  s = 1 # знак по умолчанию +\n",
        "  if ID(a) == 'rational':\n",
        "    # если первый множитель - число, анализируем его знак и значение\n",
        "    n, m = options(a)['num'], options(a)['denom']\n",
        "    if (n, m) == (1, 1):\n",
        "      return 1, b # a = 1\n",
        "    if (n, m) == (-1, 1):\n",
        "      return -1, b # a = -1\n",
        "    if n < 0:\n",
        "      s, a = -1, rational_(-n, m) # a < 0\n",
        "  # если b == 1, то возвращаем (s, a), иначе (s, a*b)\n",
        "  return (s, a) if b == rational_(1, 1) else (s, mul_(a, b))\n",
        "\n",
        "n = 5\n",
        "A = [integer_(k-2) for k in range(n)]\n",
        "B = [deg_(symbol_('x'), integer_(n - 1 - k)) if k != n - 1 else integer_(1) for k in range(n)]\n",
        "show(Expression(linear_combination(A, B)))\n",
        "\n",
        "A = [symbol_(a) for a in 'abc']\n",
        "B = [deg_(symbol_('x'), integer_(2)), symbol_('x'), integer_(1)]\n",
        "show(Expression(linear_combination(A, B)))"
      ]
    },
    {
      "cell_type": "markdown",
      "metadata": {},
      "source": [
        "* Напишите функцию `make_deg(x: tuple, k: int)`, которая по заданной переменной $x$ и степени $k$ делает списочное степенное выражение. Нужно учитывать случаи $k=0$ (степень равна 1) и $k=1$ (степень равна $x$)."
      ]
    },
    {
      "cell_type": "code",
      "execution_count": 99,
      "metadata": {},
      "outputs": [
        {
          "data": {
            "text/latex": [
              "$\\displaystyle x^{5}$"
            ],
            "text/plain": [
              "<IPython.core.display.Math object>"
            ]
          },
          "metadata": {},
          "output_type": "display_data"
        }
      ],
      "source": [
        "def make_deg(x: tuple, k: int) -> tuple:\n",
        "  if k == 0:\n",
        "    return integer_(1)\n",
        "  if k == 1:\n",
        "    return x\n",
        "  return deg_(x, integer_(k))\n",
        "\n",
        "\n",
        "show(Expression(make_deg(symbol_('x'), 5)))"
      ]
    },
    {
      "cell_type": "markdown",
      "metadata": {},
      "source": [
        "* Напишите функцию `polynomial2expression(x: tuple)` для преобразования многочлена в арифметическое выражение с использованием функции `linear_combination`. Нужно выделить из многочлена список `A` коэффициентов (первый элемент `items(x)` - это переменная, остальные - коэффициенты), создать список `D` такой же длины из степеней переменной (функция `make_deg`), если флаг `options(x)['rev']` равен `True`, то обратить оба списка. Вызвать функцию `linear_combination(A, D)` и вернуть собранное ею выражение."
      ]
    },
    {
      "cell_type": "code",
      "execution_count": 100,
      "metadata": {},
      "outputs": [],
      "source": [
        "def polynomial2expression(x: tuple) -> tuple:\n",
        "  v, A, rev = items(x)[0], items(x)[1:], options(x)['rev']\n",
        "  D = [make_deg(v, i) for i in range(len(A))]\n",
        "  if not rev:\n",
        "    A, D = A[::-1], D[::-1] # обратить списки A и D\n",
        "  return linear_combination(A, D)"
      ]
    },
    {
      "cell_type": "markdown",
      "metadata": {},
      "source": [
        "* Для преобразование многочлена в формат LaTeX преобразуем его в арифметическое выражение, которое стандартным образом преобразуем в LaTeX. Проверяем!"
      ]
    },
    {
      "cell_type": "code",
      "execution_count": 101,
      "metadata": {},
      "outputs": [
        {
          "data": {
            "text/latex": [
              "$\\displaystyle -\\frac{2}{3} - 2 \\cdot x + \\frac{1}{3} \\cdot x^{3}$"
            ],
            "text/plain": [
              "<IPython.core.display.Math object>"
            ]
          },
          "metadata": {},
          "output_type": "display_data"
        },
        {
          "data": {
            "text/latex": [
              "$\\displaystyle x^{2} - 2 \\cdot x + 3$"
            ],
            "text/plain": [
              "<IPython.core.display.Math object>"
            ]
          },
          "metadata": {},
          "output_type": "display_data"
        }
      ],
      "source": [
        "def latex_polynomial(x: tuple) -> str:\n",
        "  return latex_(polynomial2expression(x))\n",
        "\n",
        "p = polynomial([Q(-2, 3), -2, 0, Q(5, 15), 0, 0], rev = True)\n",
        "show(p)\n",
        "\n",
        "p = polynomial([3, -2, 1])\n",
        "show(p)"
      ]
    },
    {
      "cell_type": "markdown",
      "metadata": {},
      "source": [
        "### Арифметика\n",
        "\n",
        "* Определим приоритет \"операции\" polynomial равным 5 (меньше арифметических операций), чтобы они отделялись от других операндов скобками."
      ]
    },
    {
      "cell_type": "code",
      "execution_count": 102,
      "metadata": {},
      "outputs": [
        {
          "data": {
            "text/latex": [
              "$\\displaystyle \\frac{\\left( x^{2} - 2 \\cdot x + 3 \\right) \\cdot \\left( x^{2} - 1 \\right)}{-x^{2} - 2 \\cdot x + 3 + \\left( x^{2} - 1 \\right)}$"
            ],
            "text/plain": [
              "<IPython.core.display.Math object>"
            ]
          },
          "metadata": {},
          "output_type": "display_data"
        }
      ],
      "source": [
        "priority['polynomial'] = 5\n",
        "p = polynomial([3, -2, 1])\n",
        "q = polynomial([-1, 0, 1])\n",
        "show((p * q) / (-p + q))"
      ]
    },
    {
      "cell_type": "markdown",
      "metadata": {},
      "source": [
        "* Напишем функцию оценивания многочлена `eval_polynomial(x: tuple)`, которая должна 1) оценивать рекурсивно все коэффициенты многочлена (включая переменную); 2) если 'переменная' многочлена является числом (а это не запрещено нашим конструктором), то нужно преобразовать многочлен в выражение и оценить его. Последняя операция позволит выполнять подстановку в многочлен числовых значений с вычислением результата (см. последний пример в коде).  "
      ]
    },
    {
      "cell_type": "code",
      "execution_count": 103,
      "metadata": {},
      "outputs": [
        {
          "data": {
            "text/latex": [
              "$\\displaystyle x^{5} + \\left( \\frac{3}{2} + 1 \\right) \\cdot x^{2} + x$"
            ],
            "text/plain": [
              "<IPython.core.display.Math object>"
            ]
          },
          "metadata": {},
          "output_type": "display_data"
        },
        {
          "data": {
            "text/latex": [
              "$\\displaystyle x^{5} + \\frac{5}{2} \\cdot x^{2} + x$"
            ],
            "text/plain": [
              "<IPython.core.display.Math object>"
            ]
          },
          "metadata": {},
          "output_type": "display_data"
        },
        {
          "data": {
            "text/latex": [
              "$\\displaystyle \\frac{37}{32}$"
            ],
            "text/plain": [
              "<IPython.core.display.Math object>"
            ]
          },
          "metadata": {},
          "output_type": "display_data"
        }
      ],
      "source": [
        "def eval_polynomial(x: tuple) -> tuple:\n",
        "  A = [eval_(a) for a in items(x)]\n",
        "  if ID(A[0]) in ['integer', 'rational']:\n",
        "    return eval_(polynomial2expression(x))\n",
        "  return 'polynomial', *A, options(x)\n",
        "\n",
        "p = polynomial([0, 1, Q(3, 2) + 1, 0, 0, 1])\n",
        "show(p)\n",
        "show(evaluate(p))\n",
        "show(evaluate(subs(p, {symbol('x'): Q(1, 2)})))"
      ]
    },
    {
      "cell_type": "markdown",
      "metadata": {},
      "source": [
        "* Реализуем оценивание операции сложения многочленов. Добавим соответствующую команду в словарь `OPERATIONS`."
      ]
    },
    {
      "cell_type": "code",
      "execution_count": 104,
      "metadata": {},
      "outputs": [],
      "source": [
        "OPERATIONS['add'].append('add_polynomial_polynomial')"
      ]
    },
    {
      "cell_type": "markdown",
      "metadata": {},
      "source": [
        "* Напишите функцию выравнивания длин двух списков `A` и `B` дополнением короткого списка \"нулевыми\" элементами `val` до длины длиннного списка. Функция должна вернуть два списка одинаковой длины."
      ]
    },
    {
      "cell_type": "code",
      "execution_count": 105,
      "metadata": {},
      "outputs": [],
      "source": [
        "def align_lists(A: list, B: list, val: tuple = rational_(0, 1)) -> tuple:\n",
        "  n = len(A)\n",
        "  m = len(B)\n",
        "  A = A + [val] * max(0, m - n)\n",
        "  B = B + [val] * max(0, n - m)\n",
        "  return A, B"
      ]
    },
    {
      "cell_type": "markdown",
      "metadata": {},
      "source": [
        "* Пишем и проверяем код операции сложения. Если переменные у двух многочленов не совпадают, то операцию выполнить нельзя, выбрасываем исключение, которое будет \"поймано\" функцией `eval_`.  "
      ]
    },
    {
      "cell_type": "code",
      "execution_count": 106,
      "metadata": {},
      "outputs": [
        {
          "data": {
            "text/latex": [
              "$\\displaystyle \\left( x^{2} - 2 \\cdot x + 4 \\right) + \\left( -x^{2} - 3 \\right) = -2 \\cdot x + 1$"
            ],
            "text/plain": [
              "<IPython.core.display.Math object>"
            ]
          },
          "metadata": {},
          "output_type": "display_data"
        }
      ],
      "source": [
        "def add_polynomial_polynomial(x: tuple, y: tuple) -> tuple:\n",
        "  if x[1] != y[1]: # переменные не совпадают, операция не выполнима!\n",
        "    raise\n",
        "  A, B = align_lists(list(items(x)[1:]), list(items(y)[1:]))\n",
        "  C = [eval_(add_(a, b)) for a, b in zip(A, B)]\n",
        "  return polynomial_(C, x[1], rev = options(x)['rev'])\n",
        "\n",
        "p = polynomial([4, -2, 1])\n",
        "q = polynomial([-3, 0, -1])\n",
        "show(p + q == evaluate(p + q))"
      ]
    },
    {
      "cell_type": "markdown",
      "metadata": {},
      "source": [
        "* Напишите по той же схеме (см. коды операций из лекции) операции вычитания многочленов, умножения рационального числа на многочлен, умножения двух многочленов. Внесите соответствующие изменения в словарь `OPERATIONS`."
      ]
    },
    {
      "cell_type": "code",
      "execution_count": 107,
      "metadata": {},
      "outputs": [
        {
          "data": {
            "text/latex": [
              "$\\displaystyle \\left( x^{2} - 2 \\cdot x + 4 \\right) - \\left( -x^{2} - 3 \\right) = 2 \\cdot x^{2} - 2 \\cdot x + 7$"
            ],
            "text/plain": [
              "<IPython.core.display.Math object>"
            ]
          },
          "metadata": {},
          "output_type": "display_data"
        }
      ],
      "source": [
        "OPERATIONS['sub'].append('sub_polynomial_polynomial')\n",
        "\n",
        "def sub_polynomial_polynomial(x: tuple, y: tuple) -> tuple:\n",
        "  if x[1] != y[1]: # переменные не совпадают, операция не выполнима!\n",
        "    raise\n",
        "  A, B = align_lists(list(items(x)[1:]), list(items(y)[1:]))\n",
        "  C = [eval_(sub_(a, b)) for a, b in zip(A, B)]\n",
        "  return polynomial_(C, x[1], rev = options(x)['rev'])\n",
        "\n",
        "p = polynomial([4, -2, 1])\n",
        "q = polynomial([-3, 0, -1])\n",
        "show(p - q == evaluate(p - q))"
      ]
    },
    {
      "cell_type": "code",
      "execution_count": 108,
      "metadata": {},
      "outputs": [
        {
          "data": {
            "text/latex": [
              "$\\displaystyle -1 \\cdot \\left( 1 + 2 \\cdot t - 2 \\cdot t^{2} \\right) = -1 - 2 \\cdot t + 2 \\cdot t^{2}$"
            ],
            "text/plain": [
              "<IPython.core.display.Math object>"
            ]
          },
          "metadata": {},
          "output_type": "display_data"
        },
        {
          "data": {
            "text/latex": [
              "$\\displaystyle \\left( -2 \\cdot t^{2} + 2 \\cdot t + 1 \\right) \\cdot -1 = 2 \\cdot t^{2} - 2 \\cdot t - 1$"
            ],
            "text/plain": [
              "<IPython.core.display.Math object>"
            ]
          },
          "metadata": {},
          "output_type": "display_data"
        }
      ],
      "source": [
        "OPERATIONS['mul'].append('mul_rational_polynomial')\n",
        "OPERATIONS['mul'].append('mul_polynomial_rational')\n",
        "\n",
        "def mul_rational_polynomial(x: tuple, y: tuple) -> tuple:\n",
        "  B = items(y)[1:]\n",
        "  C = [eval_(mul_(x, b)) for b in B]\n",
        "  return polynomial_(C, y[1], rev = options(y)['rev'])\n",
        "\n",
        "def mul_polynomial_rational(x: tuple, y: tuple) -> tuple:\n",
        "  return mul_rational_polynomial(y, x)\n",
        "\n",
        "p = polynomial([1, 2, -2], var = symbol('t'), rev = True)\n",
        "show(-1 * p == evaluate(-1 * p))\n",
        "p = polynomial([1, 2, -2], var = symbol('t'))\n",
        "show(p * -1 == evaluate(p * (-1)))"
      ]
    },
    {
      "cell_type": "code",
      "execution_count": 109,
      "metadata": {},
      "outputs": [
        {
          "data": {
            "text/latex": [
              "$\\displaystyle \\left( x^{2} - 2 \\cdot x + 3 \\right) \\cdot \\left( x^{2} - 1 \\right) = x^{4} - 2 \\cdot x^{3} + 2 \\cdot x^{2} + 2 \\cdot x - 3$"
            ],
            "text/plain": [
              "<IPython.core.display.Math object>"
            ]
          },
          "metadata": {},
          "output_type": "display_data"
        }
      ],
      "source": [
        "OPERATIONS['mul'].append('mul_polynomial_polynomial')\n",
        "\n",
        "def mul_polynomial_polynomial(x: tuple, y: tuple) -> tuple:\n",
        "  if x[1] != y[1]: # переменные не совпадают, операция не выполнима!\n",
        "    raise\n",
        "  A, B = align_lists(list(items(x)[1:]), list(items(y)[1:]))\n",
        "  n, m = len(A), len(B)\n",
        "  C = [integer_(0)] * (n + m - 1)\n",
        "  for i in range(n):\n",
        "    for j in range(m):\n",
        "      C[i + j] = eval_(add_(C[i + j], mul_(A[i], B[j])))\n",
        "  return polynomial_(C, x[1], rev = options(x)['rev'])\n",
        "\n",
        "p = polynomial([3, -2, 1])\n",
        "q = polynomial([-1, 0, 1])\n",
        "show(p * q == evaluate(p * q))"
      ]
    },
    {
      "cell_type": "markdown",
      "metadata": {},
      "source": [
        "* Напишем списочную функцию `shift_polynomial(x: tuple, k: int)` для \"сдвига\" многочлена `x` на положительное целое число `k`. Сдвиг эквивалентен умножению многочлена на k-ю степень переменной: $x^2 - 2, k=2 \\to x^4-2x^2$."
      ]
    },
    {
      "cell_type": "code",
      "execution_count": 110,
      "metadata": {},
      "outputs": [
        {
          "data": {
            "text/latex": [
              "$\\displaystyle 2 \\cdot x^{2} + 1$"
            ],
            "text/plain": [
              "<IPython.core.display.Math object>"
            ]
          },
          "metadata": {},
          "output_type": "display_data"
        },
        {
          "data": {
            "text/latex": [
              "$\\displaystyle 2 \\cdot x^{4} + x^{2}$"
            ],
            "text/plain": [
              "<IPython.core.display.Math object>"
            ]
          },
          "metadata": {},
          "output_type": "display_data"
        }
      ],
      "source": [
        "def shift_polynomial(x: tuple, k: int) -> tuple:\n",
        "  A = [rational_(0, 1)] * k + list(items(x)[1:])\n",
        "  return polynomial_(A, x[1], options(x)['rev'])\n",
        "\n",
        "p = polynomial([1, 0, 2])\n",
        "show(p)\n",
        "show(Expression(shift_polynomial(p.T, 2)))"
      ]
    },
    {
      "cell_type": "markdown",
      "metadata": {},
      "source": [
        "* Напишите функцию деления многочленов с остатком, которая возвращает два выражения - целую часть от деления и остаток."
      ]
    },
    {
      "cell_type": "code",
      "execution_count": 111,
      "metadata": {},
      "outputs": [
        {
          "data": {
            "text/latex": [
              "$\\displaystyle \\frac{x^{4} - 3 \\cdot x^{3} + 2 \\cdot x^{2} - x + 2}{x^{2} - 2 \\cdot x + 2} = \\left( x^{2} - x - 2 \\right) + \\frac{-3 \\cdot x + 6}{x^{2} - 2 \\cdot x + 2}$"
            ],
            "text/plain": [
              "<IPython.core.display.Math object>"
            ]
          },
          "metadata": {},
          "output_type": "display_data"
        }
      ],
      "source": [
        "def divide_polynomials(x: Expression, y: Expression) -> tuple:\n",
        "  p, q = divide_polynomials_(x.T, y.T)\n",
        "  return Expression(p), Expression(q)\n",
        "\n",
        "def divide_polynomials_(x: tuple, y: tuple) -> tuple:\n",
        "  if x[1] != y[1]: # переменные не совпадают\n",
        "    raise\n",
        "  A = list(items(x)[1:])\n",
        "  B = list(items(y)[1:])\n",
        "  Bp = polynomial_(B, y[1], rev=options(y)['rev'])\n",
        "  R = polynomial_(A, x[1], rev=options(x)['rev'])\n",
        "  D = []\n",
        "  k = len(A) - len(B)\n",
        "  for i in range(k + 1):\n",
        "    d = eval_(div_(items(R)[-1], items(Bp)[-1]))\n",
        "    M = eval_(shift_polynomial(polynomial_([d], x[1]), k - i))\n",
        "    D = [d] + D\n",
        "    R = eval_(sub_(R, mul_(Bp, M)))\n",
        "  return polynomial_(D, x[1], options(x)['rev']), R\n",
        "  \n",
        "\n",
        "p = polynomial([2, -1, 2, -3, 1])\n",
        "q = polynomial([2, -2, 1])\n",
        "d, r = divide_polynomials(p, q)\n",
        "show(p / q == d + r / q)"
      ]
    },
    {
      "cell_type": "markdown",
      "metadata": {},
      "source": [
        "* (бонусное задание) Реализуйте алгоритм Евклида для поиска наибольшего общего делителя двух многочленов. Для получения наиболее простого результата после выполнения каждого деления, нужно преобразовывать найденный остаток от деления к приведенному виду: $2x^2+3x-4 \\to x^2+\\frac32 x -2$. Для проверки останова алгоритма (остаток равен нулю) используйте функцию `isZero`, нужно дописать функцию `is_zero_polynomial`, которая проверяла бы, является ли многочлен нулевым."
      ]
    },
    {
      "cell_type": "code",
      "execution_count": 112,
      "metadata": {},
      "outputs": [
        {
          "data": {
            "text/latex": [
              "$\\displaystyle \\frac{x^{3} - 2 \\cdot x^{2} - x + 2}{x^{2} + 3 \\cdot x + 2}$"
            ],
            "text/plain": [
              "<IPython.core.display.Math object>"
            ]
          },
          "metadata": {},
          "output_type": "display_data"
        },
        {
          "data": {
            "text/latex": [
              "$\\displaystyle x + 1$"
            ],
            "text/plain": [
              "<IPython.core.display.Math object>"
            ]
          },
          "metadata": {},
          "output_type": "display_data"
        }
      ],
      "source": [
        "def polynomialGCD(x: Expression, y: Expression) -> Expression:\n",
        "  n = x.T\n",
        "  m = y.T\n",
        "  if n[1] != m[1]: # переменные не совпадают\n",
        "    raise\n",
        "  while not is_zero_polynomial(m):\n",
        "    n, m = m, divide_polynomials_(n, m)[1]\n",
        "  n = eval_(mul_(div_(integer_(1), items(n)[-1]), n))\n",
        "  return Expression(n)\n",
        "\n",
        "def is_zero_polynomial(x: tuple) -> bool:\n",
        "  return len(items(x)) == 1\n",
        "\n",
        "p = evaluate(polynomial([1, 1]) * polynomial([2, -3, 1]))\n",
        "q = evaluate(polynomial([1, 1]) * polynomial([2, 1]))\n",
        "show(p / q)\n",
        "c = polynomialGCD(p, q)\n",
        "show(c)"
      ]
    },
    {
      "cell_type": "markdown",
      "metadata": {},
      "source": [
        "### Факторизация многочленов\n",
        "\n",
        "Будем предполагать, что факторизуемый многочлен является приведенным и имеет целые коэффициенты."
      ]
    },
    {
      "cell_type": "markdown",
      "metadata": {},
      "source": [
        "* Реализуйте схему Горнера для многочлена, представленного списком `A` **целых** коэффициентов, и заданного **целого** числа `d`. Функция должна возвращать полный список вычисленных значений (см. презентацию лекции), из которых самым младшим является остаток от деления, а все остальные коэффициента списка соответствуют многочлену, представляющему целую часть от деления. Учитывайте, что младший коэффициент - первый элемент списка, старший - последний. Вызов `horner_method([2, -3, 1], 1)` должен вернуть список `[0, -2, 1]` (что соответствует делению многочлена $x^2-3x+2$ на бином $x-1$, проверьте)."
      ]
    },
    {
      "cell_type": "code",
      "execution_count": 113,
      "metadata": {},
      "outputs": [
        {
          "data": {
            "text/plain": [
              "[0, -2, 1]"
            ]
          },
          "execution_count": 113,
          "metadata": {},
          "output_type": "execute_result"
        }
      ],
      "source": [
        "def horner_method(A: list, d: int) -> list:\n",
        "  r = 0\n",
        "  B = []\n",
        "  for c in A[::-1]:\n",
        "    r = c + r * d\n",
        "    B = [r] + B\n",
        "  return B\n",
        "\n",
        "A = [2, -3, 1]\n",
        "horner_method(A, 1)"
      ]
    },
    {
      "cell_type": "markdown",
      "metadata": {},
      "source": [
        "* Напишите функцию `def divisors(n: int)`, которая возвращала список всех делителей числа `n`, и положительных, и отрицательных: `divisors(27) -> [1, 3, 9, 27, -1, -3, -9, -27]`."
      ]
    },
    {
      "cell_type": "code",
      "execution_count": 114,
      "metadata": {},
      "outputs": [
        {
          "data": {
            "text/plain": [
              "[1, 3, 9, 27, -1, -3, -9, -27]"
            ]
          },
          "execution_count": 114,
          "metadata": {},
          "output_type": "execute_result"
        }
      ],
      "source": [
        "def divisors(n: int) -> list:\n",
        "  n = abs(n)\n",
        "  result = [1, n]\n",
        "  d = 2\n",
        "  limit = n ** 0.5\n",
        "  while d < limit:\n",
        "    if n % d == 0:\n",
        "      result += [d, n // d]\n",
        "    d += 1\n",
        "  result.sort()\n",
        "  result += [-e for e in result]\n",
        "  return result\n",
        "\n",
        "divisors(27)"
      ]
    },
    {
      "cell_type": "markdown",
      "metadata": {},
      "source": [
        "* Напишем функцию `polynomial_factors(A: list)` для подбора линейных делителей многочлена, представленного списком коэффициентов `A`. Функция должна возвращать словарь, ключами которого являются делители-многочлены (в форме кортежей целых коэффициентов), а значениями - степени (кратности) этих делителей.   "
      ]
    },
    {
      "cell_type": "code",
      "execution_count": 115,
      "metadata": {},
      "outputs": [
        {
          "data": {
            "text/plain": [
              "{(-1, 1): 2, (-2, 1): 1}"
            ]
          },
          "execution_count": 115,
          "metadata": {},
          "output_type": "execute_result"
        }
      ],
      "source": [
        "# предполагаем, что младший коэффициент многочлена ненулевой\n",
        "def polynomial_factors(A: list) -> dict:\n",
        "  F = {}\n",
        "  while A[0] == 0:\n",
        "    F[(0, 1)] = F.get((0, 1), 0) + 1\n",
        "    A = A[1:]\n",
        "  k, a = 0, A[0] # счетчик, младший коэффициент, словарь делителей\n",
        "  D = divisors(a) + [0] # список делителей a, 0 в конце - стоп-значение для выхода из цикла while\n",
        "  while D[k]: # перебираем все возможные делители\n",
        "    B = horner_method(A, D[k]) # делим по схеме Горнера\n",
        "    if B[0] == 0: # проверяем, делитель или нет\n",
        "      A = B[1:] # продолжаем искать делители здесь\n",
        "      f = (-D[k], 1) # формируем делитель (бином) x-D[k]\n",
        "      F[f] = F.get(f, 0) + 1 # обновляем словарь\n",
        "      continue # продолжаем проверять тот же делитель\n",
        "    k += 1 # переходим к следующему кандидату\n",
        "  if len(A) > 1:\n",
        "    F[tuple(A)] = 1 # неразложенная часть многочлена\n",
        "  return F\n",
        "\n",
        "A = [-2, 5, -4, 1]\n",
        "polynomial_factors(A)"
      ]
    },
    {
      "cell_type": "markdown",
      "metadata": {},
      "source": [
        "* Напишем функцию факторизации, головная функция для факторизации многочлена типа `Expression` вызывает списочную функцию факторизации `factorize_polynomial`. Последняя преобразует список коэффициентов"
      ]
    },
    {
      "cell_type": "code",
      "execution_count": 116,
      "metadata": {},
      "outputs": [
        {
          "data": {
            "text/latex": [
              "$\\displaystyle x^{4} - x^{3} - 3 \\cdot x^{2} + 5 \\cdot x - 2 = \\left( x - 1 \\right)^{3} \\cdot \\left( x + 2 \\right)$"
            ],
            "text/plain": [
              "<IPython.core.display.Math object>"
            ]
          },
          "metadata": {},
          "output_type": "display_data"
        },
        {
          "data": {
            "text/latex": [
              "$\\displaystyle x^{4} - 3 \\cdot x^{3} + 2 \\cdot x^{2} = x^{2} \\cdot \\left( x - 1 \\right) \\cdot \\left( x - 2 \\right)$"
            ],
            "text/plain": [
              "<IPython.core.display.Math object>"
            ]
          },
          "metadata": {},
          "output_type": "display_data"
        }
      ],
      "source": [
        "def factorizePolynomial(x: Expression) -> Expression:\n",
        "  return Expression(factorize_polynomial(x.T))\n",
        "\n",
        "def factorize_polynomial(x: tuple) -> tuple:\n",
        "  # приведенный многочлен с целыми коэффициентами\n",
        "  v = x[1] # переменная многочлена\n",
        "  A = [options(a)['num'] for a in items(x)[1:]] # целочисленный массив коэффициентов\n",
        "  F = polynomial_factors(A) # словарь (мультимножество) множителей\n",
        "  R = () # искомое разложение в формате списочного выражения\n",
        "  for k in F:\n",
        "    f = make_polynomial_factor(k, F[k], v) # делитель F[k] в степени k для переменной v\n",
        "    R = f if R == () else mul_(R, f) # первый делитель или нет (тогда умножаем)\n",
        "  return R\n",
        "\n",
        "def make_polynomial_factor(F: tuple, d: int, v: tuple) -> tuple:\n",
        "  A = [integer_(f) for f in F] # коэффициенты многочлена\n",
        "  if is_zero_integer(A[0]):\n",
        "    p = v\n",
        "  else:\n",
        "    p = polynomial_(A, v) # создаем многочлен\n",
        "  # если степень 1, возвращаем p, иначе - p**d\n",
        "  return p if d == 1 else deg_(p, integer_(d))\n",
        "\n",
        "p = evaluate(polynomial([-1, 3, -3, 1]) * polynomial([2, 1]))\n",
        "f = factorizePolynomial(p)\n",
        "show(p == f)\n",
        "p = evaluate(polynomial([0, 0, 2, -3, 1]))\n",
        "f = factorizePolynomial(p)\n",
        "show(p == f)"
      ]
    },
    {
      "cell_type": "markdown",
      "metadata": {},
      "source": [
        "* Проверяем на многочлене $x^{12}-1$."
      ]
    },
    {
      "cell_type": "code",
      "execution_count": 117,
      "metadata": {},
      "outputs": [
        {
          "data": {
            "text/latex": [
              "$\\displaystyle x^{12} - 1 = \\left( x - 1 \\right) \\cdot \\left( x + 1 \\right) \\cdot \\left( x^{10} + x^{8} + x^{6} + x^{4} + x^{2} + 1 \\right)$"
            ],
            "text/plain": [
              "<IPython.core.display.Math object>"
            ]
          },
          "metadata": {},
          "output_type": "display_data"
        }
      ],
      "source": [
        "A = [-1] + [0] * 11 + [1]\n",
        "p = polynomial(A)\n",
        "f = factorizePolynomial(p)\n",
        "show(p == f)"
      ]
    },
    {
      "cell_type": "markdown",
      "metadata": {},
      "source": [
        "* (бонусное задание) Модифицируйте процедуру разложения с учетом равенства нулю младшего (свободного) коэффициента многочлена: $x^4-3x^3+2x^2\\to x^2(x-1)(x-2)$."
      ]
    },
    {
      "cell_type": "markdown",
      "metadata": {},
      "source": [
        "### ❗ (бонусное задание) Полиномиальная интерполяция методом неопределенных коэффиициентов\n",
        "\n",
        "* Напишите функцию `polynomial_interpolate(X: list, Y: list, v: Expression)`, которая строит интерполяционный многочлен по двум заданным целочисленным массивам `X` и `Y`. Пример: `polynomial_interpolate([-1, 0, 1], [6, 2, 0])` $\\to x^2-3x+2$.   "
      ]
    },
    {
      "cell_type": "code",
      "execution_count": 118,
      "metadata": {},
      "outputs": [
        {
          "data": {
            "text/latex": [
              "$\\displaystyle -\\frac{5}{2} \\cdot x^{2} + \\frac{21}{2} \\cdot x - 7$"
            ],
            "text/plain": [
              "<IPython.core.display.Math object>"
            ]
          },
          "metadata": {},
          "output_type": "display_data"
        }
      ],
      "source": [
        "def polynomial_interpolate(X: list, Y: list, v: Expression = symbol('x')) -> Expression:\n",
        "  n = len(X)\n",
        "  mtx_elements = []\n",
        "  for i in range(n):\n",
        "    for j in range(n - 1, -1, -1):\n",
        "      mtx_elements.append(X[i] ** j)\n",
        "  A = matrix(mtx_elements, n, n)\n",
        "  b = cvector(Y)\n",
        "  result = items(solveLinearSystem(A, b).T)[::-1]\n",
        "  return Expression(polynomial_(result, v.T))\n",
        "\n",
        "\n",
        "# p = polynomial_interpolate([-1, 0, 1], [6, 2, 0])\n",
        "# show(p)\n",
        "p = polynomial_interpolate([1, 2, 3], [1, 4, 2])\n",
        "show(p)"
      ]
    },
    {
      "cell_type": "markdown",
      "metadata": {},
      "source": [
        "### Рациональные функции\n",
        "\n",
        "* Напишем конструктор для рациональных функций, принимающий на вход два многочлена (с произвольными коэффициентами). Если переменные у многочленов разные, то конструктор возвращает обычное частное двух выражений."
      ]
    },
    {
      "cell_type": "code",
      "execution_count": 119,
      "metadata": {},
      "outputs": [
        {
          "data": {
            "text/latex": [
              "$\\displaystyle \\frac{\\frac{1}{6} \\cdot x + \\frac{2}{3}}{x^{2} + \\frac{1}{2} \\cdot x - 1}$"
            ],
            "text/plain": [
              "<IPython.core.display.Math object>"
            ]
          },
          "metadata": {},
          "output_type": "display_data"
        }
      ],
      "source": [
        "def rationalFunction(a: Expression, b: Expression) -> Expression:\n",
        "  return Expression(rationalf_(a.T, b.T))\n",
        "\n",
        "def rationalf_(a: tuple, b: tuple) -> tuple:\n",
        "  if a[1] != b[1]:\n",
        "    return div_(a, b)\n",
        "  return 'rationalf', a, b, {}\n",
        "\n",
        "def latex_rationalf(x: tuple) -> str:\n",
        "  return latex_(div_(x[1], x[2]))\n",
        "\n",
        "p, q = polynomial([Q(2, 3), Q(1, 6)]), polynomial([-1, Q(1, 2), 1])\n",
        "r = rationalFunction(p, q)\n",
        "show(r)"
      ]
    },
    {
      "cell_type": "markdown",
      "metadata": {},
      "source": [
        "* Проверяем случай разных переменных"
      ]
    },
    {
      "cell_type": "code",
      "execution_count": 120,
      "metadata": {},
      "outputs": [
        {
          "data": {
            "text/latex": [
              "$\\displaystyle \\frac{y + 1}{x^{2} + 2 \\cdot x - 1}$"
            ],
            "text/plain": [
              "<IPython.core.display.Math object>"
            ]
          },
          "metadata": {},
          "output_type": "display_data"
        },
        {
          "name": "stdout",
          "output_type": "stream",
          "text": [
            "div\n"
          ]
        }
      ],
      "source": [
        "r = rationalFunction(polynomial([1, 1], symbol('y')), polynomial([-1, 2, 1]))\n",
        "show(r)\n",
        "print(ID(r.T))"
      ]
    },
    {
      "cell_type": "markdown",
      "metadata": {},
      "source": [
        "* (бонусное задание) Напишите функцию нормализации `normalize_rf(f: Expression)` рациональной дроби `f` с рациональными коэффициентами, которая преобразует эту дробь в отношение многочленов с **целыми** коэффициентами. Пример:\n",
        "$$\\frac{\\frac{1}{6} \\cdot x + \\frac{2}{3}}{3 \\cdot {x} ^ {2} + \\frac{1}{2} \\cdot x - 1} \\to \\frac{x + 4}{18 \\cdot {x} ^ {2} + 3 \\cdot x - 6}.$$"
      ]
    },
    {
      "cell_type": "code",
      "execution_count": 121,
      "metadata": {},
      "outputs": [
        {
          "data": {
            "text/latex": [
              "$\\displaystyle \\frac{\\frac{1}{6} \\cdot x + \\frac{2}{3}}{3 \\cdot x^{2} + \\frac{1}{2} \\cdot x - 1} = \\frac{x + 4}{18 \\cdot x^{2} + 3 \\cdot x - 6}$"
            ],
            "text/plain": [
              "<IPython.core.display.Math object>"
            ]
          },
          "metadata": {},
          "output_type": "display_data"
        }
      ],
      "source": [
        "def normalize_rf(f: Expression) -> Expression:\n",
        "  A = list(items(items(f.T)[0])[1:])\n",
        "  B = list(items(items(f.T)[1])[1:])\n",
        "  v = items(f.T)[0][1]\n",
        "  muls = A + B\n",
        "  max_denom = float('-inf')\n",
        "  for i in range(len(muls)):\n",
        "    curr_denom = options(muls[i])['denom']\n",
        "    if curr_denom > max_denom:\n",
        "      max_denom = curr_denom\n",
        "  max_denom = integer_(int(max_denom))\n",
        "  for i in range(len(A)):\n",
        "    A[i] = integer_(options(eval_(mul_(max_denom, A[i])))['num'])\n",
        "  for i in range(len(B)):\n",
        "    B[i] = integer_(options(eval_(mul_(max_denom, B[i])))['num'])\n",
        "  return Expression(rationalf_(polynomial_(A, v), polynomial_(B, v)))\n",
        "\n",
        "r = rationalFunction(polynomial([Q(2, 3), Q(1, 6)]), polynomial([-1, Q(1, 2), 3]))\n",
        "show(r == normalize_rf(r))"
      ]
    },
    {
      "cell_type": "markdown",
      "metadata": {},
      "source": [
        "* (бонусное задание) Напишите функцию, которая приводит заданную рациональную дробь к правильному виду, раскладывая ее на целую часть (многочлен) и остаток (правильная дробь с тем же знаменателем). Пример:\n",
        "$$ \\frac{{x} ^ {2} - x + 1}{2 \\cdot x + 1} \\to \\left( \\frac{1}{2} \\cdot x - \\frac{3}{4} \\right) + \\frac{\\frac{7}{4}}{2 \\cdot x + 1}$$"
      ]
    },
    {
      "cell_type": "code",
      "execution_count": 122,
      "metadata": {},
      "outputs": [
        {
          "data": {
            "text/latex": [
              "$\\displaystyle \\frac{x^{2} - x + 1}{2 \\cdot x + 1} = \\left( \\frac{1}{2} \\cdot x - \\frac{3}{4} \\right) + \\frac{\\frac{7}{4}}{2 \\cdot x + 1}$"
            ],
            "text/plain": [
              "<IPython.core.display.Math object>"
            ]
          },
          "metadata": {},
          "output_type": "display_data"
        }
      ],
      "source": [
        "def splitRationalFunction(f: Expression) -> tuple:\n",
        "  A = items(f.T)[0]\n",
        "  B = items(f.T)[1]\n",
        "  result = divide_polynomials_(A, B)\n",
        "  return Expression(result[0]), Expression(rationalf_(result[1], B))\n",
        "\n",
        "r = rationalFunction(polynomial([1, -1, 1]), polynomial([1, 2]))\n",
        "p, q = splitRationalFunction(r)\n",
        "show(r == p + q)"
      ]
    },
    {
      "cell_type": "markdown",
      "metadata": {},
      "source": [
        "* Напишите функцию `decomposeRationalFunction(f: Expression)` декомпозиции заданной рациональной дроби в сумму простых дробей в предположении, что числитель и знаменатель дроби - приведенные многочлены с целыми коэффициентами; знаменатель дроби (степени $n$) есть произведение $n$ различных линейных множителей, т.е. имеет $n$ различных целых корней. Схема работы алгоритма: раскладываем знаменатель на произведение с помощью функции `polynomial_factors`; формируем матрицу и вектор правой части системы уравнений для метода неопределенных коэффициентов (см. презентацию лекции); решаем систему и находим коэффициенты разложения; составляем линейную комбинацию полученных простых дробей с найденными коэффициентами. Пример:\n",
        "$$\\frac{5 \\cdot {x} ^ {2} - 3 \\cdot x + 4}{{x} ^ {3} - 2 \\cdot {x} ^ {2} - 5 \\cdot x + 6} \\to -{\\frac{1}{x - 1}} + 4 \\cdot \\frac{1}{x - 3} + 2 \\cdot \\frac{1}{x + 2}.$$"
      ]
    },
    {
      "cell_type": "code",
      "execution_count": 123,
      "metadata": {},
      "outputs": [
        {
          "data": {
            "text/latex": [
              "$\\displaystyle \\frac{5 \\cdot x^{2} - 3 \\cdot x + 4}{x^{3} - 2 \\cdot x^{2} - 5 \\cdot x + 6} = -\\frac{1}{x - 1} + 4 \\cdot \\left( \\frac{1}{x - 3} \\right) + 2 \\cdot \\left( \\frac{1}{x + 2} \\right)$"
            ],
            "text/plain": [
              "<IPython.core.display.Math object>"
            ]
          },
          "metadata": {},
          "output_type": "display_data"
        }
      ],
      "source": [
        "def decomposeRationalFunction(f: Expression) -> Expression:\n",
        "  r = decompose_rationalf(f.T)\n",
        "  return Expression(r)\n",
        "\n",
        "def decompose_rationalf(f: tuple) -> tuple:\n",
        "  A = items(f)[0]\n",
        "  B = items(f)[1]\n",
        "  v = items(f)[1][1]\n",
        "  A_int = [options(e)['num'] for e in items(A)[1:]]\n",
        "  B_int = [options(e)['num'] for e in items(B)[1:]]\n",
        "\n",
        "  pol_fact_dict = polynomial_factors(B_int)\n",
        "  B_fact = []\n",
        "  for e in pol_fact_dict:\n",
        "    B_fact += [-e[0]] * pol_fact_dict[e]\n",
        "\n",
        "  mtx_elements = []\n",
        "  n = len(B_fact)\n",
        "  for i in range(n):\n",
        "    mtx_elements += horner_method(B_int, B_fact[i])[1:]\n",
        "\n",
        "  mtx = transpose(matrix(mtx_elements, n, n))\n",
        "  cv = cvector(A_int)\n",
        "  result = items(solveLinearSystem(mtx, cv).T)\n",
        "\n",
        "  pol_fact = []\n",
        "  for i in range(n):\n",
        "    pol_fact.append(div_(integer_(1), polynomial_([integer_(-B_fact[i]), integer_(1)], v)))\n",
        "\n",
        "  D = pol_fact # список простых дробей (выражения в списочном формате вида 1/(x-a))\n",
        "  C = result # список коэффициентов (рациональные числа в списочном формате)\n",
        "  return linear_combination(C, D)\n",
        "\n",
        "r = rationalFunction(polynomial([4, -3, 5]), polynomial([6, -5, -2, 1]))\n",
        "show(r == decomposeRationalFunction(r))\n",
        "# r = rationalFunction(polynomial([2, -1, 1]), polynomial([2, -1, -2, 1]))\n",
        "# show(r == decomposeRationalFunction(r))\n",
        "# r = rationalFunction(polynomial([4, -3, 5]), polynomial([6, -5, -2, 1]))\n",
        "# show(r == decomposeRationalFunction(r))"
      ]
    }
  ],
  "metadata": {
    "colab": {
      "provenance": []
    },
    "kernelspec": {
      "display_name": "Python 3",
      "name": "python3"
    },
    "language_info": {
      "codemirror_mode": {
        "name": "ipython",
        "version": 3
      },
      "file_extension": ".py",
      "mimetype": "text/x-python",
      "name": "python",
      "nbconvert_exporter": "python",
      "pygments_lexer": "ipython3",
      "version": "3.11.6"
    }
  },
  "nbformat": 4,
  "nbformat_minor": 0
}
