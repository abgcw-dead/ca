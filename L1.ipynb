{
  "cells": [
    {
      "cell_type": "markdown",
      "metadata": {
        "id": "5v6xWg9klfXT"
      },
      "source": [
        "### Подключаем библиотеки, display и Math для визуализации формул, numpy - для построения графиков (понадобится позже)"
      ]
    },
    {
      "cell_type": "code",
      "execution_count": 1,
      "metadata": {
        "id": "7DMrUe4aHILf"
      },
      "outputs": [],
      "source": [
        "from IPython.display import display, Math\n",
        "import numpy as np"
      ]
    },
    {
      "cell_type": "markdown",
      "metadata": {
        "id": "4EwRgUF-l2rW"
      },
      "source": [
        "### Определяем функцию для создания узла дерева для хранения целых чисел"
      ]
    },
    {
      "cell_type": "code",
      "execution_count": 2,
      "metadata": {
        "id": "twPonpZ_HMBh"
      },
      "outputs": [
        {
          "data": {
            "text/plain": [
              "('integer', {'value': -34})"
            ]
          },
          "execution_count": 2,
          "metadata": {},
          "output_type": "execute_result"
        }
      ],
      "source": [
        "def integer_(x: int) -> tuple:\n",
        "  return 'integer', {'value': x}\n",
        "\n",
        "a = integer_(-34)\n",
        "a"
      ]
    },
    {
      "cell_type": "markdown",
      "metadata": {
        "id": "CoAe7Md6mK-D"
      },
      "source": [
        "### Определите функции для доступа к компонентам узла дерева выражения:\n",
        "* ID(x) - возвращает идентификатор узла\n",
        "* items(x) - возвращает список дочерних узлов\n",
        "* options(x) - возвращает словарь с параметрами узла\n",
        "* isTerminal(x) - возвращает True, если узел --- лист, т.е. не содержит дочерних узлов\n",
        "\n",
        "*Замените ... в каждой функции на нужное выражение*"
      ]
    },
    {
      "cell_type": "code",
      "execution_count": 3,
      "metadata": {
        "id": "XCIOx0CrHQU3"
      },
      "outputs": [
        {
          "data": {
            "text/plain": [
              "(Ellipsis, Ellipsis, Ellipsis, Ellipsis)"
            ]
          },
          "execution_count": 3,
          "metadata": {},
          "output_type": "execute_result"
        }
      ],
      "source": [
        "def ID(x: tuple) -> str:\n",
        "  return ...\n",
        "\n",
        "def items(x: tuple) -> list:\n",
        "  return ...\n",
        "\n",
        "def options(x: tuple) -> dict:\n",
        "  return ...\n",
        "\n",
        "def isTerminal(x: tuple) -> bool:\n",
        "  return ...\n",
        "\n",
        "ID(a), items(a), options(a), isTerminal(a)"
      ]
    },
    {
      "cell_type": "markdown",
      "metadata": {
        "id": "DO-ARPPVnlA3"
      },
      "source": [
        "### Определяем функции для преобразования узла в LaTeX-выражение"
      ]
    },
    {
      "cell_type": "code",
      "execution_count": 4,
      "metadata": {
        "id": "ojW8MFE6gR6V"
      },
      "outputs": [
        {
          "ename": "NameError",
          "evalue": "name 'latex_Ellipsis' is not defined",
          "output_type": "error",
          "traceback": [
            "\u001b[1;31m---------------------------------------------------------------------------\u001b[0m",
            "\u001b[1;31mNameError\u001b[0m                                 Traceback (most recent call last)",
            "\u001b[1;32md:\\Programming\\CA\\ca\\L1.ipynb Cell 8\u001b[0m line \u001b[0;36m8\n\u001b[0;32m      <a href='vscode-notebook-cell:/d%3A/Programming/CA/ca/L1.ipynb#X10sZmlsZQ%3D%3D?line=4'>5</a>\u001b[0m \u001b[39mdef\u001b[39;00m \u001b[39mlatex_integer\u001b[39m(x: \u001b[39mtuple\u001b[39m) \u001b[39m-\u001b[39m\u001b[39m>\u001b[39m \u001b[39mstr\u001b[39m:\n\u001b[0;32m      <a href='vscode-notebook-cell:/d%3A/Programming/CA/ca/L1.ipynb#X10sZmlsZQ%3D%3D?line=5'>6</a>\u001b[0m   \u001b[39mreturn\u001b[39;00m \u001b[39mf\u001b[39m\u001b[39m\"\u001b[39m\u001b[39m{\u001b[39;00moptions(x)[\u001b[39m'\u001b[39m\u001b[39mvalue\u001b[39m\u001b[39m'\u001b[39m]\u001b[39m}\u001b[39;00m\u001b[39m\"\u001b[39m\n\u001b[1;32m----> <a href='vscode-notebook-cell:/d%3A/Programming/CA/ca/L1.ipynb#X10sZmlsZQ%3D%3D?line=7'>8</a>\u001b[0m latex_(a)\n",
            "\u001b[1;32md:\\Programming\\CA\\ca\\L1.ipynb Cell 8\u001b[0m line \u001b[0;36m2\n\u001b[0;32m      <a href='vscode-notebook-cell:/d%3A/Programming/CA/ca/L1.ipynb#X10sZmlsZQ%3D%3D?line=0'>1</a>\u001b[0m \u001b[39mdef\u001b[39;00m \u001b[39mlatex_\u001b[39m(x: \u001b[39mtuple\u001b[39m) \u001b[39m-\u001b[39m\u001b[39m>\u001b[39m \u001b[39mstr\u001b[39m:\n\u001b[1;32m----> <a href='vscode-notebook-cell:/d%3A/Programming/CA/ca/L1.ipynb#X10sZmlsZQ%3D%3D?line=1'>2</a>\u001b[0m   cmd \u001b[39m=\u001b[39m \u001b[39meval\u001b[39;49m(\u001b[39mf\u001b[39;49m\u001b[39m\"\u001b[39;49m\u001b[39mlatex_\u001b[39;49m\u001b[39m{\u001b[39;49;00mID(x)\u001b[39m}\u001b[39;49;00m\u001b[39m\"\u001b[39;49m)\n\u001b[0;32m      <a href='vscode-notebook-cell:/d%3A/Programming/CA/ca/L1.ipynb#X10sZmlsZQ%3D%3D?line=2'>3</a>\u001b[0m   \u001b[39mreturn\u001b[39;00m cmd(x)\n",
            "File \u001b[1;32m<string>:1\u001b[0m\n",
            "\u001b[1;31mNameError\u001b[0m: name 'latex_Ellipsis' is not defined"
          ]
        }
      ],
      "source": [
        "def latex_(x: tuple) -> str:\n",
        "  cmd = eval(f\"latex_{ID(x)}\")\n",
        "  return cmd(x)\n",
        "\n",
        "def latex_integer(x: tuple) -> str:\n",
        "  return f\"{options(x)['value']}\"\n",
        "\n",
        "latex_(a)"
      ]
    },
    {
      "cell_type": "markdown",
      "metadata": {
        "id": "On4iSQh6nx2P"
      },
      "source": [
        "### Определяем функцию show_ для визуализации формулы, представленной деревом x"
      ]
    },
    {
      "cell_type": "code",
      "execution_count": 6,
      "metadata": {
        "id": "ClKfcPSIgvhN"
      },
      "outputs": [
        {
          "ename": "NameError",
          "evalue": "name 'latex_Ellipsis' is not defined",
          "output_type": "error",
          "traceback": [
            "\u001b[1;31m---------------------------------------------------------------------------\u001b[0m",
            "\u001b[1;31mNameError\u001b[0m                                 Traceback (most recent call last)",
            "\u001b[1;32md:\\Programming\\CA\\ca\\L1.ipynb Cell 10\u001b[0m line \u001b[0;36m4\n\u001b[0;32m      <a href='vscode-notebook-cell:/d%3A/Programming/CA/ca/L1.ipynb#X12sZmlsZQ%3D%3D?line=0'>1</a>\u001b[0m \u001b[39mdef\u001b[39;00m \u001b[39mshow_\u001b[39m(x: \u001b[39mtuple\u001b[39m) \u001b[39m-\u001b[39m\u001b[39m>\u001b[39m \u001b[39mNone\u001b[39;00m:\n\u001b[0;32m      <a href='vscode-notebook-cell:/d%3A/Programming/CA/ca/L1.ipynb#X12sZmlsZQ%3D%3D?line=1'>2</a>\u001b[0m   display(Math(latex_(x)))\n\u001b[1;32m----> <a href='vscode-notebook-cell:/d%3A/Programming/CA/ca/L1.ipynb#X12sZmlsZQ%3D%3D?line=3'>4</a>\u001b[0m show_(integer_(\u001b[39m-\u001b[39;49m\u001b[39m123\u001b[39;49m))\n\u001b[0;32m      <a href='vscode-notebook-cell:/d%3A/Programming/CA/ca/L1.ipynb#X12sZmlsZQ%3D%3D?line=4'>5</a>\u001b[0m \u001b[39mprint\u001b[39m(\u001b[39m-\u001b[39m\u001b[39m123\u001b[39m)\n",
            "\u001b[1;32md:\\Programming\\CA\\ca\\L1.ipynb Cell 10\u001b[0m line \u001b[0;36m2\n\u001b[0;32m      <a href='vscode-notebook-cell:/d%3A/Programming/CA/ca/L1.ipynb#X12sZmlsZQ%3D%3D?line=0'>1</a>\u001b[0m \u001b[39mdef\u001b[39;00m \u001b[39mshow_\u001b[39m(x: \u001b[39mtuple\u001b[39m) \u001b[39m-\u001b[39m\u001b[39m>\u001b[39m \u001b[39mNone\u001b[39;00m:\n\u001b[1;32m----> <a href='vscode-notebook-cell:/d%3A/Programming/CA/ca/L1.ipynb#X12sZmlsZQ%3D%3D?line=1'>2</a>\u001b[0m   display(Math(latex_(x)))\n",
            "\u001b[1;32md:\\Programming\\CA\\ca\\L1.ipynb Cell 10\u001b[0m line \u001b[0;36m2\n\u001b[0;32m      <a href='vscode-notebook-cell:/d%3A/Programming/CA/ca/L1.ipynb#X12sZmlsZQ%3D%3D?line=0'>1</a>\u001b[0m \u001b[39mdef\u001b[39;00m \u001b[39mlatex_\u001b[39m(x: \u001b[39mtuple\u001b[39m) \u001b[39m-\u001b[39m\u001b[39m>\u001b[39m \u001b[39mstr\u001b[39m:\n\u001b[1;32m----> <a href='vscode-notebook-cell:/d%3A/Programming/CA/ca/L1.ipynb#X12sZmlsZQ%3D%3D?line=1'>2</a>\u001b[0m   cmd \u001b[39m=\u001b[39m \u001b[39meval\u001b[39;49m(\u001b[39mf\u001b[39;49m\u001b[39m\"\u001b[39;49m\u001b[39mlatex_\u001b[39;49m\u001b[39m{\u001b[39;49;00mID(x)\u001b[39m}\u001b[39;49;00m\u001b[39m\"\u001b[39;49m)\n\u001b[0;32m      <a href='vscode-notebook-cell:/d%3A/Programming/CA/ca/L1.ipynb#X12sZmlsZQ%3D%3D?line=2'>3</a>\u001b[0m   \u001b[39mreturn\u001b[39;00m cmd(x)\n",
            "File \u001b[1;32m<string>:1\u001b[0m\n",
            "\u001b[1;31mNameError\u001b[0m: name 'latex_Ellipsis' is not defined"
          ]
        }
      ],
      "source": [
        "def show_(x: tuple) -> None:\n",
        "  display(Math(latex_(x)))\n",
        "\n",
        "show_(integer_(-123))\n",
        "print(-123)"
      ]
    },
    {
      "cell_type": "markdown",
      "metadata": {
        "id": "12pM-AO5qJGv"
      },
      "source": [
        "### Символы\n",
        "* определяем функцию для генерации узла дерева: дополните список греческих букв, см. [ссылку](https://www.overleaf.com/learn/latex/List_of_Greek_letters_and_math_symbols)\n",
        "* определяем функцию преобразования символа в LaTeX-формат\n",
        "* тестируем обе функции"
      ]
    },
    {
      "cell_type": "code",
      "execution_count": 5,
      "metadata": {
        "id": "zvTRR44JHWGE"
      },
      "outputs": [
        {
          "ename": "NameError",
          "evalue": "name 'show_' is not defined",
          "output_type": "error",
          "traceback": [
            "\u001b[1;31m---------------------------------------------------------------------------\u001b[0m",
            "\u001b[1;31mNameError\u001b[0m                                 Traceback (most recent call last)",
            "\u001b[1;32md:\\Programming\\CA\\ca\\L1.ipynb Cell 12\u001b[0m line \u001b[0;36m1\n\u001b[0;32m     <a href='vscode-notebook-cell:/d%3A/Programming/CA/ca/L1.ipynb#X14sZmlsZQ%3D%3D?line=10'>11</a>\u001b[0m   \u001b[39mreturn\u001b[39;00m options(x)[\u001b[39m'\u001b[39m\u001b[39mlatex\u001b[39m\u001b[39m'\u001b[39m]\n\u001b[0;32m     <a href='vscode-notebook-cell:/d%3A/Programming/CA/ca/L1.ipynb#X14sZmlsZQ%3D%3D?line=12'>13</a>\u001b[0m x, alpha \u001b[39m=\u001b[39m symbol_(\u001b[39m'\u001b[39m\u001b[39mx_1\u001b[39m\u001b[39m'\u001b[39m), symbol_(\u001b[39m'\u001b[39m\u001b[39malpha\u001b[39m\u001b[39m'\u001b[39m)\n\u001b[1;32m---> <a href='vscode-notebook-cell:/d%3A/Programming/CA/ca/L1.ipynb#X14sZmlsZQ%3D%3D?line=13'>14</a>\u001b[0m show_(x)\n\u001b[0;32m     <a href='vscode-notebook-cell:/d%3A/Programming/CA/ca/L1.ipynb#X14sZmlsZQ%3D%3D?line=14'>15</a>\u001b[0m show_(alpha)\n",
            "\u001b[1;31mNameError\u001b[0m: name 'show_' is not defined"
          ]
        }
      ],
      "source": [
        "def symbol_(x: str) -> tuple:\n",
        "  greek = ['alpha', 'beta', 'gamma']\n",
        "  n, s = x.split('_') if '_' in x else (x, '')\n",
        "  if n in greek:\n",
        "    n = f\"\\\\{n}\"\n",
        "  if s:\n",
        "    n = f\"{n}_{{{s}}}\"\n",
        "  return 'symbol', {'name': x, 'latex': n}\n",
        "\n",
        "def latex_symbol(x: tuple) -> str:\n",
        "  return options(x)['latex']\n",
        "\n",
        "x, alpha = symbol_('x_1'), symbol_('alpha')\n",
        "show_(x)\n",
        "show_(alpha)"
      ]
    },
    {
      "cell_type": "markdown",
      "metadata": {
        "id": "DUE9zeXxsdAS"
      },
      "source": [
        "### Определяем функции генерации узлов для бинарных и унарных операций\n",
        "* напишите по аналогии с функцией add_ функции для остальных бинарных операций: вычитания (sub), умножения (mul), деления (div), возведения в степень (deg); логических операций (and, or, xor); операций сравнения (eq, ne, lt, le, gt, ge)\n",
        "* напишите по аналогии с функцией neg_ функцию для логического отрицания (inv)"
      ]
    },
    {
      "cell_type": "code",
      "execution_count": null,
      "metadata": {
        "id": "sudrBI3qHntH"
      },
      "outputs": [],
      "source": [
        "def add_(x: tuple, y: tuple) -> tuple:\n",
        "  return 'add', x, y, {}\n",
        "\n",
        "...\n",
        "\n",
        "def neg_(x: tuple) -> tuple:\n",
        "  return 'neg', x, {}\n",
        "\n",
        "..."
      ]
    },
    {
      "cell_type": "markdown",
      "metadata": {
        "id": "gYI3t2OVwaRx"
      },
      "source": [
        "### Тестируем операции\n",
        "* создаем целое число a=34 и символы $x$ и $y$\n",
        "* создаем дерево выражения f=(a+x)*y, используя вышенаписанные функции для бинарных операций\n",
        "* печатаем это выражение (print)"
      ]
    },
    {
      "cell_type": "code",
      "execution_count": null,
      "metadata": {
        "id": "scWSG5ZKi0I9"
      },
      "outputs": [],
      "source": [
        "a = ...\n",
        "x = ...\n",
        "y = ...\n",
        "f = ...\n",
        "print(f)"
      ]
    },
    {
      "cell_type": "markdown",
      "metadata": {
        "id": "nKFPXu9PxSnA"
      },
      "source": [
        "### Создаем словарь с приоритетами всех операций\n",
        "* в соответствии с приоритетами этих же операций в языке Python: см. [ссылку](https://www.programiz.com/python-programming/precedence-associativity), приоритет логических операций and, or, xor определяется как для побитовых (bitwise) операций (&, |, ^)\n",
        "* конкретные значения приоритетов не важны, важны их относительные значения\n",
        "* создаем функцию для вычисления приоритета заданного узла\n",
        "* найдите приоритет выражения (a+x)*y из предыдущего пункта"
      ]
    },
    {
      "cell_type": "code",
      "execution_count": null,
      "metadata": {
        "colab": {
          "base_uri": "https://localhost:8080/"
        },
        "id": "bqJJ-fvki8LS",
        "outputId": "036884e5-5b08-413e-bde8-830633ed092f"
      },
      "outputs": [
        {
          "data": {
            "text/plain": [
              "8"
            ]
          },
          "execution_count": 16,
          "metadata": {},
          "output_type": "execute_result"
        }
      ],
      "source": [
        "priority = {'deg': 9, 'neg': 8, ...}\n",
        "\n",
        "def Pr(x: tuple) -> int:\n",
        "  return priority.get(ID(x), 10)\n",
        "\n",
        "print(Pr(f))"
      ]
    },
    {
      "cell_type": "markdown",
      "metadata": {
        "id": "BjYNDwXC1lBe"
      },
      "source": [
        "### Определяем функцию \"оборачивания\" заданного LaTeX-выражения в круглые скобки \"адаптивного\" размера\n",
        "\n",
        "Сравните размер скобок: `(\\frac{x^2}{y^3})` $\\to (\\frac{x^2}{y^3})$ и `\\left(\\frac{x^2}{y^3}\\right)` $\\to \\left(\\frac{x^2}{y^3}\\right)$"
      ]
    },
    {
      "cell_type": "code",
      "execution_count": null,
      "metadata": {
        "id": "NuP8AUwKjX4j"
      },
      "outputs": [],
      "source": [
        "def enclose(x: str) -> str:\n",
        "  return f\"\\\\left( {x} \\\\right)\""
      ]
    },
    {
      "cell_type": "markdown",
      "metadata": {
        "id": "ys2WAMXh1xhL"
      },
      "source": [
        "### Определяем функции преобразования всех введенных бинарных и унарных операций в формат LaTeX\n",
        "* отдельным образом определяются операции возведения в степень $x^y$ и деления $\\frac{x}{y}$\n",
        "* для логических операций используем обозначения $\\neg x$, $x \\wedge y$, $x \\vee y$, $x \\oplus y$\n",
        "* чтобы посмотреть код этой вкладки, сделайте ЗДЕСЬ двойной клик"
      ]
    },
    {
      "cell_type": "code",
      "execution_count": null,
      "metadata": {
        "id": "2cWnKK9ljmCW"
      },
      "outputs": [],
      "source": [
        "def latex_add(x: tuple) -> str:\n",
        "  a, b = latex_(x[1]), latex_(x[2])\n",
        "  if Pr(x[1]) < Pr(x):\n",
        "    a = enclose(a)\n",
        "  if Pr(x[2]) <= Pr(x):\n",
        "    b = enclose(b)\n",
        "  return f\"{a} + {b}\"\n",
        "\n",
        "def latex_mul(x: tuple) -> str:\n",
        "  op, a, b = ID(x), latex_(x[1]), latex_(x[2])\n",
        "  if Pr(x[1]) < Pr(x):\n",
        "    a = enclose(a)\n",
        "  if Pr(x[2]) <= Pr(x):\n",
        "    b = enclose(b)\n",
        "  return f\"{a} \\\\cdot {b}\"\n",
        "\n",
        "..."
      ]
    },
    {
      "cell_type": "markdown",
      "metadata": {
        "id": "Cu8IGszl32RF"
      },
      "source": [
        "### Протестируйте определенные функции на различных выражениях\n",
        "* опциональное (бонусное) задание: проверьте как работают построенные функции на выражениях с унарным минусом и отрицательными числами, придумайте решение найденных проблем (если проблемы не найдены, то задание не засчитывается!)"
      ]
    },
    {
      "cell_type": "code",
      "execution_count": null,
      "metadata": {
        "id": "AhyPebnn3-Qu"
      },
      "outputs": [],
      "source": [
        "..."
      ]
    },
    {
      "cell_type": "markdown",
      "metadata": {
        "id": "h96qLnvI3_wt"
      },
      "source": [
        "### Определяем класс Expression - обертку для списочных выражений\n",
        "* включите в него перегрузку всех необходимых бинарных и унарных операций\n",
        "* определяем функцию fix для принудительного приведения заданного целого числа к объекту класса Expression\n",
        "* опциональное (бонусное) задание: включите перегрузку тех же бинарных операций с \"правым\" аргументом (radd, rmul и т.д.)\n"
      ]
    },
    {
      "cell_type": "code",
      "execution_count": null,
      "metadata": {
        "id": "XHS90CijsBhk"
      },
      "outputs": [],
      "source": [
        "class Expression:\n",
        "  def __init__(self, x):\n",
        "    self.T = x\n",
        "\n",
        "  def __add__(self, x):\n",
        "    return Expression(add_(self.T, fix(x).T))\n",
        "\n",
        "  ...\n",
        "\n",
        "def fix(x):\n",
        "  if isinstance(x, int):\n",
        "    return Expression(integer_(x))\n",
        "  return x"
      ]
    },
    {
      "cell_type": "markdown",
      "metadata": {
        "id": "fjtKXvmC9Ahq"
      },
      "source": [
        "### Создаем обертки для функций integer_  и symbol_\n",
        "* опциональное (бонусное) задание: напишите функцию symbols, которая позволяет создавать сразу несколько символьных переменных: `x, y, z = symbols('x y z')`"
      ]
    },
    {
      "cell_type": "code",
      "execution_count": null,
      "metadata": {
        "id": "eUzYyRY2sfoH"
      },
      "outputs": [],
      "source": [
        "def Z(x: int) -> Expression:\n",
        "  return Expression(integer_(x))\n",
        "\n",
        "def symbol(x: str) -> Expression:\n",
        "  return Expression(symbol_(x))\n"
      ]
    },
    {
      "cell_type": "markdown",
      "metadata": {
        "id": "8MkumMSn9VOD"
      },
      "source": [
        "### Определяем функцию show вывода выражений, заданных классом Expression\n",
        "* протестируйте работу всех функций на различных выражениях"
      ]
    },
    {
      "cell_type": "code",
      "execution_count": null,
      "metadata": {
        "id": "VUJgZQSo9Unz"
      },
      "outputs": [],
      "source": [
        "def show(x: Expression) -> None:\n",
        "  show_(x.T)\n",
        "\n",
        "a, x = Z(13), symbol('x_2')\n",
        "show(a / x)"
      ]
    },
    {
      "cell_type": "markdown",
      "metadata": {
        "id": "UiUK2dPrJvgt"
      },
      "source": [
        "### Визуализация дерева выражения\n",
        "Дополнительные задания:\n",
        "\n",
        "* в арифметических узлах должны быть показаны значки операций, а не слова (+ вместо add и т.д.)\n",
        "* терминальные узлы должны быть выделены отдельным цветом"
      ]
    },
    {
      "cell_type": "code",
      "execution_count": null,
      "metadata": {
        "id": "Wik7kxSBl-yv"
      },
      "outputs": [],
      "source": [
        "import matplotlib\n",
        "import matplotlib.pyplot as plt\n",
        "import networkx as nx\n",
        "from networkx.drawing.nx_pydot import graphviz_layout\n",
        "from networkx.readwrite import json_graph\n",
        "\n",
        "def makeGraph(x: tuple, nodes: list, labels: list, links: list) -> int:\n",
        "  id_ = len(nodes)\n",
        "  nodes.append({'id': id_})\n",
        "  if isTerminal(x):\n",
        "    labels[id_] = f'${latex_(x)}$'\n",
        "  else:\n",
        "    labels[id_] = x[0]\n",
        "    for a in x[1:]:\n",
        "      if isinstance(a, tuple):\n",
        "        cid = makeGraph(a, nodes, labels, links)\n",
        "        links.append({'source': id_, 'target': cid})\n",
        "  return id_\n",
        "\n",
        "def drawGraph_(x: tuple, size) -> None:\n",
        "  nodes, labels, links = [], {}, []\n",
        "  makeGraph(x, nodes, labels, links)\n",
        "  graph = json_graph.node_link_graph({'nodes': nodes, 'links': links}, directed=True, multigraph=False)\n",
        "  pos = graphviz_layout(graph, prog=\"dot\")\n",
        "  fig, ax = plt.subplots(figsize=(3 * size, 3 * size))\n",
        "  ax.set_axis_off()\n",
        "  nx.draw_networkx_edges(graph.to_directed(), pos, ax = ax, edge_color=\"black\")\n",
        "  nx.draw_networkx_labels(graph.to_directed(), pos, labels = labels, font_color = \"blue\")\n",
        "\n",
        "def drawGraph(x: Expression, size: float = 1) -> None:\n",
        "  drawGraph_(x.T, size)\n",
        "\n",
        "x, y = symbol('x'), symbol('y')\n",
        "drawGraph((x + y) / Z(34))"
      ]
    }
  ],
  "metadata": {
    "colab": {
      "provenance": []
    },
    "kernelspec": {
      "display_name": "Python 3",
      "name": "python3"
    },
    "language_info": {
      "codemirror_mode": {
        "name": "ipython",
        "version": 3
      },
      "file_extension": ".py",
      "mimetype": "text/x-python",
      "name": "python",
      "nbconvert_exporter": "python",
      "pygments_lexer": "ipython3",
      "version": "3.11.5"
    }
  },
  "nbformat": 4,
  "nbformat_minor": 0
}
