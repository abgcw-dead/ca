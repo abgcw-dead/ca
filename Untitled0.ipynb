{
  "cells": [
    {
      "cell_type": "markdown",
      "metadata": {},
      "source": [
        "# Семинар"
      ]
    },
    {
      "cell_type": "code",
      "execution_count": 1,
      "metadata": {
        "id": "X9PNZJsPU5PJ"
      },
      "outputs": [],
      "source": [
        "from sympy import *"
      ]
    },
    {
      "cell_type": "code",
      "execution_count": 2,
      "metadata": {
        "id": "BIcDfIe4bIxu"
      },
      "outputs": [],
      "source": [
        "v = Function('v')\n",
        "t = symbols('t')\n",
        "m = 1\n",
        "g = 1.6"
      ]
    },
    {
      "cell_type": "code",
      "execution_count": 3,
      "metadata": {
        "colab": {
          "base_uri": "https://localhost:8080/",
          "height": 39
        },
        "id": "XY7BGEnqbuTN",
        "outputId": "a00cf224-c209-4aea-f9ab-0024b1fa6d8e"
      },
      "outputs": [
        {
          "data": {
            "text/latex": [
              "$\\displaystyle v{\\left(t \\right)} = C_{1} - 1.6 t$"
            ],
            "text/plain": [
              "Eq(v(t), C1 - 1.6*t)"
            ]
          },
          "execution_count": 3,
          "metadata": {},
          "output_type": "execute_result"
        }
      ],
      "source": [
        "dsolve(diff(v(t), t) + g, v(t))"
      ]
    },
    {
      "cell_type": "code",
      "execution_count": 4,
      "metadata": {
        "colab": {
          "base_uri": "https://localhost:8080/",
          "height": 39
        },
        "id": "jBsnmsiWciFt",
        "outputId": "f96abbbf-219f-4494-aaad-682250149f3c"
      },
      "outputs": [
        {
          "data": {
            "text/latex": [
              "$\\displaystyle v{\\left(t \\right)} = 100 - 1.6 t$"
            ],
            "text/plain": [
              "Eq(v(t), 100 - 1.6*t)"
            ]
          },
          "execution_count": 4,
          "metadata": {},
          "output_type": "execute_result"
        }
      ],
      "source": [
        "vt = dsolve(diff(v(t), t) + g, v(t), ics={v(t).subs(t,0):100})\n",
        "vt"
      ]
    },
    {
      "cell_type": "code",
      "execution_count": 5,
      "metadata": {
        "colab": {
          "base_uri": "https://localhost:8080/",
          "height": 39
        },
        "id": "2XRYYUVTc6DJ",
        "outputId": "ed408331-ac80-467c-dada-36eae8181048"
      },
      "outputs": [
        {
          "data": {
            "text/latex": [
              "$\\displaystyle 100 - 1.6 t$"
            ],
            "text/plain": [
              "100 - 1.6*t"
            ]
          },
          "execution_count": 5,
          "metadata": {},
          "output_type": "execute_result"
        }
      ],
      "source": [
        "vt.rhs"
      ]
    },
    {
      "cell_type": "code",
      "execution_count": 6,
      "metadata": {
        "colab": {
          "base_uri": "https://localhost:8080/",
          "height": 39
        },
        "id": "7cVWLwXBdAXv",
        "outputId": "888aa002-df9f-4b3f-934f-d12bfc076a3f"
      },
      "outputs": [
        {
          "data": {
            "text/latex": [
              "$\\displaystyle h{\\left(t \\right)} = - 0.8 t^{2} + 100.0 t$"
            ],
            "text/plain": [
              "Eq(h(t), -0.8*t**2 + 100.0*t)"
            ]
          },
          "execution_count": 6,
          "metadata": {},
          "output_type": "execute_result"
        }
      ],
      "source": [
        "h = Function('h')\n",
        "ht = dsolve(diff(h(t), t) - vt.rhs, h(t), ics={h(t).subs(t,0):0})\n",
        "ht"
      ]
    },
    {
      "cell_type": "code",
      "execution_count": 7,
      "metadata": {
        "colab": {
          "base_uri": "https://localhost:8080/"
        },
        "id": "DtBRPxv0dTAY",
        "outputId": "947a8cd4-8499-4502-a4db-c6617cd2405e"
      },
      "outputs": [
        {
          "data": {
            "text/plain": [
              "[(62.5000000000000, 0)]"
            ]
          },
          "execution_count": 7,
          "metadata": {},
          "output_type": "execute_result"
        }
      ],
      "source": [
        "solve(vt.rhs, t, 0)"
      ]
    },
    {
      "cell_type": "code",
      "execution_count": 8,
      "metadata": {
        "colab": {
          "base_uri": "https://localhost:8080/",
          "height": 37
        },
        "id": "Mbpb3tSqdmmy",
        "outputId": "1d02b909-0240-4085-a86f-249e4ae66031"
      },
      "outputs": [
        {
          "data": {
            "text/latex": [
              "$\\displaystyle 3125.0$"
            ],
            "text/plain": [
              "3125.00000000000"
            ]
          },
          "execution_count": 8,
          "metadata": {},
          "output_type": "execute_result"
        }
      ],
      "source": [
        "ht.rhs.subs(t, 62.5)"
      ]
    },
    {
      "cell_type": "code",
      "execution_count": 9,
      "metadata": {
        "colab": {
          "base_uri": "https://localhost:8080/",
          "height": 504
        },
        "id": "iDWKdJXMdtlB",
        "outputId": "bfb685ff-ac72-4c6b-f57e-a9ffd4f93b9d"
      },
      "outputs": [
        {
          "data": {
            "image/png": "[encoded data removed]",
            "text/plain": [
              "<Figure size 640x480 with 1 Axes>"
            ]
          },
          "metadata": {},
          "output_type": "display_data"
        },
        {
          "data": {
            "text/plain": [
              "<sympy.plotting.plot.Plot at 0x15b3d331b10>"
            ]
          },
          "execution_count": 9,
          "metadata": {},
          "output_type": "execute_result"
        }
      ],
      "source": [
        "plot(ht.rhs, (t, 0, 150))"
      ]
    },
    {
      "cell_type": "code",
      "execution_count": 10,
      "metadata": {
        "colab": {
          "base_uri": "https://localhost:8080/",
          "height": 504
        },
        "id": "cv52In_QeGdN",
        "outputId": "15af15ed-91b3-4569-cc01-75e2db737ab7"
      },
      "outputs": [
        {
          "data": {
            "image/png": "[encoded data removed]",
            "text/plain": [
              "<Figure size 640x480 with 1 Axes>"
            ]
          },
          "metadata": {},
          "output_type": "display_data"
        },
        {
          "data": {
            "text/plain": [
              "<sympy.plotting.plot.Plot at 0x15b55e41850>"
            ]
          },
          "execution_count": 10,
          "metadata": {},
          "output_type": "execute_result"
        }
      ],
      "source": [
        "plot(vt.rhs, (t, 0, 150))"
      ]
    },
    {
      "cell_type": "markdown",
      "metadata": {},
      "source": [
        "# ДЗ"
      ]
    },
    {
      "cell_type": "code",
      "execution_count": 11,
      "metadata": {
        "id": "CNfSNNhEiK-r"
      },
      "outputs": [],
      "source": [
        "k = 0.01"
      ]
    },
    {
      "cell_type": "code",
      "execution_count": null,
      "metadata": {
        "id": "COlireNLfwNl"
      },
      "outputs": [],
      "source": []
    }
  ],
  "metadata": {
    "colab": {
      "authorship_tag": "ABX9TyOYFf5ahhAyfFUCws09MLnV",
      "provenance": []
    },
    "kernelspec": {
      "display_name": "Python 3",
      "name": "python3"
    },
    "language_info": {
      "codemirror_mode": {
        "name": "ipython",
        "version": 3
      },
      "file_extension": ".py",
      "mimetype": "text/x-python",
      "name": "python",
      "nbconvert_exporter": "python",
      "pygments_lexer": "ipython3",
      "version": "3.11.5"
    }
  },
  "nbformat": 4,
  "nbformat_minor": 0
}
